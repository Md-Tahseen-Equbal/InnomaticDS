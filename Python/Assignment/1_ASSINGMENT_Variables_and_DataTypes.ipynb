{
  "cells": [
    {
      "cell_type": "markdown",
      "metadata": {
        "id": "22H0Y0sO_fTZ"
      },
      "source": [
        "# Assignment Instructions\n",
        "\n",
        "`Hello Innominion,`\n",
        "\n",
        "- **Try to attempt all the questions in every possible way.**\n",
        "- **Some other topics are required to solve some questions. don't panic.**\n",
        "- **Those questions can be answered after the topics are taught.**\n",
        "\n",
        "\n",
        "- `Join Mentoring Session for the Support/Doubts Resolving with Our Technical Mentors (2.00 PM - 6.00 PM  Mon-Sat)`\n",
        "\n",
        "Happy Learning !!!"
      ]
    },
    {
      "cell_type": "markdown",
      "metadata": {
        "id": "gGjIg6u9_fTb"
      },
      "source": [
        "## Basics of Python"
      ]
    },
    {
      "cell_type": "markdown",
      "metadata": {
        "id": "5fHjJCNz_fTb"
      },
      "source": [
        "> `Question:` Print your name"
      ]
    },
    {
      "cell_type": "code",
      "source": [
        "#CODE HERE"
      ],
      "metadata": {
        "id": "M1bjRWNINzq3"
      },
      "execution_count": null,
      "outputs": []
    },
    {
      "cell_type": "code",
      "execution_count": 1,
      "metadata": {
        "colab": {
          "base_uri": "https://localhost:8080/"
        },
        "id": "IbDaEWEd_fTc",
        "outputId": "732139ec-8d81-4dd2-a683-15ed46a2b55a"
      },
      "outputs": [
        {
          "output_type": "stream",
          "name": "stdout",
          "text": [
            "My Name is MD Tahseen Equbal\n"
          ]
        }
      ],
      "source": [
        "print(\"My Name is MD Tahseen Equbal\")"
      ]
    },
    {
      "cell_type": "markdown",
      "metadata": {
        "id": "Zi9DNdZk_fTd"
      },
      "source": [
        "> `Question:` What is a variable? Write a Few words about Variables. Create a Variable with an Example."
      ]
    },
    {
      "cell_type": "code",
      "source": [
        "#CODE HERE"
      ],
      "metadata": {
        "id": "jSTcfbnaN9L4"
      },
      "execution_count": null,
      "outputs": []
    },
    {
      "cell_type": "code",
      "execution_count": null,
      "metadata": {
        "id": "Kooec4y1_fTe"
      },
      "outputs": [],
      "source": [
        "# Variable is a container for storing Data Value"
      ]
    },
    {
      "cell_type": "code",
      "execution_count": 2,
      "metadata": {
        "colab": {
          "base_uri": "https://localhost:8080/"
        },
        "id": "BzKzRqB8_fTe",
        "outputId": "15547679-5f77-4513-ff35-fe9d5fc2cc3c"
      },
      "outputs": [
        {
          "output_type": "stream",
          "name": "stdout",
          "text": [
            "Hello, world!\n"
          ]
        }
      ],
      "source": [
        "# Creating a variable named 'message' and assigning it a string value\n",
        "message = \"Hello, world!\"\n",
        "\n",
        "# Printing the value stored in the 'message' variable\n",
        "print(message)"
      ]
    },
    {
      "cell_type": "markdown",
      "metadata": {
        "id": "dADufpO8_fTe"
      },
      "source": [
        ">`Question:` Assume that we execute the following assignment statements:\n",
        "width = 17\n",
        "height = 12.0\n",
        "delimiter = '.'\n",
        "For each of the following expressions, write the value of the expression and the type (of the value of\n",
        "the expression).\n",
        "1. width/2\n",
        "2. width/2.0\n",
        "3. height/3\n",
        "4. 1 + 2 * 5\n",
        "5. delimiter * 5"
      ]
    },
    {
      "cell_type": "code",
      "source": [
        "#CODE HERE"
      ],
      "metadata": {
        "id": "aEc5ABiqOAd3"
      },
      "execution_count": null,
      "outputs": []
    },
    {
      "cell_type": "code",
      "execution_count": 5,
      "metadata": {
        "colab": {
          "base_uri": "https://localhost:8080/"
        },
        "id": "5l-Jlnsp_fTf",
        "outputId": "5cb7cdf7-8e27-47bc-c2dc-05a1ab2dc7a5"
      },
      "outputs": [
        {
          "output_type": "stream",
          "name": "stdout",
          "text": [
            "a 8.5\n",
            "<class 'float'>\n",
            "b 8.5\n",
            "<class 'float'>\n",
            "c 4.0\n",
            "<class 'float'>\n",
            "d 21\n",
            "<class 'int'>\n"
          ]
        }
      ],
      "source": [
        "# Decalaring Varialbes\n",
        "width=17\n",
        "height=12.0\n",
        "delimiter=\".\"\n",
        "#Decalaring All Following Expression\n",
        "a=width/2\n",
        "b=width/2.0\n",
        "c=height/3\n",
        "d=1+4*5\n",
        "e=delimiter*5\n",
        "#Print all Expression value and Type\n",
        "print(\"a\", a)\n",
        "print(type(a))\n",
        "print(\"b\", b)\n",
        "print(type(b))\n",
        "print(\"c\", c)\n",
        "print(type(c))\n",
        "print(\"d\", d)\n",
        "print(type(d))\n"
      ]
    },
    {
      "cell_type": "raw",
      "metadata": {
        "id": "BPdUjfHi_fTf"
      },
      "source": [
        "# Sample Outputs\n",
        "1. width/2 = 8.5\n",
        "2. width/2.0 = 8.5\n",
        "3. height/3 = 4.0\n",
        "4. 11\n",
        "5. ....."
      ]
    },
    {
      "cell_type": "markdown",
      "metadata": {
        "id": "RuzMnQrt_fTf"
      },
      "source": [
        "> `Question:` Add two number by taking variable names as first and seccond"
      ]
    },
    {
      "cell_type": "code",
      "source": [
        "#CODE HERE"
      ],
      "metadata": {
        "id": "IDIzD_1jOECl"
      },
      "execution_count": null,
      "outputs": []
    },
    {
      "cell_type": "code",
      "execution_count": 6,
      "metadata": {
        "colab": {
          "base_uri": "https://localhost:8080/"
        },
        "id": "GZgFlry6_fTf",
        "outputId": "6b775350-0e1f-4b97-f3a3-2ce6366ab188"
      },
      "outputs": [
        {
          "output_type": "stream",
          "name": "stdout",
          "text": [
            "First Number is : 100\n",
            "Second Number is : 200\n",
            "Addition of two numbers are 300\n"
          ]
        }
      ],
      "source": [
        "#Declare Variable\n",
        "a = 100\n",
        "b = 200\n",
        "c = a+b\n",
        "#Print Summation and Number\n",
        "print(\"First Number is :\", a)\n",
        "print(\"Second Number is :\", b)\n",
        "print(\"Addition of two numbers are\", c)"
      ]
    },
    {
      "cell_type": "code",
      "execution_count": null,
      "metadata": {
        "id": "rhYUZFjr_fTg",
        "outputId": "4559538f-3640-43ff-bd04-b9e92656bd8a"
      },
      "outputs": [
        {
          "name": "stdout",
          "output_type": "stream",
          "text": [
            "first number is : 100\n",
            "second number is : 200\n",
            "Addition of two numbers are : 300\n"
          ]
        }
      ],
      "source": []
    },
    {
      "cell_type": "markdown",
      "metadata": {
        "id": "3Va1xsO8_fTg"
      },
      "source": [
        "> `Question:` Add your first name and second name"
      ]
    },
    {
      "cell_type": "code",
      "execution_count": null,
      "metadata": {
        "id": "O7gIG-6p_fTg"
      },
      "outputs": [],
      "source": [
        "# CODE HERE"
      ]
    },
    {
      "cell_type": "code",
      "execution_count": 9,
      "metadata": {
        "colab": {
          "base_uri": "https://localhost:8080/"
        },
        "id": "k6faTIzn_fTg",
        "outputId": "0a1bd133-6952-44a2-f260-9d9634ff5a1a"
      },
      "outputs": [
        {
          "output_type": "stream",
          "name": "stdout",
          "text": [
            "My first name is : MD Tahseen\n",
            "My second name is :  Equbal\n",
            "My Full name is  MD Tahseen Equbal\n"
          ]
        }
      ],
      "source": [
        "#Declare Variable\n",
        "a = \"MD Tahseen\"\n",
        "b = \" Equbal\"\n",
        "c = a + b\n",
        "#Print Concation and Name\n",
        "print(\"My first name is :\", a)\n",
        "print(\"My second name is :\", b)\n",
        "print(\"My Full name is \", c)"
      ]
    },
    {
      "cell_type": "code",
      "execution_count": null,
      "metadata": {
        "id": "XH6UsA3F_fTh"
      },
      "outputs": [],
      "source": []
    },
    {
      "cell_type": "markdown",
      "metadata": {
        "id": "Sf6myRc7_fTh"
      },
      "source": [
        "> `Question:` print the datatypes of the following\n",
        "- 10,'10',True,10.5"
      ]
    },
    {
      "cell_type": "code",
      "execution_count": null,
      "metadata": {
        "id": "sUVvb7vc_fTh"
      },
      "outputs": [],
      "source": [
        "# CODE HERE"
      ]
    },
    {
      "cell_type": "code",
      "execution_count": 15,
      "metadata": {
        "colab": {
          "base_uri": "https://localhost:8080/"
        },
        "id": "xyXBEHnz_fTh",
        "outputId": "774a21df-9199-4146-9ded-e55f75495f43"
      },
      "outputs": [
        {
          "output_type": "stream",
          "name": "stdout",
          "text": [
            "10\n",
            "<class 'int'>\n",
            "10\n",
            "<class 'str'>\n",
            "True\n",
            "<class 'bool'>\n",
            "10.5\n",
            "<class 'float'>\n"
          ]
        }
      ],
      "source": [
        "a,b,c,d = 10 , \"10\" , True , 10.5\n",
        "print(a)\n",
        "print(type(a))\n",
        "print(b)\n",
        "print(type(b))\n",
        "print(c)\n",
        "print(type(c))\n",
        "print(d)\n",
        "print(type(d))"
      ]
    },
    {
      "cell_type": "markdown",
      "metadata": {
        "id": "aFDLgUY2_fTh"
      },
      "source": [
        " `Question:`\n",
        "> - num_int = 123\n",
        "> - num_str = \"456\"\n",
        "> - Add num_int and num_str\n",
        "- `hint: first need to convert num_str into integer`"
      ]
    },
    {
      "cell_type": "code",
      "execution_count": null,
      "metadata": {
        "id": "VsX0qVM0_fTi"
      },
      "outputs": [],
      "source": [
        "# CODE HERE"
      ]
    },
    {
      "cell_type": "code",
      "execution_count": 17,
      "metadata": {
        "colab": {
          "base_uri": "https://localhost:8080/"
        },
        "id": "P4Tj68xt_fTi",
        "outputId": "8d148eec-9e97-44ff-da32-59ef5ec61356"
      },
      "outputs": [
        {
          "output_type": "stream",
          "name": "stdout",
          "text": [
            "Addition of 123 and 456  is :  579\n"
          ]
        }
      ],
      "source": [
        "#Declaring Variable\n",
        "num_int = 123\n",
        "num_str = \"456\"\n",
        "#Converting String into Integer and store in new variable 'a'\n",
        "a = int(num_str)\n",
        "#Perform Add Operation\n",
        "c = num_int + a\n",
        "print(\"Addition of 123 and 456  is : \",c)\n"
      ]
    },
    {
      "cell_type": "code",
      "execution_count": null,
      "metadata": {
        "id": "v7rxDcVl_fTi"
      },
      "outputs": [],
      "source": []
    },
    {
      "cell_type": "markdown",
      "metadata": {
        "id": "tQ5IV4ik_fTi"
      },
      "source": [
        "### Advanced Questions"
      ]
    },
    {
      "cell_type": "markdown",
      "metadata": {
        "id": "GLTo4OyL_fTi"
      },
      "source": [
        "> `Question:` The volume of a sphere with radius r is  4/3πr3  . What is the volume of a sphere with radius 5?"
      ]
    },
    {
      "cell_type": "code",
      "execution_count": null,
      "metadata": {
        "id": "-DrYwj2e_fTj"
      },
      "outputs": [],
      "source": [
        "# CODE HERE"
      ]
    },
    {
      "cell_type": "code",
      "source": [
        "#Declare varible\n",
        "r = 5\n",
        "pi = 3.14\n",
        "volume = 4/3*pi*r**3\n",
        "print(\"Volume of Sphere : \",volume)"
      ],
      "metadata": {
        "colab": {
          "base_uri": "https://localhost:8080/"
        },
        "id": "CVndMUGZJ3xN",
        "outputId": "7dcc7e1e-265e-4e75-eb6b-d95dd2e02f34"
      },
      "execution_count": 19,
      "outputs": [
        {
          "output_type": "stream",
          "name": "stdout",
          "text": [
            "Volume of Sphere :  523.3333333333334\n"
          ]
        }
      ]
    },
    {
      "cell_type": "markdown",
      "metadata": {
        "id": "GcigTq2f_fTj"
      },
      "source": [
        "> `Question:` Suppose the cover price of a book is Rs.24.95, but bookstores get a 40% discount. Shipping costs Rs.3 for the first copy and 75 paise for each additional copy. What is the total wholesale cost for 60 copies?"
      ]
    },
    {
      "cell_type": "code",
      "execution_count": null,
      "metadata": {
        "id": "Xlm7QWk8_fTj"
      },
      "outputs": [],
      "source": [
        "# CODE HERE"
      ]
    },
    {
      "cell_type": "code",
      "execution_count": 20,
      "metadata": {
        "colab": {
          "base_uri": "https://localhost:8080/"
        },
        "id": "mqgPJLmg_fTj",
        "outputId": "9faba0ae-f466-406a-fca6-66696e3cbdef"
      },
      "outputs": [
        {
          "output_type": "stream",
          "name": "stdout",
          "text": [
            "Cover Price : 24.95\n",
            "Discount Percentage : 0.4\n",
            "Discount Amount : 9.98\n",
            "Discounted Price : 14.969999999999999\n",
            "Number of copies : 60\n",
            "Total wholesale cost for 60 copies: Rs. 945.4499999999999\n"
          ]
        }
      ],
      "source": [
        "# Define the cover price of the book\n",
        "cover_price = 24.95\n",
        "print(\"Cover Price :\",cover_price)\n",
        "\n",
        "# Define the discount percentage\n",
        "discount_percentage = 0.40\n",
        "print('Discount Percentage :', discount_percentage)\n",
        "\n",
        "# Calculate the discount amount\n",
        "discount_amount = cover_price * discount_percentage\n",
        "print('Discount Amount :', discount_amount)\n",
        "\n",
        "# Calculate the discounted price of one book\n",
        "discounted_price = cover_price - discount_amount\n",
        "print('Discounted Price :', discounted_price)\n",
        "\n",
        "# Define the number of copies\n",
        "number_of_copies = 60\n",
        "print('Number of copies :', number_of_copies)\n",
        "\n",
        "# Calculate the total cost for 60 copies\n",
        "total_cost = (discounted_price * number_of_copies) + 3 + (0.75 * (number_of_copies - 1))\n",
        "\n",
        "# Print the total wholesale cost\n",
        "print(\"Total wholesale cost for 60 copies: Rs.\", total_cost)\n"
      ]
    },
    {
      "cell_type": "code",
      "execution_count": null,
      "metadata": {
        "id": "WATXZwGZ_fTj"
      },
      "outputs": [],
      "source": []
    },
    {
      "cell_type": "markdown",
      "metadata": {
        "id": "Cta6omM5_fTj"
      },
      "source": [
        "# [Innomatics Research Labs](https:/innomatics.in/)\n",
        "[www.innomatics.in](https:/innomatics.in/)"
      ]
    }
  ],
  "metadata": {
    "kernelspec": {
      "display_name": "Python 3",
      "language": "python",
      "name": "python3"
    },
    "language_info": {
      "codemirror_mode": {
        "name": "ipython",
        "version": 3
      },
      "file_extension": ".py",
      "mimetype": "text/x-python",
      "name": "python",
      "nbconvert_exporter": "python",
      "pygments_lexer": "ipython3",
      "version": "3.8.5"
    },
    "colab": {
      "provenance": []
    }
  },
  "nbformat": 4,
  "nbformat_minor": 0
}