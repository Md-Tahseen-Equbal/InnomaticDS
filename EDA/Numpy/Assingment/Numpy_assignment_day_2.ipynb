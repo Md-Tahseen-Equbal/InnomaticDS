{
  "nbformat": 4,
  "nbformat_minor": 0,
  "metadata": {
    "colab": {
      "provenance": []
    },
    "kernelspec": {
      "name": "python3",
      "display_name": "Python 3"
    },
    "language_info": {
      "name": "python"
    }
  },
  "cells": [
    {
      "cell_type": "markdown",
      "source": [
        "### NumPy Exercises\n",
        "##### Now that we've learned about NumPy let's test your knowledge. We'll start off with a few simple tasks and then you'll be asked some more complicated questions.\n",
        "##### IMPORTANT NOTE! Make sure you don't run the cells directly above the example output shown, otherwise you will end up writing over the example output!"
      ],
      "metadata": {
        "id": "KRH0lpS88abX"
      }
    },
    {
      "cell_type": "markdown",
      "source": [
        "##### import numpy as np\n"
      ],
      "metadata": {
        "id": "9KzpS47XBTWm"
      }
    },
    {
      "cell_type": "markdown",
      "source": [
        "###### 1. Write a NumPy program to find the missing data in a given array."
      ],
      "metadata": {
        "id": "V6ntuSvDBZ2G"
      }
    },
    {
      "cell_type": "code",
      "execution_count": 7,
      "metadata": {
        "id": "Z94k4mpaBClu",
        "colab": {
          "base_uri": "https://localhost:8080/"
        },
        "outputId": "a61265cb-5016-4099-e9b3-63c81ae22bfc"
      },
      "outputs": [
        {
          "output_type": "stream",
          "name": "stdout",
          "text": [
            "Original array:\n",
            "[[ 3.  2. nan  1.]\n",
            " [10. 12. 10.  9.]\n",
            " [ 5. nan  1. nan]]\n",
            "\n",
            "Find the missing data of the said array:\n",
            "[[False False  True False]\n",
            " [False False False False]\n",
            " [False  True False  True]]\n"
          ]
        }
      ],
      "source": [
        "# Original array\n",
        "original_array = np.array([[ 3.,  2., np.nan,  1.],\n",
        "                           [10., 12., 10.,   9.],\n",
        "                           [ 5., np.nan,  1., np.nan]])\n",
        "\n",
        "print(\"Original array:\")\n",
        "print(original_array)\n",
        "\n",
        "# Find the missing data in the array\n",
        "missing_data = np.isnan(original_array)\n",
        "\n",
        "print(\"\\nFind the missing data of the said array:\")\n",
        "print(missing_data)"
      ]
    },
    {
      "cell_type": "code",
      "source": [
        "## sample output"
      ],
      "metadata": {
        "colab": {
          "base_uri": "https://localhost:8080/"
        },
        "id": "yAazoe4kBfJ-",
        "outputId": "2439fd36-9243-49e0-ef2a-f19dca335a17"
      },
      "execution_count": null,
      "outputs": [
        {
          "output_type": "stream",
          "name": "stdout",
          "text": [
            "Original array:\n",
            "[[ 3.  2. nan  1.]\n",
            " [10. 12. 10.  9.]\n",
            " [ 5. nan  1. nan]]\n",
            "\n",
            "Find the missing data of the said array:\n",
            "[[False False  True False]\n",
            " [False False False False]\n",
            " [False  True False  True]]\n"
          ]
        }
      ]
    },
    {
      "cell_type": "markdown",
      "source": [
        "##### 2. Write a NumPy program to check whether two arrays are equal (element wise) or not."
      ],
      "metadata": {
        "id": "jT038BYtB0la"
      }
    },
    {
      "cell_type": "code",
      "source": [
        "### code here\n",
        "# Define two sample arrays\n",
        "array1 = np.array([1, 2, 3, 4, 5])\n",
        "array2 = np.array([1, 2, 3, 4, 5])\n",
        "\n",
        "# Check if arrays are equal element-wise\n",
        "are_equal = np.array_equal(array1, array2)\n",
        "if are_equal:\n",
        "    print(\"The arrays are equal element-wise.\")\n",
        "else:\n",
        "    print(\"The arrays are not equal element-wise.\")"
      ],
      "metadata": {
        "id": "0aJczGNjBfL1",
        "colab": {
          "base_uri": "https://localhost:8080/"
        },
        "outputId": "39b8adb3-8b0d-4445-ba8a-1dd6539e6064"
      },
      "execution_count": 4,
      "outputs": [
        {
          "output_type": "stream",
          "name": "stdout",
          "text": [
            "The arrays are equal element-wise.\n"
          ]
        }
      ]
    },
    {
      "cell_type": "markdown",
      "source": [
        "###### 3. Write a NumPy program to create a 4x4 array with random values, now create a new array from the said array swapping first and last rows."
      ],
      "metadata": {
        "id": "XhX1H1M_CI7S"
      }
    },
    {
      "cell_type": "code",
      "source": [
        "# Original array\n",
        "original_array = np.array([[ 0,  1,  2,  3],\n",
        "                           [ 4,  5,  6,  7],\n",
        "                           [ 8,  9, 10, 11],\n",
        "                           [12, 13, 14, 15]])\n",
        "\n",
        "print(\"Original array:\")\n",
        "print(original_array)\n",
        "\n",
        "# Create a new array by swapping first and last rows\n",
        "swapped_array = original_array.copy()  # Make a copy to preserve the original array\n",
        "swapped_array[[0, -1]] = swapped_array[[-1, 0]]\n",
        "\n",
        "print(\"\\nArray after swapping first and last rows:\")\n",
        "print(swapped_array)"
      ],
      "metadata": {
        "id": "3HazIhbtBfOq",
        "colab": {
          "base_uri": "https://localhost:8080/"
        },
        "outputId": "df0337c3-f664-40d7-c0fa-9341e03aef10"
      },
      "execution_count": 6,
      "outputs": [
        {
          "output_type": "stream",
          "name": "stdout",
          "text": [
            "Original array:\n",
            "[[ 0  1  2  3]\n",
            " [ 4  5  6  7]\n",
            " [ 8  9 10 11]\n",
            " [12 13 14 15]]\n",
            "\n",
            "Array after swapping first and last rows:\n",
            "[[12 13 14 15]\n",
            " [ 4  5  6  7]\n",
            " [ 8  9 10 11]\n",
            " [ 0  1  2  3]]\n"
          ]
        }
      ]
    },
    {
      "cell_type": "code",
      "source": [
        "## sample output"
      ],
      "metadata": {
        "colab": {
          "base_uri": "https://localhost:8080/"
        },
        "id": "FFNk8me9BfRL",
        "outputId": "10d0f2d3-97b5-4a46-ff16-44136e72c9d9"
      },
      "execution_count": null,
      "outputs": [
        {
          "output_type": "stream",
          "name": "stdout",
          "text": [
            "Original array:\n",
            "[[ 0  1  2  3]\n",
            " [ 4  5  6  7]\n",
            " [ 8  9 10 11]\n",
            " [12 13 14 15]]\n",
            "\n",
            "New array after swapping first and last rows of the said array:\n",
            "[[12 13 14 15]\n",
            " [ 8  9 10 11]\n",
            " [ 4  5  6  7]\n",
            " [ 0  1  2  3]]\n"
          ]
        }
      ]
    },
    {
      "cell_type": "markdown",
      "source": [
        "###### 4. Write a NumPy program to convert a list and tuple into arrays."
      ],
      "metadata": {
        "id": "BYgy22u_kqsB"
      }
    },
    {
      "cell_type": "code",
      "source": [
        "#### code here\n",
        "# Convert a list to a NumPy array\n",
        "list_data = [1, 2, 3, 4, 5]\n",
        "array_from_list = np.array(list_data)\n",
        "\n",
        "print(\"Array from list:\")\n",
        "print(array_from_list)\n",
        "\n",
        "# Convert a tuple to a NumPy array\n",
        "tuple_data = (6, 7, 8, 9, 10)\n",
        "array_from_tuple = np.array(tuple_data)\n",
        "\n",
        "print(\"\\nArray from tuple:\")\n",
        "print(array_from_tuple)"
      ],
      "metadata": {
        "id": "Hgmgw7J2BfUQ",
        "colab": {
          "base_uri": "https://localhost:8080/"
        },
        "outputId": "6cd72af9-acff-44a1-b4e0-c4c59f2a16cc"
      },
      "execution_count": 8,
      "outputs": [
        {
          "output_type": "stream",
          "name": "stdout",
          "text": [
            "Array from list:\n",
            "[1 2 3 4 5]\n",
            "\n",
            "Array from tuple:\n",
            "[ 6  7  8  9 10]\n"
          ]
        }
      ]
    },
    {
      "cell_type": "markdown",
      "source": [
        "###### 5. Write a NumPy program to find common values between two arrays."
      ],
      "metadata": {
        "id": "jzp2hg44k5O0"
      }
    },
    {
      "cell_type": "code",
      "source": [
        "### code here\n",
        "# Define two arrays\n",
        "array1 = np.array([1, 2, 3, 4, 5])\n",
        "array2 = np.array([3, 4, 5, 6, 7])\n",
        "\n",
        "# Find common values between the two arrays\n",
        "common_values = np.intersect1d(array1, array2)\n",
        "\n",
        "print(\"Common values between the two arrays:\")\n",
        "print(common_values)"
      ],
      "metadata": {
        "id": "1QMJVl3LBfWm",
        "colab": {
          "base_uri": "https://localhost:8080/"
        },
        "outputId": "9fe5e545-c18a-46c4-cd6f-4e93514f4f6b"
      },
      "execution_count": 9,
      "outputs": [
        {
          "output_type": "stream",
          "name": "stdout",
          "text": [
            "Common values between the two arrays:\n",
            "[3 4 5]\n"
          ]
        }
      ]
    },
    {
      "cell_type": "markdown",
      "source": [
        "###### 6. Write a NumPy program to create a new shape to an array without changing its data."
      ],
      "metadata": {
        "id": "Llt6X9k66TMD"
      }
    },
    {
      "cell_type": "code",
      "source": [
        "# Original arrays\n",
        "array1 = np.array([[1, 2],\n",
        "                   [3, 4],\n",
        "                   [5, 6]])\n",
        "\n",
        "array2 = np.array([[1, 2, 3],\n",
        "                   [4, 5, 6]])\n",
        "\n",
        "print(\"Original 3x2 array:\")\n",
        "print(array1)\n",
        "\n",
        "print(\"\\nReshaped to 2x3:\")\n",
        "reshaped_array1 = np.reshape(array1, (2, 3))\n",
        "print(reshaped_array1)\n",
        "\n",
        "print(\"\\nOriginal 2x3 array:\")\n",
        "print(array2)\n",
        "\n",
        "print(\"\\nReshaped to 3x2:\")\n",
        "reshaped_array2 = np.reshape(array2, (3, 2))\n",
        "print(reshaped_array2)"
      ],
      "metadata": {
        "id": "rNh8SssUBfZQ",
        "colab": {
          "base_uri": "https://localhost:8080/"
        },
        "outputId": "3e93f681-4002-42a8-f086-43cb512d4a2d"
      },
      "execution_count": 11,
      "outputs": [
        {
          "output_type": "stream",
          "name": "stdout",
          "text": [
            "Original 3x2 array:\n",
            "[[1 2]\n",
            " [3 4]\n",
            " [5 6]]\n",
            "\n",
            "Reshaped to 2x3:\n",
            "[[1 2 3]\n",
            " [4 5 6]]\n",
            "\n",
            "Original 2x3 array:\n",
            "[[1 2 3]\n",
            " [4 5 6]]\n",
            "\n",
            "Reshaped to 3x2:\n",
            "[[1 2]\n",
            " [3 4]\n",
            " [5 6]]\n"
          ]
        }
      ]
    },
    {
      "cell_type": "code",
      "source": [
        "### sample output"
      ],
      "metadata": {
        "colab": {
          "base_uri": "https://localhost:8080/"
        },
        "id": "1yNEqa9pBfch",
        "outputId": "2377437d-096d-43cd-ca44-1d00a7db04b3"
      },
      "execution_count": null,
      "outputs": [
        {
          "output_type": "stream",
          "name": "stdout",
          "text": [
            "Reshape 3x2:\n",
            "[[1 2]\n",
            " [3 4]\n",
            " [5 6]]\n",
            "Reshape 2x3:\n",
            "[[1 2 3]\n",
            " [4 5 6]]\n"
          ]
        }
      ]
    },
    {
      "cell_type": "markdown",
      "source": [
        "###### 7. Write a NumPy program to count the frequency of unique values in numpy array."
      ],
      "metadata": {
        "id": "nf03MRSR7JFB"
      }
    },
    {
      "cell_type": "code",
      "source": [
        "### code here\n",
        "\n",
        "# Original array\n",
        "original_array = np.array([10, 10, 20, 10, 20, 20, 20, 30, 30, 50, 40, 40])\n",
        "\n",
        "print(\"Original array:\")\n",
        "print(original_array)\n",
        "\n",
        "# Get unique values and their counts\n",
        "unique_values, counts = np.unique(original_array, return_counts=True)\n",
        "\n",
        "# Create an array with unique values and their frequencies\n",
        "frequency_array = np.array([unique_values, counts])\n",
        "\n",
        "print(\"\\nFrequency of unique values of the said array:\")\n",
        "print(frequency_array)"
      ],
      "metadata": {
        "id": "NqJxDKOs6dZN",
        "colab": {
          "base_uri": "https://localhost:8080/"
        },
        "outputId": "dc10ac17-7554-4ff7-c90e-d0a0e1acbe59"
      },
      "execution_count": 12,
      "outputs": [
        {
          "output_type": "stream",
          "name": "stdout",
          "text": [
            "Original array:\n",
            "[10 10 20 10 20 20 20 30 30 50 40 40]\n",
            "\n",
            "Frequency of unique values of the said array:\n",
            "[[10 20 30 40 50]\n",
            " [ 3  4  2  2  1]]\n"
          ]
        }
      ]
    },
    {
      "cell_type": "code",
      "source": [
        "## sample output"
      ],
      "metadata": {
        "colab": {
          "base_uri": "https://localhost:8080/"
        },
        "id": "ElvUfhXV6db6",
        "outputId": "61b70809-412a-472b-d7ca-c513b54150b5"
      },
      "execution_count": null,
      "outputs": [
        {
          "output_type": "stream",
          "name": "stdout",
          "text": [
            "Original array:\n",
            "[10 10 20 10 20 20 20 30 30 50 40 40]\n",
            "Frequency of unique values of the said array:\n",
            "[[10 20 30 40 50]\n",
            " [ 3  4  2  2  1]]\n"
          ]
        }
      ]
    },
    {
      "cell_type": "markdown",
      "source": [
        "###### 8. Write a NumPy program to broadcast on different shapes of arrays where p(3,3) + q(3)."
      ],
      "metadata": {
        "id": "a5wvDisr9SGS"
      }
    },
    {
      "cell_type": "code",
      "source": [
        "### code here\n",
        "# Original arrays\n",
        "array1 = np.array([[0, 0, 0],\n",
        "                   [1, 2, 3],\n",
        "                   [4, 5, 6]])\n",
        "\n",
        "array2 = np.array([10, 11, 12])\n",
        "\n",
        "print(\"Array-1:\")\n",
        "print(array1)\n",
        "\n",
        "print(\"\\nArray-2:\")\n",
        "print(array2)\n",
        "\n",
        "# Expand dimensions of array2 to match the shape of array1\n",
        "expanded_array2 = np.expand_dims(array2, axis=0)\n",
        "\n",
        "# Perform broadcasting and addition\n",
        "result = array1 + expanded_array2\n",
        "\n",
        "print(\"\\nNew Array:\")\n",
        "print(result)"
      ],
      "metadata": {
        "id": "B3hjEaCw6dfJ",
        "colab": {
          "base_uri": "https://localhost:8080/"
        },
        "outputId": "46d8cf74-1f89-4f35-850b-2c74604a883c"
      },
      "execution_count": 13,
      "outputs": [
        {
          "output_type": "stream",
          "name": "stdout",
          "text": [
            "Array-1:\n",
            "[[0 0 0]\n",
            " [1 2 3]\n",
            " [4 5 6]]\n",
            "\n",
            "Array-2:\n",
            "[10 11 12]\n",
            "\n",
            "New Array:\n",
            "[[10 11 12]\n",
            " [11 13 15]\n",
            " [14 16 18]]\n"
          ]
        }
      ]
    },
    {
      "cell_type": "code",
      "source": [
        "## sample output"
      ],
      "metadata": {
        "colab": {
          "base_uri": "https://localhost:8080/"
        },
        "id": "0lteZrS-6dh0",
        "outputId": "e6a565a0-e734-4c5f-8705-ccb3f9c12270"
      },
      "execution_count": null,
      "outputs": [
        {
          "output_type": "stream",
          "name": "stdout",
          "text": [
            "Original arrays:\n",
            "Array-1\n",
            "[[0 0 0]\n",
            " [1 2 3]\n",
            " [4 5 6]]\n",
            "Array-2\n",
            "[10 11 12]\n",
            "\n",
            "New Array:\n",
            "[[10 11 12]\n",
            " [11 13 15]\n",
            " [14 16 18]]\n"
          ]
        }
      ]
    },
    {
      "cell_type": "markdown",
      "source": [
        "###### 9. Write a NumPy program to extract all the elements of the second row from a given (4x4) array."
      ],
      "metadata": {
        "id": "W9mCoSxU92BL"
      }
    },
    {
      "cell_type": "code",
      "source": [
        "### code here\n",
        "# Original array\n",
        "original_array = np.array([[ 0,  1,  2,  3],\n",
        "                           [ 4,  5,  6,  7],\n",
        "                           [ 8,  9, 10, 11],\n",
        "                           [12, 13, 14, 15]])\n",
        "\n",
        "print(\"Original array:\")\n",
        "print(original_array)\n",
        "\n",
        "# Extract the second row\n",
        "second_row = original_array[1]\n",
        "\n",
        "print(\"\\nExtracted data: Second row\")\n",
        "print(second_row)"
      ],
      "metadata": {
        "id": "V88Mi3yhBfgI",
        "colab": {
          "base_uri": "https://localhost:8080/"
        },
        "outputId": "ed000fb6-8030-4b1c-8a85-5b69a6f2a286"
      },
      "execution_count": 14,
      "outputs": [
        {
          "output_type": "stream",
          "name": "stdout",
          "text": [
            "Original array:\n",
            "[[ 0  1  2  3]\n",
            " [ 4  5  6  7]\n",
            " [ 8  9 10 11]\n",
            " [12 13 14 15]]\n",
            "\n",
            "Extracted data: Second row\n",
            "[4 5 6 7]\n"
          ]
        }
      ]
    },
    {
      "cell_type": "code",
      "source": [
        "import numpy as np\n",
        "arra_data = np.arange(0,16).reshape((4, 4))\n",
        "print(\"Original array:\")\n",
        "print(arra_data)\n",
        "print(\"\\nExtracted data: Second row\")\n",
        "print(arra_data[1,:])"
      ],
      "metadata": {
        "colab": {
          "base_uri": "https://localhost:8080/"
        },
        "id": "ybbGis1E91S8",
        "outputId": "42123911-acc4-47c0-ccd1-be25b3b76737"
      },
      "execution_count": null,
      "outputs": [
        {
          "output_type": "stream",
          "name": "stdout",
          "text": [
            "Original array:\n",
            "[[ 0  1  2  3]\n",
            " [ 4  5  6  7]\n",
            " [ 8  9 10 11]\n",
            " [12 13 14 15]]\n",
            "\n",
            "Extracted data: Second row\n",
            "[4 5 6 7]\n"
          ]
        }
      ]
    },
    {
      "cell_type": "markdown",
      "source": [
        "###### 10. Write a NumPy program to extract third and fourth elements of the first and second rows from a given (4x4) array."
      ],
      "metadata": {
        "id": "t76Rc47gATll"
      }
    },
    {
      "cell_type": "code",
      "source": [
        "## code here\n",
        "# Original array\n",
        "original_array = np.array([[ 0,  1,  2,  3],\n",
        "                           [ 4,  5,  6,  7],\n",
        "                           [ 8,  9, 10, 11],\n",
        "                           [12, 13, 14, 15]])\n",
        "\n",
        "print(\"Original array:\")\n",
        "print(original_array)\n",
        "\n",
        "# Extract third and fourth elements of the first and second rows\n",
        "extracted_data = original_array[:2, 2:]\n",
        "\n",
        "print(\"\\nExtracted data: Third and fourth elements of the first and second rows\")\n",
        "print(extracted_data)"
      ],
      "metadata": {
        "id": "tLyK4ieP91V_",
        "colab": {
          "base_uri": "https://localhost:8080/"
        },
        "outputId": "028bd497-570e-4891-b247-8efdacfc548c"
      },
      "execution_count": 15,
      "outputs": [
        {
          "output_type": "stream",
          "name": "stdout",
          "text": [
            "Original array:\n",
            "[[ 0  1  2  3]\n",
            " [ 4  5  6  7]\n",
            " [ 8  9 10 11]\n",
            " [12 13 14 15]]\n",
            "\n",
            "Extracted data: Third and fourth elements of the first and second rows\n",
            "[[2 3]\n",
            " [6 7]]\n"
          ]
        }
      ]
    },
    {
      "cell_type": "code",
      "source": [
        "## sample output\n"
      ],
      "metadata": {
        "colab": {
          "base_uri": "https://localhost:8080/"
        },
        "id": "WzHXmOQ091Y1",
        "outputId": "ca0f6059-f622-4e59-c563-96b95ef291fa"
      },
      "execution_count": null,
      "outputs": [
        {
          "output_type": "stream",
          "name": "stdout",
          "text": [
            "Original array:\n",
            "[[ 0  1  2  3]\n",
            " [ 4  5  6  7]\n",
            " [ 8  9 10 11]\n",
            " [12 13 14 15]]\n",
            "\n",
            "Extracted data: Third and fourth elements of the first and second rows \n",
            "[[2 3]\n",
            " [6 7]]\n"
          ]
        }
      ]
    },
    {
      "cell_type": "markdown",
      "source": [
        "###### 11. Write a NumPy program to get the dates of yesterday, today and tomorrow."
      ],
      "metadata": {
        "id": "mES8f4RDFxtM"
      }
    },
    {
      "cell_type": "code",
      "source": [
        "### code here\n",
        "from datetime import datetime, timedelta\n",
        "\n",
        "# Get today's date\n",
        "today = datetime.now().date()\n",
        "\n",
        "# Calculate yesterday and tomorrow\n",
        "yesterday = today - timedelta(days=1)\n",
        "tomorrow = today + timedelta(days=1)\n",
        "\n",
        "# Convert dates to NumPy datetime64 format\n",
        "today_np = np.datetime64(today)\n",
        "yesterday_np = np.datetime64(yesterday)\n",
        "tomorrow_np = np.datetime64(tomorrow)\n",
        "\n",
        "print(\"Yesterday:\", yesterday_np)\n",
        "print(\"Today:\", today_np)\n",
        "print(\"Tomorrow:\", tomorrow_np)"
      ],
      "metadata": {
        "id": "fyBw7Uo-Aoad",
        "colab": {
          "base_uri": "https://localhost:8080/"
        },
        "outputId": "425fb0d8-96cf-4f8a-d1c2-43118a9976e9"
      },
      "execution_count": 16,
      "outputs": [
        {
          "output_type": "stream",
          "name": "stdout",
          "text": [
            "Yesterday: 2024-05-29\n",
            "Today: 2024-05-30\n",
            "Tomorrow: 2024-05-31\n"
          ]
        }
      ]
    },
    {
      "cell_type": "markdown",
      "source": [
        "###### 12. Write a NumPy program to find the first Monday in May 2017."
      ],
      "metadata": {
        "id": "-y3xiL7_GZ3D"
      }
    },
    {
      "cell_type": "code",
      "source": [
        "## code here\n",
        "# Define the date range for May 2017\n",
        "start_date = np.datetime64('2017-05-01')\n",
        "end_date = np.datetime64('2017-05-31')\n",
        "\n",
        "# Find the first Monday in May 2017\n",
        "first_monday = np.busday_offset(start_date, 0, roll='forward', weekmask='Mon')\n",
        "\n",
        "print(\"The first Monday in May 2017:\\n\", first_monday)"
      ],
      "metadata": {
        "id": "roe76-pSGNX4",
        "colab": {
          "base_uri": "https://localhost:8080/"
        },
        "outputId": "8c3547a1-ad9e-468d-fa62-42fd3aa6e23b"
      },
      "execution_count": 18,
      "outputs": [
        {
          "output_type": "stream",
          "name": "stdout",
          "text": [
            "The first Monday in May 2017:\n",
            " 2017-05-01\n"
          ]
        }
      ]
    },
    {
      "cell_type": "code",
      "source": [
        "## sample output"
      ],
      "metadata": {
        "colab": {
          "base_uri": "https://localhost:8080/"
        },
        "id": "gF_q2GENGNat",
        "outputId": "1d5a4aec-f19b-4a2d-9122-57c49d7fa6d2"
      },
      "execution_count": null,
      "outputs": [
        {
          "output_type": "stream",
          "name": "stdout",
          "text": [
            "First Monday in May 2017:\n",
            "2017-05-01\n"
          ]
        }
      ]
    },
    {
      "cell_type": "code",
      "source": [],
      "metadata": {
        "id": "n94g4wnlGe2o"
      },
      "execution_count": null,
      "outputs": []
    }
  ]
}