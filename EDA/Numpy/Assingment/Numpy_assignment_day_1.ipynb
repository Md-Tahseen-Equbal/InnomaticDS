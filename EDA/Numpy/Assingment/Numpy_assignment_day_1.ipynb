{
  "nbformat": 4,
  "nbformat_minor": 0,
  "metadata": {
    "colab": {
      "provenance": []
    },
    "kernelspec": {
      "name": "python3",
      "display_name": "Python 3"
    },
    "language_info": {
      "name": "python"
    }
  },
  "cells": [
    {
      "cell_type": "markdown",
      "source": [
        "### NumPy Exercises\n",
        "##### Now that we've learned about NumPy let's test your knowledge. We'll start off with a few simple tasks and then you'll be asked some more complicated questions.\n",
        "##### IMPORTANT NOTE! Make sure you don't run the cells directly above the example output shown, otherwise you will end up writing over the example output!"
      ],
      "metadata": {
        "id": "F6px4MSR51Gu"
      }
    },
    {
      "cell_type": "code",
      "execution_count": 1,
      "metadata": {
        "id": "Qe-tLGBa2sNS"
      },
      "outputs": [],
      "source": [
        "import numpy as np"
      ]
    },
    {
      "cell_type": "markdown",
      "source": [
        "#####1.  Write a NumPy program to create an array of 10 zeros,10 ones, 10 fives."
      ],
      "metadata": {
        "id": "TAAoEMyE6bj6"
      }
    },
    {
      "cell_type": "code",
      "source": [
        "### code here\n",
        "\n",
        "# Create arrays\n",
        "zeros_array = np.zeros(10)\n",
        "print(\" An array of 10 zeros :\\n\", zeros_array)\n",
        "ones_array = np.ones(10)\n",
        "print(\" An array of 10 ones :\\n\", ones_array)\n",
        "fives_array = np.ones(10) * 5\n",
        "print(\" An array of 10 Fives :\\n\", fives_array)\n"
      ],
      "metadata": {
        "id": "_BxASjIo6B1X",
        "colab": {
          "base_uri": "https://localhost:8080/"
        },
        "outputId": "fe00cc80-b40e-47ee-b23f-b857db7bb330"
      },
      "execution_count": 7,
      "outputs": [
        {
          "output_type": "stream",
          "name": "stdout",
          "text": [
            " An array of 10 zeros :\n",
            " [0. 0. 0. 0. 0. 0. 0. 0. 0. 0.]\n",
            " An array of 10 ones :\n",
            " [1. 1. 1. 1. 1. 1. 1. 1. 1. 1.]\n",
            " An array of 10 Fives :\n",
            " [5. 5. 5. 5. 5. 5. 5. 5. 5. 5.]\n"
          ]
        }
      ]
    },
    {
      "cell_type": "code",
      "source": [
        "## sample output"
      ],
      "metadata": {
        "colab": {
          "base_uri": "https://localhost:8080/"
        },
        "id": "yqbzsu4R7S_E",
        "outputId": "30cdd8f5-1873-4993-f8c8-7ab6cd7729f8"
      },
      "execution_count": null,
      "outputs": [
        {
          "output_type": "stream",
          "name": "stdout",
          "text": [
            "An array of 10 zeros:\n",
            "[0. 0. 0. 0. 0. 0. 0. 0. 0. 0.]\n",
            "An array of 10 ones:\n",
            "[1. 1. 1. 1. 1. 1. 1. 1. 1. 1.]\n",
            "An array of 10 fives:\n",
            "[5. 5. 5. 5. 5. 5. 5. 5. 5. 5.]\n"
          ]
        }
      ]
    },
    {
      "cell_type": "markdown",
      "source": [
        "#####2.  Write a NumPy program to create an array of the integers from 30 to 70."
      ],
      "metadata": {
        "id": "6gbrDc0_6ja8"
      }
    },
    {
      "cell_type": "code",
      "source": [
        "### code here\n",
        "array_30_to_70 = np.arange(30, 71)\n",
        "print(' Array of the Integers from 30 to 70 :\\n',array_30_to_70)"
      ],
      "metadata": {
        "id": "Rrdz7C556B4Y",
        "colab": {
          "base_uri": "https://localhost:8080/"
        },
        "outputId": "7b5b549c-e2e0-43b2-e545-aa7ff8fd5bdf"
      },
      "execution_count": 8,
      "outputs": [
        {
          "output_type": "stream",
          "name": "stdout",
          "text": [
            " Array of the Integers from 30 to 70 :\n",
            " [30 31 32 33 34 35 36 37 38 39 40 41 42 43 44 45 46 47 48 49 50 51 52 53\n",
            " 54 55 56 57 58 59 60 61 62 63 64 65 66 67 68 69 70]\n"
          ]
        }
      ]
    },
    {
      "cell_type": "code",
      "source": [
        "### sample output"
      ],
      "metadata": {
        "colab": {
          "base_uri": "https://localhost:8080/"
        },
        "id": "S8kKjMd79rrK",
        "outputId": "a0437049-a596-4a17-90a8-d98e40ce7baf"
      },
      "execution_count": null,
      "outputs": [
        {
          "output_type": "stream",
          "name": "stdout",
          "text": [
            "Array of the integers from 30 to70\n",
            "[30 31 32 33 34 35 36 37 38 39 40 41 42 43 44 45 46 47 48 49 50 51 52 53\n",
            " 54 55 56 57 58 59 60 61 62 63 64 65 66 67 68 69 70]\n"
          ]
        }
      ]
    },
    {
      "cell_type": "markdown",
      "source": [
        "######3. Write a NumPy program to create an array of all the even integers from 10 to 50."
      ],
      "metadata": {
        "id": "-1Z-hSI66oXd"
      }
    },
    {
      "cell_type": "code",
      "source": [
        "### code here\n",
        "even_array = np.arange(10, 51, 2)\n",
        "print(\"Array of all the Even Integers from 10 to 50 :\\n\",even_array)"
      ],
      "metadata": {
        "id": "-TwKGj2o6nBV",
        "colab": {
          "base_uri": "https://localhost:8080/"
        },
        "outputId": "109dac0c-fe81-4204-d459-99979c555da9"
      },
      "execution_count": 9,
      "outputs": [
        {
          "output_type": "stream",
          "name": "stdout",
          "text": [
            "Array of all the Even Integers from 10 to 50 :\n",
            " [10 12 14 16 18 20 22 24 26 28 30 32 34 36 38 40 42 44 46 48 50]\n"
          ]
        }
      ]
    },
    {
      "cell_type": "code",
      "source": [
        "## sample output\n"
      ],
      "metadata": {
        "colab": {
          "base_uri": "https://localhost:8080/"
        },
        "id": "qo8PSuCZ99KT",
        "outputId": "963a4f7b-b9e9-4701-bab1-62d8f824ed67"
      },
      "execution_count": null,
      "outputs": [
        {
          "output_type": "stream",
          "name": "stdout",
          "text": [
            "Array of all the even integers from 10 to 50\n",
            "[10 12 14 16 18 20 22 24 26 28 30 32 34 36 38 40 42 44 46 48]\n"
          ]
        }
      ]
    },
    {
      "cell_type": "markdown",
      "source": [
        "######4. Write a NumPy program to create a 3x3 identity matrix."
      ],
      "metadata": {
        "id": "av8golKd6z8l"
      }
    },
    {
      "cell_type": "code",
      "source": [
        "### code here\n",
        "identity_matrix = np.eye(3)\n",
        "print(\"3x3 matrix :\\n\",identity_matrix)"
      ],
      "metadata": {
        "id": "A4oaHF5L6nDB",
        "colab": {
          "base_uri": "https://localhost:8080/"
        },
        "outputId": "40a23f1f-695b-4216-c414-b84cbeb382ad"
      },
      "execution_count": 10,
      "outputs": [
        {
          "output_type": "stream",
          "name": "stdout",
          "text": [
            "3x3 matrix :\n",
            " [[1. 0. 0.]\n",
            " [0. 1. 0.]\n",
            " [0. 0. 1.]]\n"
          ]
        }
      ]
    },
    {
      "cell_type": "code",
      "source": [
        "## sample output"
      ],
      "metadata": {
        "colab": {
          "base_uri": "https://localhost:8080/"
        },
        "id": "Gju3JHbf-PLV",
        "outputId": "9d66d3e7-6d54-4d20-c386-c12fbcdcf644"
      },
      "execution_count": null,
      "outputs": [
        {
          "output_type": "stream",
          "name": "stdout",
          "text": [
            "3x3 matrix:\n",
            "[[1. 0. 0.]\n",
            " [0. 1. 0.]\n",
            " [0. 0. 1.]]\n"
          ]
        }
      ]
    },
    {
      "cell_type": "markdown",
      "source": [
        "##### 5. Write a NumPy program to generate a random number between 0 and 1"
      ],
      "metadata": {
        "id": "bmfuxShM-nvi"
      }
    },
    {
      "cell_type": "code",
      "source": [
        "### code here\n",
        "# Generate a random number between 0 and 1\n",
        "random_number = np.random.random()\n",
        "print(\"Random number between 0 to 1 :\\n\",random_number)"
      ],
      "metadata": {
        "id": "ufPWx-Bo6nFv",
        "colab": {
          "base_uri": "https://localhost:8080/"
        },
        "outputId": "ac64d81c-eadb-4448-bffb-47a2a8117d92"
      },
      "execution_count": 11,
      "outputs": [
        {
          "output_type": "stream",
          "name": "stdout",
          "text": [
            "Random number between 0 to 1 :\n",
            " 0.6617591859068525\n"
          ]
        }
      ]
    },
    {
      "cell_type": "code",
      "source": [
        "## sample output"
      ],
      "metadata": {
        "colab": {
          "base_uri": "https://localhost:8080/"
        },
        "id": "9PRNc0Pg6nIO",
        "outputId": "e90f72bd-aba1-43f4-d503-cfbf8af660f1"
      },
      "execution_count": null,
      "outputs": [
        {
          "output_type": "stream",
          "name": "stdout",
          "text": [
            "Random number between 0 and 1:\n",
            "[0.40400053]\n"
          ]
        }
      ]
    },
    {
      "cell_type": "markdown",
      "source": [
        "###### 6. Write a NumPy program to generate an array of 15 random numbers from a standard normal distribution."
      ],
      "metadata": {
        "id": "hm-lJXi--3px"
      }
    },
    {
      "cell_type": "code",
      "source": [
        "## code here\n",
        "# Generate an array of 15 random numbers from a standard normal distribution\n",
        "random_numbers = np.random.normal(size=15)\n",
        "print(\"15 random numbers from a standard normal distribution :\\n\",random_numbers)"
      ],
      "metadata": {
        "id": "tFPEvuTr6nMg",
        "colab": {
          "base_uri": "https://localhost:8080/"
        },
        "outputId": "e3aa569e-e2ec-4e59-f3c5-728406570355"
      },
      "execution_count": 12,
      "outputs": [
        {
          "output_type": "stream",
          "name": "stdout",
          "text": [
            "15 random numbers from a standard normal distribution :\n",
            " [-0.90544287  1.28118641  0.07067273  0.87632795  1.40930311  0.19384172\n",
            " -1.33987414 -0.09195817 -0.02582277 -0.8688911  -1.88901987  0.26881093\n",
            " -0.27375482  0.09150543 -0.87441605]\n"
          ]
        }
      ]
    },
    {
      "cell_type": "code",
      "source": [
        "## sample output"
      ],
      "metadata": {
        "colab": {
          "base_uri": "https://localhost:8080/"
        },
        "id": "DfcnbfwC6B8c",
        "outputId": "d20e56db-910d-4532-8a84-a867b154f069"
      },
      "execution_count": null,
      "outputs": [
        {
          "output_type": "stream",
          "name": "stdout",
          "text": [
            "15 random numbers from a standard normal distribution:\n",
            "[ 0.68439314  1.50916987 -0.75364839  0.1038106   0.07789927 -0.15349755\n",
            "  1.78151615  0.49989426  0.18791322 -1.51931266 -0.55512066  2.02808972\n",
            "  0.37648568  0.57999878 -0.31095957]\n"
          ]
        }
      ]
    },
    {
      "cell_type": "markdown",
      "source": [
        "###### 7. Write a NumPy program to create a 3X4 array using and iterate over it."
      ],
      "metadata": {
        "id": "UIMv6m1t_G7q"
      }
    },
    {
      "cell_type": "code",
      "source": [
        "## code here\n",
        "# Create a 3x4 array\n",
        "array_3x4 = np.array([[10, 11, 12, 13],\n",
        "                      [14, 15, 16, 17],\n",
        "                      [18, 19, 20, 21]])\n",
        "print(\"Original array :\\n\",array_3x4)\n",
        "\n",
        "# Iterate over the array\n",
        "print(\"Each element of the array is:\")\n",
        "for row in array_3x4:\n",
        "    for element in row:\n",
        "        print(element, end=\" \")\n",
        "print()"
      ],
      "metadata": {
        "id": "WyYvr-ly-7y5",
        "colab": {
          "base_uri": "https://localhost:8080/"
        },
        "outputId": "3f3f7057-ce1b-4e26-d2b1-26fc2a7c3d60"
      },
      "execution_count": 15,
      "outputs": [
        {
          "output_type": "stream",
          "name": "stdout",
          "text": [
            "Original array :\n",
            " [[10 11 12 13]\n",
            " [14 15 16 17]\n",
            " [18 19 20 21]]\n",
            "Each element of the array is:\n",
            "10 11 12 13 14 15 16 17 18 19 20 21 \n"
          ]
        }
      ]
    },
    {
      "cell_type": "code",
      "source": [
        "## sample output"
      ],
      "metadata": {
        "colab": {
          "base_uri": "https://localhost:8080/"
        },
        "id": "T_oeyAt8_Jv-",
        "outputId": "dd6207cd-8b15-4d98-fdd8-e109262fec5b"
      },
      "execution_count": null,
      "outputs": [
        {
          "output_type": "stream",
          "name": "stdout",
          "text": [
            "Original array:\n",
            "[[10 11 12 13]\n",
            " [14 15 16 17]\n",
            " [18 19 20 21]]\n",
            "Each element of the array is:\n",
            "10 11 12 13 14 15 16 17 18 19 20 21 "
          ]
        }
      ]
    },
    {
      "cell_type": "markdown",
      "source": [
        "###### 8. Write a NumPy program to multiply the values ​​of two given vectors."
      ],
      "metadata": {
        "id": "pMshtaUT_fT0"
      }
    },
    {
      "cell_type": "code",
      "source": [
        "## code here\n",
        "# Define two vectors\n",
        "vector1 = np.array([1, 8, 3, 5])\n",
        "print(\"vector-1\\n\")\n",
        "vector2 = np.array([10, 1, 4, 10])\n",
        "print(\"vector-2\\n\")\n",
        "\n",
        "# Multiply the values of the two vectors\n",
        "result = vector1 * vector2\n",
        "\n",
        "print(\"Multiply the values of two said vectors:\\n\", result)"
      ],
      "metadata": {
        "id": "hD8Uk9J0_JxY",
        "colab": {
          "base_uri": "https://localhost:8080/"
        },
        "outputId": "b3ad6494-4938-4044-c572-67fe409acfa4"
      },
      "execution_count": 16,
      "outputs": [
        {
          "output_type": "stream",
          "name": "stdout",
          "text": [
            "vector-1\n",
            "\n",
            "vector-2\n",
            "\n",
            "Multiply the values of two said vectors:\n",
            " [10  8 12 50]\n"
          ]
        }
      ]
    },
    {
      "cell_type": "code",
      "source": [
        "## sample output"
      ],
      "metadata": {
        "colab": {
          "base_uri": "https://localhost:8080/"
        },
        "id": "wVIZTuNW_kZ3",
        "outputId": "8d259f41-f447-4480-d452-da123a8db61e"
      },
      "execution_count": null,
      "outputs": [
        {
          "output_type": "stream",
          "name": "stdout",
          "text": [
            "Vector-1\n",
            "[1 8 3 5]\n",
            "Vector-2\n",
            "[10  1  4 10]\n",
            "Multiply the values of two said vectors:\n",
            "[10  8 12 50]\n"
          ]
        }
      ]
    },
    {
      "cell_type": "markdown",
      "source": [
        "###### 9. Write a NumPy program to reverse an array (first element becomes last)."
      ],
      "metadata": {
        "id": "h7ny_Xci_07Q"
      }
    },
    {
      "cell_type": "code",
      "source": [
        "### code here\n",
        "# Create an array\n",
        "array = np.array([12, 13, 14, 15, 16, 17, 18, 19, 20, 21, 22, 23, 24, 25, 26, 27, 28, 29, 30, 31, 32, 33, 34, 35,\n",
        " 36, 37])\n",
        "\n",
        "\n",
        "# Reverse the array\n",
        "reversed_array = np.flip(array)\n",
        "\n",
        "print(\"Original array:\\n\", array)\n",
        "print(\"Reversed array:\\n\", reversed_array)"
      ],
      "metadata": {
        "id": "CQZLCU4Z_J0M",
        "colab": {
          "base_uri": "https://localhost:8080/"
        },
        "outputId": "a9bc9413-801a-4333-c87c-459dfbec5dea"
      },
      "execution_count": 17,
      "outputs": [
        {
          "output_type": "stream",
          "name": "stdout",
          "text": [
            "Original array:\n",
            " [12 13 14 15 16 17 18 19 20 21 22 23 24 25 26 27 28 29 30 31 32 33 34 35\n",
            " 36 37]\n",
            "Reversed array:\n",
            " [37 36 35 34 33 32 31 30 29 28 27 26 25 24 23 22 21 20 19 18 17 16 15 14\n",
            " 13 12]\n"
          ]
        }
      ]
    },
    {
      "cell_type": "code",
      "source": [
        "## sample output"
      ],
      "metadata": {
        "colab": {
          "base_uri": "https://localhost:8080/"
        },
        "id": "6zOol0u2_J21",
        "outputId": "b1772711-603d-468e-bdc3-d675873cf5fd"
      },
      "execution_count": null,
      "outputs": [
        {
          "output_type": "stream",
          "name": "stdout",
          "text": [
            "Original array:\n",
            "[12 13 14 15 16 17 18 19 20 21 22 23 24 25 26 27 28 29 30 31 32 33 34 35\n",
            " 36 37]\n",
            "Reverse array:\n",
            "[37 36 35 34 33 32 31 30 29 28 27 26 25 24 23 22 21 20 19 18 17 16 15 14\n",
            " 13 12]\n"
          ]
        }
      ]
    },
    {
      "cell_type": "markdown",
      "source": [
        "##### 10. Write a NumPy program to create a 5x5 zero matrix with elements on the main diagonal equal to 1, 2, 3, 4, 5."
      ],
      "metadata": {
        "id": "-y0LYMweAC3M"
      }
    },
    {
      "cell_type": "code",
      "source": [
        "## code here\n",
        "# Create a 5x5 zero matrix\n",
        "zero_matrix = np.zeros((5, 5))\n",
        "\n",
        "# Assign values 1, 2, 3, 4, 5 to the main diagonal\n",
        "np.fill_diagonal(zero_matrix, [1, 2, 3, 4, 5])\n",
        "\n",
        "print(zero_matrix)"
      ],
      "metadata": {
        "id": "nJnstERf_J5T",
        "colab": {
          "base_uri": "https://localhost:8080/"
        },
        "outputId": "d104244a-7b05-4eb8-e52c-a2e8186d4e85"
      },
      "execution_count": 18,
      "outputs": [
        {
          "output_type": "stream",
          "name": "stdout",
          "text": [
            "[[1. 0. 0. 0. 0.]\n",
            " [0. 2. 0. 0. 0.]\n",
            " [0. 0. 3. 0. 0.]\n",
            " [0. 0. 0. 4. 0.]\n",
            " [0. 0. 0. 0. 5.]]\n"
          ]
        }
      ]
    },
    {
      "cell_type": "code",
      "source": [
        "## sample output"
      ],
      "metadata": {
        "colab": {
          "base_uri": "https://localhost:8080/"
        },
        "id": "rOh6nIXl_J78",
        "outputId": "84736fa7-e5a0-4e8e-c8f2-06005fc5502a"
      },
      "execution_count": null,
      "outputs": [
        {
          "output_type": "stream",
          "name": "stdout",
          "text": [
            "[[1 0 0 0 0]\n",
            " [0 2 0 0 0]\n",
            " [0 0 3 0 0]\n",
            " [0 0 0 4 0]\n",
            " [0 0 0 0 5]]\n"
          ]
        }
      ]
    },
    {
      "cell_type": "markdown",
      "source": [
        "###### 11. Write a NumPy program to compute sum of all elements, sum of each column and sum of each row of a given array."
      ],
      "metadata": {
        "id": "h7nmiqKNAYH1"
      }
    },
    {
      "cell_type": "code",
      "source": [
        "## code here\n",
        "# Create a sample array\n",
        "array = np.array([[0, 1],\n",
        "                  [2, 3],\n",
        "                  ])\n",
        "\n",
        "# Compute the sum of all elements\n",
        "total_sum = np.sum(array)\n",
        "\n",
        "# Compute the sum of each column\n",
        "column_sums = np.sum(array, axis=0)\n",
        "\n",
        "# Compute the sum of each row\n",
        "row_sums = np.sum(array, axis=1)\n",
        "\n",
        "print(\"Original array:\")\n",
        "print(array)\n",
        "print(\"Sum of all element:\\n\", total_sum)\n",
        "print(\"Sum of each Columns:\\n\", column_sums)\n",
        "print(\"Sum of each Rows:\\n\", row_sums)"
      ],
      "metadata": {
        "id": "zWHfl9BS_J-a",
        "colab": {
          "base_uri": "https://localhost:8080/"
        },
        "outputId": "fac37c86-1501-4722-8fb3-8be7a0adbe38"
      },
      "execution_count": 22,
      "outputs": [
        {
          "output_type": "stream",
          "name": "stdout",
          "text": [
            "Original array:\n",
            "[[0 1]\n",
            " [2 3]]\n",
            "Sum of all element:\n",
            " 6\n",
            "Sum of each Columns:\n",
            " [2 4]\n",
            "Sum of each Rows:\n",
            " [1 5]\n"
          ]
        }
      ]
    },
    {
      "cell_type": "code",
      "source": [
        "## sample output"
      ],
      "metadata": {
        "colab": {
          "base_uri": "https://localhost:8080/"
        },
        "id": "CLTx-HRh_KBI",
        "outputId": "aa907d23-10c0-4b2a-c499-6c1d61b95b0d"
      },
      "execution_count": null,
      "outputs": [
        {
          "output_type": "stream",
          "name": "stdout",
          "text": [
            "Original array:\n",
            "[[0 1]\n",
            " [2 3]]\n",
            "Sum of all elements:\n",
            "6\n",
            "Sum of each column:\n",
            "[2 4]\n",
            "Sum of each row:\n",
            "[1 5]\n"
          ]
        }
      ]
    },
    {
      "cell_type": "markdown",
      "source": [
        "###### 12. Write a NumPy program to compute the inner product of two given vectors."
      ],
      "metadata": {
        "id": "4JSLT9ImAnKn"
      }
    },
    {
      "cell_type": "code",
      "source": [
        "## code here\n",
        "\n",
        "# Define two vectors\n",
        "vector1 = np.array([4, 5])\n",
        "vector2 = np.array([7, 10])\n",
        "print(\"Original vectors :\\n\",vector1)\n",
        "print(vector2)\n",
        "\n",
        "# Compute the inner product using np.dot()\n",
        "inner_product = np.dot(vector1, vector2)\n",
        "\n",
        "# Alternatively, you can use the @ operator\n",
        "# inner_product = vector1 @ vector2\n",
        "\n",
        "print(\"Inner product of the said vectors:\\n\", inner_product)"
      ],
      "metadata": {
        "id": "cBGxcHxe_KEt",
        "colab": {
          "base_uri": "https://localhost:8080/"
        },
        "outputId": "16c484fe-a179-447b-93e1-d97e6c527b0f"
      },
      "execution_count": 25,
      "outputs": [
        {
          "output_type": "stream",
          "name": "stdout",
          "text": [
            "Original vectors :\n",
            " [4 5]\n",
            "[ 7 10]\n",
            "Inner product of the said vectors:\n",
            " 78\n"
          ]
        }
      ]
    },
    {
      "cell_type": "code",
      "source": [
        "## sample output"
      ],
      "metadata": {
        "colab": {
          "base_uri": "https://localhost:8080/"
        },
        "id": "AvS0_rdDAp-B",
        "outputId": "aff4e886-3e49-49c6-a9f0-cc3cce2dbc90"
      },
      "execution_count": null,
      "outputs": [
        {
          "output_type": "stream",
          "name": "stdout",
          "text": [
            "Original vectors:\n",
            "[4 5]\n",
            "[ 7 10]\n",
            "Inner product of said vectors:\n",
            "78\n"
          ]
        }
      ]
    },
    {
      "cell_type": "code",
      "source": [],
      "metadata": {
        "id": "uriWC5FSAp_N"
      },
      "execution_count": null,
      "outputs": []
    },
    {
      "cell_type": "code",
      "source": [],
      "metadata": {
        "id": "0uPHZDn8AqB5"
      },
      "execution_count": null,
      "outputs": []
    },
    {
      "cell_type": "code",
      "source": [],
      "metadata": {
        "id": "RQ_ORHYjAqGM"
      },
      "execution_count": null,
      "outputs": []
    }
  ]
}