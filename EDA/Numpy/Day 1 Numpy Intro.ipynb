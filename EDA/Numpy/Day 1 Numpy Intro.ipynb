{
 "cells": [
  {
   "cell_type": "markdown",
   "id": "5bb70357",
   "metadata": {},
   "source": [
    "# Day 1\n",
    "### MD Tahseen Equbal "
   ]
  },
  {
   "cell_type": "markdown",
   "id": "ec7a95c4",
   "metadata": {},
   "source": [
    "# Installation Numpy"
   ]
  },
  {
   "cell_type": "code",
   "execution_count": 1,
   "id": "6ff5ea9e",
   "metadata": {},
   "outputs": [
    {
     "name": "stdout",
     "output_type": "stream",
     "text": [
      "Requirement already satisfied: numpy in c:\\users\\91771\\anaconda3\\envs\\tf\\lib\\site-packages (1.21.5)\n"
     ]
    }
   ],
   "source": [
    "!pip install numpy"
   ]
  },
  {
   "cell_type": "markdown",
   "id": "0908d11b",
   "metadata": {},
   "source": [
    "Importing"
   ]
  },
  {
   "cell_type": "code",
   "execution_count": 2,
   "id": "09de5254",
   "metadata": {},
   "outputs": [],
   "source": [
    "import numpy as np\n"
   ]
  },
  {
   "cell_type": "markdown",
   "id": "13381aa0",
   "metadata": {},
   "source": [
    "Creaton of some Array "
   ]
  },
  {
   "cell_type": "code",
   "execution_count": 4,
   "id": "80d99260",
   "metadata": {},
   "outputs": [
    {
     "data": {
      "text/plain": [
       "array([2, 3, 4, 5, 6])"
      ]
     },
     "execution_count": 4,
     "metadata": {},
     "output_type": "execute_result"
    }
   ],
   "source": [
    "list1 = [2,3,4,5,6]\n",
    "np.array(list1)"
   ]
  },
  {
   "cell_type": "markdown",
   "id": "791f2cb2",
   "metadata": {},
   "source": [
    "# Time Complexity (Speed is Less)"
   ]
  },
  {
   "cell_type": "code",
   "execution_count": 5,
   "id": "c59d11be",
   "metadata": {},
   "outputs": [
    {
     "name": "stdout",
     "output_type": "stream",
     "text": [
      "Wall time: 4.23 ms\n"
     ]
    }
   ],
   "source": [
    "%%time\n",
    "a = list(range(1,100000))"
   ]
  },
  {
   "cell_type": "code",
   "execution_count": 6,
   "id": "05d8ef28",
   "metadata": {},
   "outputs": [
    {
     "name": "stdout",
     "output_type": "stream",
     "text": [
      "Wall time: 0 ns\n"
     ]
    }
   ],
   "source": [
    "%%time\n",
    "arr = np.arange(1,100000)"
   ]
  },
  {
   "cell_type": "markdown",
   "id": "1eb39451",
   "metadata": {},
   "source": [
    "# Space Complexity (Memory)"
   ]
  },
  {
   "cell_type": "code",
   "execution_count": 7,
   "id": "a89df94b",
   "metadata": {},
   "outputs": [],
   "source": [
    "import sys "
   ]
  },
  {
   "cell_type": "code",
   "execution_count": 8,
   "id": "6ad53bc3",
   "metadata": {},
   "outputs": [
    {
     "data": {
      "text/plain": [
       "800048"
      ]
     },
     "execution_count": 8,
     "metadata": {},
     "output_type": "execute_result"
    }
   ],
   "source": [
    "sys.getsizeof(a)"
   ]
  },
  {
   "cell_type": "code",
   "execution_count": 10,
   "id": "55af38e1",
   "metadata": {},
   "outputs": [
    {
     "data": {
      "text/plain": [
       "400100"
      ]
     },
     "execution_count": 10,
     "metadata": {},
     "output_type": "execute_result"
    }
   ],
   "source": [
    "sys.getsizeof(arr)"
   ]
  },
  {
   "cell_type": "markdown",
   "id": "633e9fd1",
   "metadata": {},
   "source": [
    "# np.linspace()  --- Default is 50"
   ]
  },
  {
   "cell_type": "code",
   "execution_count": 11,
   "id": "37521f2b",
   "metadata": {},
   "outputs": [
    {
     "data": {
      "text/plain": [
       "array([ 1.  ,  3.25,  5.5 ,  7.75, 10.  ])"
      ]
     },
     "execution_count": 11,
     "metadata": {},
     "output_type": "execute_result"
    }
   ],
   "source": [
    "np.linspace(1,10,5)"
   ]
  },
  {
   "cell_type": "code",
   "execution_count": 13,
   "id": "20a3e847",
   "metadata": {},
   "outputs": [
    {
     "data": {
      "text/plain": [
       "array([  1.        ,   3.02040816,   5.04081633,   7.06122449,\n",
       "         9.08163265,  11.10204082,  13.12244898,  15.14285714,\n",
       "        17.16326531,  19.18367347,  21.20408163,  23.2244898 ,\n",
       "        25.24489796,  27.26530612,  29.28571429,  31.30612245,\n",
       "        33.32653061,  35.34693878,  37.36734694,  39.3877551 ,\n",
       "        41.40816327,  43.42857143,  45.44897959,  47.46938776,\n",
       "        49.48979592,  51.51020408,  53.53061224,  55.55102041,\n",
       "        57.57142857,  59.59183673,  61.6122449 ,  63.63265306,\n",
       "        65.65306122,  67.67346939,  69.69387755,  71.71428571,\n",
       "        73.73469388,  75.75510204,  77.7755102 ,  79.79591837,\n",
       "        81.81632653,  83.83673469,  85.85714286,  87.87755102,\n",
       "        89.89795918,  91.91836735,  93.93877551,  95.95918367,\n",
       "        97.97959184, 100.        ])"
      ]
     },
     "execution_count": 13,
     "metadata": {},
     "output_type": "execute_result"
    }
   ],
   "source": [
    "np.linspace(1,100)"
   ]
  },
  {
   "cell_type": "markdown",
   "id": "f42d8c91",
   "metadata": {},
   "source": [
    "# np.random.randint()  --- start , End , How Much "
   ]
  },
  {
   "cell_type": "code",
   "execution_count": 14,
   "id": "023b863a",
   "metadata": {},
   "outputs": [
    {
     "data": {
      "text/plain": [
       "array([81, 45, 26, 35, 60, 23, 51, 25, 29, 57, 31, 55,  4, 42, 97])"
      ]
     },
     "execution_count": 14,
     "metadata": {},
     "output_type": "execute_result"
    }
   ],
   "source": [
    "np.random.randint(1,100,15)"
   ]
  },
  {
   "cell_type": "code",
   "execution_count": 3,
   "id": "0e2f0d45",
   "metadata": {},
   "outputs": [
    {
     "data": {
      "text/plain": [
       "array([35.06258702, 10.64579557, 69.19266893, 55.07193463,  7.7972095 ,\n",
       "       21.58335493, 99.6073918 , 66.53613055, 50.49507365, 37.77057754,\n",
       "       65.74828923, 69.62663225, 36.9596769 ,  4.75255987, 72.15612795])"
      ]
     },
     "execution_count": 3,
     "metadata": {},
     "output_type": "execute_result"
    }
   ],
   "source": [
    "np.random.uniform(1,100,15)"
   ]
  },
  {
   "cell_type": "markdown",
   "id": "5111c85b",
   "metadata": {},
   "source": [
    "# np.zeros()"
   ]
  },
  {
   "cell_type": "code",
   "execution_count": 16,
   "id": "17f65f21",
   "metadata": {},
   "outputs": [
    {
     "data": {
      "text/plain": [
       "array([[0., 0.],\n",
       "       [0., 0.],\n",
       "       [0., 0.]])"
      ]
     },
     "execution_count": 16,
     "metadata": {},
     "output_type": "execute_result"
    }
   ],
   "source": [
    "np.zeros((3,2))"
   ]
  },
  {
   "cell_type": "markdown",
   "id": "8af23e56",
   "metadata": {},
   "source": [
    "# np.ones()"
   ]
  },
  {
   "cell_type": "code",
   "execution_count": 17,
   "id": "6f1ffab8",
   "metadata": {},
   "outputs": [
    {
     "data": {
      "text/plain": [
       "array([[1., 1.],\n",
       "       [1., 1.],\n",
       "       [1., 1.]])"
      ]
     },
     "execution_count": 17,
     "metadata": {},
     "output_type": "execute_result"
    }
   ],
   "source": [
    "np.ones((3,2))"
   ]
  },
  {
   "cell_type": "markdown",
   "id": "51482670",
   "metadata": {},
   "source": [
    "# np.full()"
   ]
  },
  {
   "cell_type": "code",
   "execution_count": 18,
   "id": "0c07f5fa",
   "metadata": {},
   "outputs": [
    {
     "data": {
      "text/plain": [
       "array([[18, 18, 18, 18],\n",
       "       [18, 18, 18, 18],\n",
       "       [18, 18, 18, 18],\n",
       "       [18, 18, 18, 18]])"
      ]
     },
     "execution_count": 18,
     "metadata": {},
     "output_type": "execute_result"
    }
   ],
   "source": [
    "np.full((4,4),18)"
   ]
  },
  {
   "cell_type": "markdown",
   "id": "5c01c865",
   "metadata": {},
   "source": [
    "# Attributes"
   ]
  },
  {
   "cell_type": "code",
   "execution_count": 21,
   "id": "a62c728f",
   "metadata": {},
   "outputs": [],
   "source": [
    "arr1 = np.random.randint(1,20,10)\n"
   ]
  },
  {
   "cell_type": "code",
   "execution_count": 22,
   "id": "1c4e0c31",
   "metadata": {},
   "outputs": [
    {
     "data": {
      "text/plain": [
       "array([ 2,  9,  4,  1,  1,  9, 19, 13, 17,  2])"
      ]
     },
     "execution_count": 22,
     "metadata": {},
     "output_type": "execute_result"
    }
   ],
   "source": [
    "arr1"
   ]
  },
  {
   "cell_type": "code",
   "execution_count": 23,
   "id": "b3f15891",
   "metadata": {},
   "outputs": [
    {
     "data": {
      "text/plain": [
       "dtype('int32')"
      ]
     },
     "execution_count": 23,
     "metadata": {},
     "output_type": "execute_result"
    }
   ],
   "source": [
    "arr1.dtype     # Data Type of the values"
   ]
  },
  {
   "cell_type": "code",
   "execution_count": 24,
   "id": "1989ba72",
   "metadata": {},
   "outputs": [
    {
     "data": {
      "text/plain": [
       "10"
      ]
     },
     "execution_count": 24,
     "metadata": {},
     "output_type": "execute_result"
    }
   ],
   "source": [
    "arr1.size    # Length of the array (no of values)"
   ]
  },
  {
   "cell_type": "code",
   "execution_count": 25,
   "id": "aff7d6a8",
   "metadata": {},
   "outputs": [
    {
     "data": {
      "text/plain": [
       "4"
      ]
     },
     "execution_count": 25,
     "metadata": {},
     "output_type": "execute_result"
    }
   ],
   "source": [
    "arr1.itemsize   # Memory Occupied by each value"
   ]
  },
  {
   "cell_type": "code",
   "execution_count": 26,
   "id": "2e690c3c",
   "metadata": {},
   "outputs": [
    {
     "data": {
      "text/plain": [
       "40"
      ]
     },
     "execution_count": 26,
     "metadata": {},
     "output_type": "execute_result"
    }
   ],
   "source": [
    "arr1.nbytes  # Total Memory occupied by the array "
   ]
  },
  {
   "cell_type": "code",
   "execution_count": 27,
   "id": "959f3d46",
   "metadata": {},
   "outputs": [
    {
     "data": {
      "text/plain": [
       "1"
      ]
     },
     "execution_count": 27,
     "metadata": {},
     "output_type": "execute_result"
    }
   ],
   "source": [
    "arr1.ndim   # No of dimensional array"
   ]
  },
  {
   "cell_type": "code",
   "execution_count": 28,
   "id": "ea456f16",
   "metadata": {},
   "outputs": [
    {
     "data": {
      "text/plain": [
       "(10,)"
      ]
     },
     "execution_count": 28,
     "metadata": {},
     "output_type": "execute_result"
    }
   ],
   "source": [
    "arr1.shape  # No of Rows and Column"
   ]
  },
  {
   "cell_type": "code",
   "execution_count": null,
   "id": "7a418337",
   "metadata": {},
   "outputs": [],
   "source": []
  }
 ],
 "metadata": {
  "kernelspec": {
   "display_name": "Python 3 (ipykernel)",
   "language": "python",
   "name": "python3"
  },
  "language_info": {
   "codemirror_mode": {
    "name": "ipython",
    "version": 3
   },
   "file_extension": ".py",
   "mimetype": "text/x-python",
   "name": "python",
   "nbconvert_exporter": "python",
   "pygments_lexer": "ipython3",
   "version": "3.9.13"
  }
 },
 "nbformat": 4,
 "nbformat_minor": 5
}
