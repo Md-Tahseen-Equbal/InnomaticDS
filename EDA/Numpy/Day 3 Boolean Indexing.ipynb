{
 "cells": [
  {
   "cell_type": "markdown",
   "id": "8d4d1d01",
   "metadata": {},
   "source": [
    "# Boolean Index"
   ]
  },
  {
   "cell_type": "code",
   "execution_count": 3,
   "id": "771f51dd",
   "metadata": {},
   "outputs": [],
   "source": [
    "import numpy as np"
   ]
  },
  {
   "cell_type": "code",
   "execution_count": 4,
   "id": "b0ae6e85",
   "metadata": {},
   "outputs": [
    {
     "data": {
      "text/plain": [
       "array([15, 41, 79, 76, 35, 41, 10, 37, 23, 19, 62, 25, 18,  6,  7, 50, 58,\n",
       "       60, 56, 37, 68, 73, 79, 26, 58, 26, 45,  2, 48, 76, 35, 40, 53, 56,\n",
       "       12, 52, 25, 17, 28, 55, 33, 52,  4, 47, 10, 29, 40, 33, 38, 39])"
      ]
     },
     "execution_count": 4,
     "metadata": {},
     "output_type": "execute_result"
    }
   ],
   "source": [
    "age = np.random.randint(2,80,50)\n",
    "age"
   ]
  },
  {
   "cell_type": "code",
   "execution_count": 5,
   "id": "92f3d48c",
   "metadata": {},
   "outputs": [
    {
     "data": {
      "text/plain": [
       "2"
      ]
     },
     "execution_count": 5,
     "metadata": {},
     "output_type": "execute_result"
    }
   ],
   "source": [
    "age.min()"
   ]
  },
  {
   "cell_type": "code",
   "execution_count": 6,
   "id": "6b636f62",
   "metadata": {},
   "outputs": [
    {
     "data": {
      "text/plain": [
       "79"
      ]
     },
     "execution_count": 6,
     "metadata": {},
     "output_type": "execute_result"
    }
   ],
   "source": [
    "age.max()"
   ]
  },
  {
   "cell_type": "code",
   "execution_count": 7,
   "id": "1c3fe501",
   "metadata": {},
   "outputs": [
    {
     "data": {
      "text/plain": [
       "39.08"
      ]
     },
     "execution_count": 7,
     "metadata": {},
     "output_type": "execute_result"
    }
   ],
   "source": [
    "age.mean()"
   ]
  },
  {
   "cell_type": "code",
   "execution_count": 8,
   "id": "76ae457f",
   "metadata": {},
   "outputs": [
    {
     "data": {
      "text/plain": [
       "7"
      ]
     },
     "execution_count": 8,
     "metadata": {},
     "output_type": "execute_result"
    }
   ],
   "source": [
    "len(age[age>60])"
   ]
  },
  {
   "cell_type": "code",
   "execution_count": 9,
   "id": "c0389449",
   "metadata": {},
   "outputs": [
    {
     "data": {
      "text/plain": [
       "41"
      ]
     },
     "execution_count": 9,
     "metadata": {},
     "output_type": "execute_result"
    }
   ],
   "source": [
    "len(age[age>=18])"
   ]
  },
  {
   "cell_type": "code",
   "execution_count": 10,
   "id": "7297de76",
   "metadata": {},
   "outputs": [],
   "source": [
    "# How many are there between 20 to 35 years"
   ]
  },
  {
   "cell_type": "code",
   "execution_count": 13,
   "id": "3602d492",
   "metadata": {},
   "outputs": [
    {
     "data": {
      "text/plain": [
       "9"
      ]
     },
     "execution_count": 13,
     "metadata": {},
     "output_type": "execute_result"
    }
   ],
   "source": [
    "len(age[(age > 20) & (age < 35)])"
   ]
  },
  {
   "cell_type": "code",
   "execution_count": 14,
   "id": "e4706637",
   "metadata": {},
   "outputs": [
    {
     "data": {
      "text/plain": [
       "array([15, 41, 79, 76, 35, 41, 10, 37, 23, 19, 62, 25, 18,  6,  7, 50, 58,\n",
       "       60, 56, 37, 68, 73, 79, 26, 58, 26, 45,  2, 48, 76, 35, 40, 53, 56,\n",
       "       12, 52, 25, 17, 28, 55, 33, 52,  4, 47, 10, 29, 40, 33, 38, 39])"
      ]
     },
     "execution_count": 14,
     "metadata": {},
     "output_type": "execute_result"
    }
   ],
   "source": [
    "age"
   ]
  },
  {
   "cell_type": "code",
   "execution_count": 15,
   "id": "742bbd91",
   "metadata": {},
   "outputs": [
    {
     "data": {
      "text/plain": [
       "array([53495, 24449, 87007, 24503, 25405, 45692, 21967, 35625, 94773,\n",
       "       35474, 79014, 29216, 25155, 95788, 77071, 99540, 28785, 81883,\n",
       "       85830, 45298, 43482, 55610, 87247, 79536, 80509, 29014, 94355,\n",
       "       71899, 91055, 59205, 78023, 63915, 68785, 58763, 59112, 83116,\n",
       "       46075, 37706, 20270, 36504, 64790, 80136, 74979, 44323, 94086,\n",
       "       27341, 89733, 84963, 47178, 76468])"
      ]
     },
     "execution_count": 15,
     "metadata": {},
     "output_type": "execute_result"
    }
   ],
   "source": [
    "salary = np.random.randint(20000,100000,50)\n",
    "salary"
   ]
  },
  {
   "cell_type": "markdown",
   "id": "80cd48c2",
   "metadata": {},
   "source": [
    "1. What is the average salary?\n",
    "2. What is the average salary of age is greater than 35?\n",
    "3. What is the maximum salary of age below 40 years?\n",
    "4. How many are getting salary more than 50000?\n",
    "5. What is the  minimum salary of above 50 years ?\n",
    "6. What is the 25% of salary?\n",
    "7. What is the IQR value of Age ?"
   ]
  },
  {
   "cell_type": "code",
   "execution_count": 16,
   "id": "5a306923",
   "metadata": {},
   "outputs": [
    {
     "data": {
      "text/plain": [
       "60482.96"
      ]
     },
     "execution_count": 16,
     "metadata": {},
     "output_type": "execute_result"
    }
   ],
   "source": [
    "# 1. What is the average salary?\n",
    "salary.mean()"
   ]
  },
  {
   "cell_type": "code",
   "execution_count": 20,
   "id": "3c4f4aeb",
   "metadata": {},
   "outputs": [
    {
     "data": {
      "text/plain": [
       "64214.642857142855"
      ]
     },
     "execution_count": 20,
     "metadata": {},
     "output_type": "execute_result"
    }
   ],
   "source": [
    "#2. What is the average salary of age is greater than 35?\n",
    "salary[age>35].mean()"
   ]
  },
  {
   "cell_type": "code",
   "execution_count": 21,
   "id": "160a81c5",
   "metadata": {},
   "outputs": [
    {
     "data": {
      "text/plain": [
       "95788"
      ]
     },
     "execution_count": 21,
     "metadata": {},
     "output_type": "execute_result"
    }
   ],
   "source": [
    "#3. What is the maximum salary of age below 40 years?\n",
    "salary[age<40].max()"
   ]
  },
  {
   "cell_type": "code",
   "execution_count": 18,
   "id": "acd1345a",
   "metadata": {},
   "outputs": [
    {
     "data": {
      "text/plain": [
       "30"
      ]
     },
     "execution_count": 18,
     "metadata": {},
     "output_type": "execute_result"
    }
   ],
   "source": [
    "#4. How many are getting salary more than 50000?\n",
    "len(salary[salary>50000])"
   ]
  },
  {
   "cell_type": "code",
   "execution_count": 19,
   "id": "0105721a",
   "metadata": {},
   "outputs": [
    {
     "data": {
      "text/plain": [
       "24503"
      ]
     },
     "execution_count": 19,
     "metadata": {},
     "output_type": "execute_result"
    }
   ],
   "source": [
    "# 5. What is the  minimum salary of above 50 years ?\n",
    "salary[age>50].min()"
   ]
  },
  {
   "cell_type": "code",
   "execution_count": 22,
   "id": "dc237a9b",
   "metadata": {},
   "outputs": [
    {
     "data": {
      "text/plain": [
       "36804.5"
      ]
     },
     "execution_count": 22,
     "metadata": {},
     "output_type": "execute_result"
    }
   ],
   "source": [
    "#6. What is the 25% of salary?\n",
    "np.percentile(salary,25)"
   ]
  },
  {
   "cell_type": "code",
   "execution_count": 24,
   "id": "e7c0004c",
   "metadata": {},
   "outputs": [
    {
     "data": {
      "text/plain": [
       "29.5"
      ]
     },
     "execution_count": 24,
     "metadata": {},
     "output_type": "execute_result"
    }
   ],
   "source": [
    "# 7. What is the IQR value of Age ?\n",
    "Q1 = np.quantile(age, 0.25)\n",
    "Q3 = np.quantile(age,0.75)\n",
    "IQR = Q3-Q1\n",
    "IQR"
   ]
  },
  {
   "cell_type": "markdown",
   "id": "ad8ae115",
   "metadata": {},
   "source": [
    "# Raven vs Flatten "
   ]
  },
  {
   "cell_type": "markdown",
   "id": "a7c5bd21",
   "metadata": {},
   "source": [
    "# View vs Copy"
   ]
  },
  {
   "cell_type": "code",
   "execution_count": 26,
   "id": "e8c20168",
   "metadata": {},
   "outputs": [
    {
     "data": {
      "text/plain": [
       "array([1, 2, 3, 4, 5, 6, 7])"
      ]
     },
     "execution_count": 26,
     "metadata": {},
     "output_type": "execute_result"
    }
   ],
   "source": [
    "arr = np.array([1,2,3,4,5,6,7])\n",
    "arr"
   ]
  },
  {
   "cell_type": "code",
   "execution_count": 27,
   "id": "2426eb1e",
   "metadata": {},
   "outputs": [
    {
     "name": "stdout",
     "output_type": "stream",
     "text": [
      "[  1   2 100   4   5   6   7]\n",
      "[1 2 3 4 5 6 7]\n"
     ]
    }
   ],
   "source": [
    "x = arr.copy() # Immutable\n",
    "x[2] = 100\n",
    "print(x)\n",
    "print(arr)"
   ]
  },
  {
   "cell_type": "code",
   "execution_count": 28,
   "id": "107bf827",
   "metadata": {},
   "outputs": [
    {
     "name": "stdout",
     "output_type": "stream",
     "text": [
      "[  1   2   3 200   5   6   7]\n",
      "[  1   2   3 200   5   6   7]\n"
     ]
    }
   ],
   "source": [
    "y = arr.view() # Mutable\n",
    "y[3] = 200\n",
    "print(y)\n",
    "print(arr)"
   ]
  },
  {
   "cell_type": "markdown",
   "id": "ff6113f7",
   "metadata": {},
   "source": [
    "# Ravel vs Flatten"
   ]
  },
  {
   "cell_type": "markdown",
   "id": "552a6e15",
   "metadata": {},
   "source": [
    "To  convert multi dimensional array (ndarray) to 1 d array"
   ]
  },
  {
   "cell_type": "markdown",
   "id": "3dad19fd",
   "metadata": {},
   "source": [
    "Ravel - View Version"
   ]
  },
  {
   "cell_type": "markdown",
   "id": "ba0a159d",
   "metadata": {},
   "source": [
    "Flatten - Copy Version "
   ]
  },
  {
   "cell_type": "code",
   "execution_count": 30,
   "id": "16502679",
   "metadata": {},
   "outputs": [
    {
     "data": {
      "text/plain": [
       "array([[[[10, 10, 15, 17],\n",
       "         [19,  3,  4, 13],\n",
       "         [ 9, 12,  7,  5],\n",
       "         [19,  2, 18,  2]]]])"
      ]
     },
     "execution_count": 30,
     "metadata": {},
     "output_type": "execute_result"
    }
   ],
   "source": [
    "arr = np.random.randint(2,20,16).reshape(1,1,4,4)\n",
    "arr"
   ]
  },
  {
   "cell_type": "code",
   "execution_count": 31,
   "id": "756f3ade",
   "metadata": {},
   "outputs": [
    {
     "data": {
      "text/plain": [
       "array([10, 10, 15, 17, 19,  3,  4, 13,  9, 12,  7,  5, 19,  2, 18,  2])"
      ]
     },
     "execution_count": 31,
     "metadata": {},
     "output_type": "execute_result"
    }
   ],
   "source": [
    "arr.ravel()"
   ]
  },
  {
   "cell_type": "code",
   "execution_count": 32,
   "id": "0c897cc0",
   "metadata": {},
   "outputs": [
    {
     "data": {
      "text/plain": [
       "array([10, 10, 15, 17, 19,  3,  4, 13,  9, 12,  7,  5, 19,  2, 18,  2])"
      ]
     },
     "execution_count": 32,
     "metadata": {},
     "output_type": "execute_result"
    }
   ],
   "source": [
    "arr.flatten()"
   ]
  },
  {
   "cell_type": "code",
   "execution_count": 34,
   "id": "796582fc",
   "metadata": {},
   "outputs": [
    {
     "name": "stdout",
     "output_type": "stream",
     "text": [
      "[ 10  10  15 100  19   3   4  13   9  12   7   5  19   2  18   2]\n",
      "********************\n",
      "[[[[ 10  10  15 100]\n",
      "   [ 19   3   4  13]\n",
      "   [  9  12   7   5]\n",
      "   [ 19   2  18   2]]]]\n"
     ]
    }
   ],
   "source": [
    "x = arr.ravel()\n",
    "x[3]=100     #  It is Mutable\n",
    "print(x)\n",
    "print('*'*20)\n",
    "print(arr)"
   ]
  },
  {
   "cell_type": "code",
   "execution_count": 36,
   "id": "a53101fd",
   "metadata": {},
   "outputs": [
    {
     "name": "stdout",
     "output_type": "stream",
     "text": [
      "[  10   10   15  100   19    3    4   13    9   12    7    5   19    2\n",
      "   18 1111]\n",
      "********************\n",
      "[[[[ 10  10  15 100]\n",
      "   [ 19   3   4  13]\n",
      "   [  9  12   7   5]\n",
      "   [ 19   2  18   2]]]]\n"
     ]
    }
   ],
   "source": [
    "y = arr.flatten()\n",
    "y[-1]=1111       # It  is Immutable    \n",
    "print(y)\n",
    "print('*'*20)\n",
    "print(arr)"
   ]
  },
  {
   "cell_type": "markdown",
   "id": "ad1d091f",
   "metadata": {},
   "source": [
    "# Mathematical Operations"
   ]
  },
  {
   "cell_type": "markdown",
   "id": "c9f3ba04",
   "metadata": {},
   "source": [
    "# Constants"
   ]
  },
  {
   "cell_type": "code",
   "execution_count": 38,
   "id": "a9494b1a",
   "metadata": {},
   "outputs": [
    {
     "data": {
      "text/plain": [
       "3.141592653589793"
      ]
     },
     "execution_count": 38,
     "metadata": {},
     "output_type": "execute_result"
    }
   ],
   "source": [
    "np.pi"
   ]
  },
  {
   "cell_type": "code",
   "execution_count": 39,
   "id": "253b7ac3",
   "metadata": {},
   "outputs": [
    {
     "data": {
      "text/plain": [
       "2.718281828459045"
      ]
     },
     "execution_count": 39,
     "metadata": {},
     "output_type": "execute_result"
    }
   ],
   "source": [
    "np.e"
   ]
  },
  {
   "cell_type": "code",
   "execution_count": 44,
   "id": "1e57c47f",
   "metadata": {},
   "outputs": [
    {
     "data": {
      "text/plain": [
       "inf"
      ]
     },
     "execution_count": 44,
     "metadata": {},
     "output_type": "execute_result"
    }
   ],
   "source": [
    "np.inf  # Infinite"
   ]
  },
  {
   "cell_type": "code",
   "execution_count": 45,
   "id": "53d4003b",
   "metadata": {},
   "outputs": [
    {
     "name": "stderr",
     "output_type": "stream",
     "text": [
      "C:\\Users\\91771\\AppData\\Local\\Temp\\ipykernel_4160\\770773325.py:1: RuntimeWarning: divide by zero encountered in true_divide\n",
      "  np.array([2,1]) / 0\n"
     ]
    },
    {
     "data": {
      "text/plain": [
       "array([inf, inf])"
      ]
     },
     "execution_count": 45,
     "metadata": {},
     "output_type": "execute_result"
    }
   ],
   "source": [
    "np.array([2,1]) / 0"
   ]
  },
  {
   "cell_type": "code",
   "execution_count": 46,
   "id": "8bb66742",
   "metadata": {},
   "outputs": [
    {
     "data": {
      "text/plain": [
       "nan"
      ]
     },
     "execution_count": 46,
     "metadata": {},
     "output_type": "execute_result"
    }
   ],
   "source": [
    "np.nan  #Missing Value"
   ]
  },
  {
   "cell_type": "markdown",
   "id": "77b1f5e6",
   "metadata": {},
   "source": [
    "# Trigonometric Functions"
   ]
  },
  {
   "cell_type": "code",
   "execution_count": 47,
   "id": "c093b77a",
   "metadata": {},
   "outputs": [],
   "source": [
    "angle = np.pi/2"
   ]
  },
  {
   "cell_type": "code",
   "execution_count": 48,
   "id": "0c3144ef",
   "metadata": {},
   "outputs": [
    {
     "data": {
      "text/plain": [
       "1.0"
      ]
     },
     "execution_count": 48,
     "metadata": {},
     "output_type": "execute_result"
    }
   ],
   "source": [
    "np.sin(angle)"
   ]
  },
  {
   "cell_type": "code",
   "execution_count": 49,
   "id": "13eb1673",
   "metadata": {},
   "outputs": [
    {
     "data": {
      "text/plain": [
       "6.123233995736766e-17"
      ]
     },
     "execution_count": 49,
     "metadata": {},
     "output_type": "execute_result"
    }
   ],
   "source": [
    "np.cos(angle)"
   ]
  },
  {
   "cell_type": "code",
   "execution_count": 50,
   "id": "405bf7d7",
   "metadata": {},
   "outputs": [
    {
     "data": {
      "text/plain": [
       "1.633123935319537e+16"
      ]
     },
     "execution_count": 50,
     "metadata": {},
     "output_type": "execute_result"
    }
   ],
   "source": [
    "np.tan(angle)"
   ]
  },
  {
   "cell_type": "code",
   "execution_count": 53,
   "id": "3aef448c",
   "metadata": {},
   "outputs": [
    {
     "ename": "AttributeError",
     "evalue": "module 'numpy' has no attribute 'sec'",
     "output_type": "error",
     "traceback": [
      "\u001b[1;31m---------------------------------------------------------------------------\u001b[0m",
      "\u001b[1;31mAttributeError\u001b[0m                            Traceback (most recent call last)",
      "\u001b[1;32m~\\AppData\\Local\\Temp\\ipykernel_4160\\493758695.py\u001b[0m in \u001b[0;36m<module>\u001b[1;34m\u001b[0m\n\u001b[1;32m----> 1\u001b[1;33m \u001b[0mnp\u001b[0m\u001b[1;33m.\u001b[0m\u001b[0msec\u001b[0m\u001b[1;33m(\u001b[0m\u001b[0mangle\u001b[0m\u001b[1;33m)\u001b[0m  \u001b[1;31m# cot -- sec and cosec not here\u001b[0m\u001b[1;33m\u001b[0m\u001b[1;33m\u001b[0m\u001b[0m\n\u001b[0m",
      "\u001b[1;32m~\\anaconda3\\envs\\tf\\lib\\site-packages\\numpy\\__init__.py\u001b[0m in \u001b[0;36m__getattr__\u001b[1;34m(attr)\u001b[0m\n\u001b[0;32m    311\u001b[0m                 \u001b[1;32mreturn\u001b[0m \u001b[0mTester\u001b[0m\u001b[1;33m\u001b[0m\u001b[1;33m\u001b[0m\u001b[0m\n\u001b[0;32m    312\u001b[0m \u001b[1;33m\u001b[0m\u001b[0m\n\u001b[1;32m--> 313\u001b[1;33m             raise AttributeError(\"module {!r} has no attribute \"\n\u001b[0m\u001b[0;32m    314\u001b[0m                                  \"{!r}\".format(__name__, attr))\n\u001b[0;32m    315\u001b[0m \u001b[1;33m\u001b[0m\u001b[0m\n",
      "\u001b[1;31mAttributeError\u001b[0m: module 'numpy' has no attribute 'sec'"
     ]
    }
   ],
   "source": [
    "np.sec(angle)  # cot -- sec and cosec not here"
   ]
  },
  {
   "cell_type": "code",
   "execution_count": 56,
   "id": "a3a38c91",
   "metadata": {},
   "outputs": [
    {
     "data": {
      "text/plain": [
       "array([[3.02758747, 2.8319224 , 5.86343973, 4.44088264],\n",
       "       [3.66136281, 9.20341897, 3.28476514, 9.07504345],\n",
       "       [4.54369404, 3.47143856, 8.06804461, 2.72838921],\n",
       "       [5.40081308, 6.11847381, 3.09349279, 3.29934683]])"
      ]
     },
     "execution_count": 56,
     "metadata": {},
     "output_type": "execute_result"
    }
   ],
   "source": [
    "a = np.random.uniform(2,10,16).reshape(4,4)\n",
    "a"
   ]
  },
  {
   "cell_type": "code",
   "execution_count": 57,
   "id": "2befeb0e",
   "metadata": {},
   "outputs": [
    {
     "data": {
      "text/plain": [
       "array([[3. , 2.8, 5.9, 4.4],\n",
       "       [3.7, 9.2, 3.3, 9.1],\n",
       "       [4.5, 3.5, 8.1, 2.7],\n",
       "       [5.4, 6.1, 3.1, 3.3]])"
      ]
     },
     "execution_count": 57,
     "metadata": {},
     "output_type": "execute_result"
    }
   ],
   "source": [
    "np.round(a,1)"
   ]
  },
  {
   "cell_type": "code",
   "execution_count": 58,
   "id": "07b89e4f",
   "metadata": {},
   "outputs": [
    {
     "data": {
      "text/plain": [
       "array([[ 4.,  3.,  6.,  5.],\n",
       "       [ 4., 10.,  4., 10.],\n",
       "       [ 5.,  4.,  9.,  3.],\n",
       "       [ 6.,  7.,  4.,  4.]])"
      ]
     },
     "execution_count": 58,
     "metadata": {},
     "output_type": "execute_result"
    }
   ],
   "source": [
    "np.ceil(a)"
   ]
  },
  {
   "cell_type": "code",
   "execution_count": 59,
   "id": "6884a31c",
   "metadata": {},
   "outputs": [
    {
     "data": {
      "text/plain": [
       "array([[3., 2., 5., 4.],\n",
       "       [3., 9., 3., 9.],\n",
       "       [4., 3., 8., 2.],\n",
       "       [5., 6., 3., 3.]])"
      ]
     },
     "execution_count": 59,
     "metadata": {},
     "output_type": "execute_result"
    }
   ],
   "source": [
    "np.floor(a)"
   ]
  },
  {
   "cell_type": "code",
   "execution_count": 60,
   "id": "9628fa51",
   "metadata": {},
   "outputs": [
    {
     "data": {
      "text/plain": [
       "array([[-2,  2],\n",
       "       [ 3, -4]])"
      ]
     },
     "execution_count": 60,
     "metadata": {},
     "output_type": "execute_result"
    }
   ],
   "source": [
    "c = np.array([[-2,2],[3,-4]])\n",
    "c"
   ]
  },
  {
   "cell_type": "code",
   "execution_count": 61,
   "id": "44e96593",
   "metadata": {},
   "outputs": [
    {
     "data": {
      "text/plain": [
       "array([[2, 2],\n",
       "       [3, 4]])"
      ]
     },
     "execution_count": 61,
     "metadata": {},
     "output_type": "execute_result"
    }
   ],
   "source": [
    "np.abs(c)"
   ]
  },
  {
   "cell_type": "markdown",
   "id": "5fa591f5",
   "metadata": {},
   "source": [
    "# Operators on Array"
   ]
  },
  {
   "cell_type": "code",
   "execution_count": 63,
   "id": "7a1d79e7",
   "metadata": {},
   "outputs": [],
   "source": [
    "x = np.array([[1,2],[4,5]])\n",
    "y = np.array([[12,13],[14,16]])"
   ]
  },
  {
   "cell_type": "code",
   "execution_count": 64,
   "id": "5d0adb52",
   "metadata": {},
   "outputs": [
    {
     "data": {
      "text/plain": [
       "array([[1, 2],\n",
       "       [4, 5]])"
      ]
     },
     "execution_count": 64,
     "metadata": {},
     "output_type": "execute_result"
    }
   ],
   "source": [
    "x"
   ]
  },
  {
   "cell_type": "code",
   "execution_count": 65,
   "id": "61864284",
   "metadata": {},
   "outputs": [
    {
     "data": {
      "text/plain": [
       "array([[12, 13],\n",
       "       [14, 16]])"
      ]
     },
     "execution_count": 65,
     "metadata": {},
     "output_type": "execute_result"
    }
   ],
   "source": [
    "y"
   ]
  },
  {
   "cell_type": "code",
   "execution_count": 66,
   "id": "583bbdcc",
   "metadata": {},
   "outputs": [
    {
     "data": {
      "text/plain": [
       "array([[13, 15],\n",
       "       [18, 21]])"
      ]
     },
     "execution_count": 66,
     "metadata": {},
     "output_type": "execute_result"
    }
   ],
   "source": [
    "x+y"
   ]
  },
  {
   "cell_type": "code",
   "execution_count": 67,
   "id": "40d7f80a",
   "metadata": {},
   "outputs": [
    {
     "data": {
      "text/plain": [
       "array([[-11, -11],\n",
       "       [-10, -11]])"
      ]
     },
     "execution_count": 67,
     "metadata": {},
     "output_type": "execute_result"
    }
   ],
   "source": [
    "x-y"
   ]
  },
  {
   "cell_type": "code",
   "execution_count": 68,
   "id": "5073527b",
   "metadata": {},
   "outputs": [
    {
     "data": {
      "text/plain": [
       "array([[12, 26],\n",
       "       [56, 80]])"
      ]
     },
     "execution_count": 68,
     "metadata": {},
     "output_type": "execute_result"
    }
   ],
   "source": [
    "x*y"
   ]
  },
  {
   "cell_type": "code",
   "execution_count": 69,
   "id": "d706a306",
   "metadata": {},
   "outputs": [
    {
     "data": {
      "text/plain": [
       "array([[0.08333333, 0.15384615],\n",
       "       [0.28571429, 0.3125    ]])"
      ]
     },
     "execution_count": 69,
     "metadata": {},
     "output_type": "execute_result"
    }
   ],
   "source": [
    "x/y"
   ]
  },
  {
   "cell_type": "code",
   "execution_count": 70,
   "id": "603abb67",
   "metadata": {},
   "outputs": [
    {
     "data": {
      "text/plain": [
       "array([[0, 0],\n",
       "       [0, 0]], dtype=int32)"
      ]
     },
     "execution_count": 70,
     "metadata": {},
     "output_type": "execute_result"
    }
   ],
   "source": [
    "x//y\n"
   ]
  },
  {
   "cell_type": "code",
   "execution_count": 71,
   "id": "eec11bdf",
   "metadata": {},
   "outputs": [
    {
     "data": {
      "text/plain": [
       "array([[1, 2],\n",
       "       [4, 5]], dtype=int32)"
      ]
     },
     "execution_count": 71,
     "metadata": {},
     "output_type": "execute_result"
    }
   ],
   "source": [
    "x%y"
   ]
  },
  {
   "cell_type": "code",
   "execution_count": 72,
   "id": "fb26a917",
   "metadata": {},
   "outputs": [
    {
     "data": {
      "text/plain": [
       "array([[          1,        8192],\n",
       "       [  268435456, -2030932031]], dtype=int32)"
      ]
     },
     "execution_count": 72,
     "metadata": {},
     "output_type": "execute_result"
    }
   ],
   "source": [
    "x**y"
   ]
  },
  {
   "cell_type": "code",
   "execution_count": null,
   "id": "d205b0ec",
   "metadata": {},
   "outputs": [],
   "source": []
  }
 ],
 "metadata": {
  "kernelspec": {
   "display_name": "Python 3 (ipykernel)",
   "language": "python",
   "name": "python3"
  },
  "language_info": {
   "codemirror_mode": {
    "name": "ipython",
    "version": 3
   },
   "file_extension": ".py",
   "mimetype": "text/x-python",
   "name": "python",
   "nbconvert_exporter": "python",
   "pygments_lexer": "ipython3",
   "version": "3.9.13"
  }
 },
 "nbformat": 4,
 "nbformat_minor": 5
}
