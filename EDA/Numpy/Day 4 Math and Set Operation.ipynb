{
 "cells": [
  {
   "cell_type": "markdown",
   "id": "941e4504",
   "metadata": {},
   "source": [
    "# Set \n",
    "Unordered\n",
    "\n",
    "Mutable\n",
    "\n",
    "No Duplicates\n",
    "\n",
    "no index"
   ]
  },
  {
   "cell_type": "markdown",
   "id": "f734c2ff",
   "metadata": {},
   "source": [
    "# Set Operation "
   ]
  },
  {
   "cell_type": "code",
   "execution_count": 3,
   "id": "5d8f814e",
   "metadata": {},
   "outputs": [],
   "source": [
    "import numpy as np"
   ]
  },
  {
   "cell_type": "code",
   "execution_count": 4,
   "id": "987e1934",
   "metadata": {},
   "outputs": [],
   "source": [
    "arr1 = np.array([1,2,3,4,5,6])\n",
    "arr2 = np.array([5,6,7,8,9,10])"
   ]
  },
  {
   "cell_type": "code",
   "execution_count": 5,
   "id": "85216515",
   "metadata": {},
   "outputs": [
    {
     "data": {
      "text/plain": [
       "array([5, 6])"
      ]
     },
     "execution_count": 5,
     "metadata": {},
     "output_type": "execute_result"
    }
   ],
   "source": [
    "np.intersect1d(arr1,arr2)   # Common element in both arrays"
   ]
  },
  {
   "cell_type": "code",
   "execution_count": 7,
   "id": "babc6c74",
   "metadata": {},
   "outputs": [
    {
     "data": {
      "text/plain": [
       "array([ 1,  2,  3,  4,  5,  6,  7,  8,  9, 10])"
      ]
     },
     "execution_count": 7,
     "metadata": {},
     "output_type": "execute_result"
    }
   ],
   "source": [
    "np.union1d(arr1,arr2)    # Combining all the common Elements"
   ]
  },
  {
   "cell_type": "code",
   "execution_count": 8,
   "id": "12b6a35f",
   "metadata": {},
   "outputs": [
    {
     "data": {
      "text/plain": [
       "array([1, 2, 3, 4])"
      ]
     },
     "execution_count": 8,
     "metadata": {},
     "output_type": "execute_result"
    }
   ],
   "source": [
    "np.setdiff1d(arr1,arr2)"
   ]
  },
  {
   "cell_type": "markdown",
   "id": "4792b098",
   "metadata": {},
   "source": [
    "# Sorting and Searching"
   ]
  },
  {
   "cell_type": "code",
   "execution_count": 10,
   "id": "0619964a",
   "metadata": {},
   "outputs": [
    {
     "data": {
      "text/plain": [
       "array([ 75, 114,  89,  79, 117,  49,  64,  57,  71,  26])"
      ]
     },
     "execution_count": 10,
     "metadata": {},
     "output_type": "execute_result"
    }
   ],
   "source": [
    "arr = np.random.randint(2,120,10)\n",
    "arr"
   ]
  },
  {
   "cell_type": "code",
   "execution_count": 15,
   "id": "7360662e",
   "metadata": {},
   "outputs": [
    {
     "data": {
      "text/plain": [
       "array([ 26,  49,  57,  64,  71,  75,  79,  89, 114, 117])"
      ]
     },
     "execution_count": 15,
     "metadata": {},
     "output_type": "execute_result"
    }
   ],
   "source": [
    "a = np.sort(arr)\n",
    "a                      # Default in Accending Order"
   ]
  },
  {
   "cell_type": "code",
   "execution_count": 16,
   "id": "43d9fbbd",
   "metadata": {},
   "outputs": [
    {
     "data": {
      "text/plain": [
       "array([117, 114,  89,  79,  75,  71,  64,  57,  49,  26])"
      ]
     },
     "execution_count": 16,
     "metadata": {},
     "output_type": "execute_result"
    }
   ],
   "source": [
    "np.flip(a)         # For reversing"
   ]
  },
  {
   "cell_type": "code",
   "execution_count": 17,
   "id": "b40bbc48",
   "metadata": {},
   "outputs": [
    {
     "data": {
      "text/plain": [
       "array([117, 114,  89,  79,  75,  71,  64,  57,  49,  26])"
      ]
     },
     "execution_count": 17,
     "metadata": {},
     "output_type": "execute_result"
    }
   ],
   "source": [
    "np.sort(arr)[::-1] "
   ]
  },
  {
   "cell_type": "code",
   "execution_count": 18,
   "id": "f263d1c9",
   "metadata": {},
   "outputs": [
    {
     "data": {
      "text/plain": [
       "117"
      ]
     },
     "execution_count": 18,
     "metadata": {},
     "output_type": "execute_result"
    }
   ],
   "source": [
    "arr.max()"
   ]
  },
  {
   "cell_type": "code",
   "execution_count": 19,
   "id": "ed5ffb27",
   "metadata": {},
   "outputs": [
    {
     "data": {
      "text/plain": [
       "9"
      ]
     },
     "execution_count": 19,
     "metadata": {},
     "output_type": "execute_result"
    }
   ],
   "source": [
    "arr.argmin()"
   ]
  },
  {
   "cell_type": "code",
   "execution_count": 20,
   "id": "d1d3edac",
   "metadata": {},
   "outputs": [
    {
     "data": {
      "text/plain": [
       "array([ 75, 114,  89,  79, 117,  49,  64,  57,  71,  26])"
      ]
     },
     "execution_count": 20,
     "metadata": {},
     "output_type": "execute_result"
    }
   ],
   "source": [
    "arr"
   ]
  },
  {
   "cell_type": "code",
   "execution_count": 22,
   "id": "966fc2ff",
   "metadata": {},
   "outputs": [
    {
     "data": {
      "text/plain": [
       "array([9, 5, 7, 6, 8, 0, 3, 2, 1, 4], dtype=int64)"
      ]
     },
     "execution_count": 22,
     "metadata": {},
     "output_type": "execute_result"
    }
   ],
   "source": [
    "arr.argsort()    # It return the indices of the Sorted Value "
   ]
  },
  {
   "cell_type": "markdown",
   "id": "6eae0537",
   "metadata": {},
   "source": [
    "# LinearAlgebra "
   ]
  },
  {
   "cell_type": "markdown",
   "id": "42ebcfbd",
   "metadata": {},
   "source": [
    "## Solving Linear Equation"
   ]
  },
  {
   "cell_type": "markdown",
   "id": "3608ce07",
   "metadata": {},
   "source": [
    "x+2y = 3\n",
    "\n",
    "2x-3y = 9"
   ]
  },
  {
   "cell_type": "code",
   "execution_count": 25,
   "id": "9f9c2dad",
   "metadata": {},
   "outputs": [],
   "source": [
    "a = np.array([[1,2],[2,-3]])  # It is for LHS in 2d  --- Its a input work\n",
    "b = np.array([[3],[9]])       # It is for RHS in 2d  --- Its a Output Work"
   ]
  },
  {
   "cell_type": "code",
   "execution_count": 26,
   "id": "b0ce1419",
   "metadata": {},
   "outputs": [
    {
     "data": {
      "text/plain": [
       "array([[ 3.85714286],\n",
       "       [-0.42857143]])"
      ]
     },
     "execution_count": 26,
     "metadata": {},
     "output_type": "execute_result"
    }
   ],
   "source": [
    "np.linalg.solve(a,b)"
   ]
  },
  {
   "cell_type": "markdown",
   "id": "b6dc2ff1",
   "metadata": {},
   "source": [
    "Q 2\n",
    "\n",
    "x + 3y -2z =-19\n",
    "\n",
    "3x - 9y+ z = 2\n",
    "\n",
    "5x + 10y + 10z =100"
   ]
  },
  {
   "cell_type": "code",
   "execution_count": 37,
   "id": "8327821e",
   "metadata": {},
   "outputs": [
    {
     "data": {
      "text/plain": [
       "array([[ 1,  3, -2],\n",
       "       [ 3, -9,  1],\n",
       "       [ 5, 10, 10]])"
      ]
     },
     "execution_count": 37,
     "metadata": {},
     "output_type": "execute_result"
    }
   ],
   "source": [
    "a =  np.array([[1,3,-2],[3,-9,1],[5,10,10]])\n",
    "a"
   ]
  },
  {
   "cell_type": "code",
   "execution_count": 38,
   "id": "068af133",
   "metadata": {},
   "outputs": [
    {
     "data": {
      "text/plain": [
       "array([[-19],\n",
       "       [  2],\n",
       "       [100]])"
      ]
     },
     "execution_count": 38,
     "metadata": {},
     "output_type": "execute_result"
    }
   ],
   "source": [
    "b = np.array([[-19],[2],[100]])\n",
    "b"
   ]
  },
  {
   "cell_type": "code",
   "execution_count": 39,
   "id": "a8659ebd",
   "metadata": {},
   "outputs": [
    {
     "data": {
      "text/plain": [
       "array([[-0.92307692],\n",
       "       [ 0.56923077],\n",
       "       [ 9.89230769]])"
      ]
     },
     "execution_count": 39,
     "metadata": {},
     "output_type": "execute_result"
    }
   ],
   "source": [
    "np.linalg.solve(a,b)"
   ]
  },
  {
   "cell_type": "code",
   "execution_count": null,
   "id": "2a1199e1",
   "metadata": {},
   "outputs": [],
   "source": []
  },
  {
   "cell_type": "code",
   "execution_count": null,
   "id": "f3b7f9b8",
   "metadata": {},
   "outputs": [],
   "source": [
    "\n"
   ]
  },
  {
   "cell_type": "code",
   "execution_count": null,
   "id": "2ec200af",
   "metadata": {},
   "outputs": [],
   "source": []
  },
  {
   "cell_type": "code",
   "execution_count": null,
   "id": "a45ee510",
   "metadata": {},
   "outputs": [],
   "source": []
  },
  {
   "cell_type": "markdown",
   "id": "977b8fa8",
   "metadata": {},
   "source": [
    "# Q4 \n",
    "10a+20b-3c+4d-20e = 22\n",
    "2a+120b+23c-20e = 222\n",
    "a+20b+13c+4d-2e = 10\n",
    "20b-3c+4d =1\n",
    "30 a +4c = 22"
   ]
  },
  {
   "cell_type": "code",
   "execution_count": 46,
   "id": "c3b64698",
   "metadata": {},
   "outputs": [],
   "source": [
    "A = np.array([\n",
    "    [10, 20, -3, 4, -20],\n",
    "    [2, 120, 23, 0, -20],\n",
    "    [1, 20, 13, 4, -2],\n",
    "    [0, 20, -3, 4, 0],\n",
    "    [30, 0, 4, 0, 0] ])\n",
    "\n"
   ]
  },
  {
   "cell_type": "code",
   "execution_count": 70,
   "id": "8f45d5a7",
   "metadata": {},
   "outputs": [],
   "source": [
    "B = np.array([22, 222, 10, 1, 22])"
   ]
  },
  {
   "cell_type": "code",
   "execution_count": 71,
   "id": "ed34fb61",
   "metadata": {},
   "outputs": [
    {
     "data": {
      "text/plain": [
       "array([ 0.67583333,  1.63739931,  0.43125   , -7.61355903, -0.71208333])"
      ]
     },
     "execution_count": 71,
     "metadata": {},
     "output_type": "execute_result"
    }
   ],
   "source": [
    "x = np.linalg.solve(A,B)\n",
    "x"
   ]
  },
  {
   "cell_type": "code",
   "execution_count": 72,
   "id": "016bfe87",
   "metadata": {},
   "outputs": [
    {
     "data": {
      "text/plain": [
       "4607999.999999989"
      ]
     },
     "execution_count": 72,
     "metadata": {},
     "output_type": "execute_result"
    }
   ],
   "source": [
    "np.linalg.det(A)"
   ]
  },
  {
   "cell_type": "markdown",
   "id": "bad74618",
   "metadata": {},
   "source": [
    "# Det = ad - bc [[a,b],[c,d]]"
   ]
  },
  {
   "cell_type": "code",
   "execution_count": 62,
   "id": "5b47cf38",
   "metadata": {},
   "outputs": [],
   "source": [
    "arr2 = ([[1,2],\n",
    "         [2,-3]])"
   ]
  },
  {
   "cell_type": "code",
   "execution_count": 63,
   "id": "639d4c21",
   "metadata": {},
   "outputs": [
    {
     "data": {
      "text/plain": [
       "-7.000000000000001"
      ]
     },
     "execution_count": 63,
     "metadata": {},
     "output_type": "execute_result"
    }
   ],
   "source": [
    "np.linalg.det(arr2)"
   ]
  },
  {
   "cell_type": "code",
   "execution_count": null,
   "id": "3090a4e2",
   "metadata": {},
   "outputs": [],
   "source": []
  },
  {
   "cell_type": "markdown",
   "id": "ba4378b1",
   "metadata": {},
   "source": [
    "# Matrix  and Array"
   ]
  },
  {
   "cell_type": "code",
   "execution_count": 73,
   "id": "3007ed42",
   "metadata": {},
   "outputs": [],
   "source": [
    "a = np.matrix([[1,2],[3,4]])\n",
    "b = np.matrix([[3,4],[7,9]])"
   ]
  },
  {
   "cell_type": "code",
   "execution_count": 74,
   "id": "b0a47981",
   "metadata": {},
   "outputs": [
    {
     "data": {
      "text/plain": [
       "matrix([[17, 22],\n",
       "        [37, 48]])"
      ]
     },
     "execution_count": 74,
     "metadata": {},
     "output_type": "execute_result"
    }
   ],
   "source": [
    "a*b"
   ]
  },
  {
   "cell_type": "code",
   "execution_count": 77,
   "id": "79b49fe7",
   "metadata": {},
   "outputs": [],
   "source": [
    "x = np.array([[1,2],[3,4]])\n",
    "y = np.array([[3,4],[7,9]])"
   ]
  },
  {
   "cell_type": "code",
   "execution_count": 78,
   "id": "4c741288",
   "metadata": {},
   "outputs": [
    {
     "data": {
      "text/plain": [
       "array([[ 3,  8],\n",
       "       [21, 36]])"
      ]
     },
     "execution_count": 78,
     "metadata": {},
     "output_type": "execute_result"
    }
   ],
   "source": [
    "x*y"
   ]
  },
  {
   "cell_type": "markdown",
   "id": "be8acf88",
   "metadata": {},
   "source": [
    "# Identity Matrix"
   ]
  },
  {
   "cell_type": "code",
   "execution_count": 79,
   "id": "11ae6b6c",
   "metadata": {},
   "outputs": [
    {
     "data": {
      "text/plain": [
       "array([[1., 0., 0.],\n",
       "       [0., 1., 0.],\n",
       "       [0., 0., 1.]])"
      ]
     },
     "execution_count": 79,
     "metadata": {},
     "output_type": "execute_result"
    }
   ],
   "source": [
    "np.identity(3)     # It gives Squared Matrices"
   ]
  },
  {
   "cell_type": "code",
   "execution_count": 81,
   "id": "93c32a61",
   "metadata": {},
   "outputs": [
    {
     "data": {
      "text/plain": [
       "array([[1., 0., 0.],\n",
       "       [0., 1., 0.],\n",
       "       [0., 0., 1.]])"
      ]
     },
     "execution_count": 81,
     "metadata": {},
     "output_type": "execute_result"
    }
   ],
   "source": [
    " np.eye(3,3)  # It gives any shape"
   ]
  },
  {
   "cell_type": "markdown",
   "id": "b611c89b",
   "metadata": {},
   "source": [
    "# Eigen Value and Eigen Vectors "
   ]
  },
  {
   "cell_type": "code",
   "execution_count": 83,
   "id": "54c67982",
   "metadata": {},
   "outputs": [
    {
     "data": {
      "text/plain": [
       "array([[2, 3, 4],\n",
       "       [4, 1, 8],\n",
       "       [7, 9, 1]])"
      ]
     },
     "execution_count": 83,
     "metadata": {},
     "output_type": "execute_result"
    }
   ],
   "source": [
    "a = np.array([[2,3,4],[4,1,8],[7,9,1]])\n",
    "a"
   ]
  },
  {
   "cell_type": "code",
   "execution_count": 84,
   "id": "dfb23220",
   "metadata": {},
   "outputs": [
    {
     "data": {
      "text/plain": [
       "(array([13.        , -1.29843788, -7.70156212]),\n",
       " array([[-0.41294832, -0.79524162, -0.11292499],\n",
       "        [-0.59648091,  0.5579114 , -0.64384884],\n",
       "        [-0.6882472 ,  0.23733022,  0.75677383]]))"
      ]
     },
     "execution_count": 84,
     "metadata": {},
     "output_type": "execute_result"
    }
   ],
   "source": [
    "np.linalg.eig(a)"
   ]
  },
  {
   "cell_type": "code",
   "execution_count": 85,
   "id": "3c77d3c1",
   "metadata": {},
   "outputs": [],
   "source": [
    "eig_val,eig_vect = np.linalg.eig(a)"
   ]
  },
  {
   "cell_type": "code",
   "execution_count": 86,
   "id": "a116d288",
   "metadata": {},
   "outputs": [
    {
     "data": {
      "text/plain": [
       "array([13.        , -1.29843788, -7.70156212])"
      ]
     },
     "execution_count": 86,
     "metadata": {},
     "output_type": "execute_result"
    }
   ],
   "source": [
    "eig_val"
   ]
  },
  {
   "cell_type": "code",
   "execution_count": 87,
   "id": "a7cc8e7b",
   "metadata": {},
   "outputs": [
    {
     "data": {
      "text/plain": [
       "array([[-0.41294832, -0.79524162, -0.11292499],\n",
       "       [-0.59648091,  0.5579114 , -0.64384884],\n",
       "       [-0.6882472 ,  0.23733022,  0.75677383]])"
      ]
     },
     "execution_count": 87,
     "metadata": {},
     "output_type": "execute_result"
    }
   ],
   "source": [
    "eig_vect"
   ]
  },
  {
   "cell_type": "markdown",
   "id": "3ec470ba",
   "metadata": {},
   "source": [
    "# Joining Arrays "
   ]
  },
  {
   "cell_type": "code",
   "execution_count": 88,
   "id": "4ae7d130",
   "metadata": {},
   "outputs": [
    {
     "data": {
      "text/plain": [
       "array([[1, 2, 3, 4],\n",
       "       [5, 6, 7, 8]])"
      ]
     },
     "execution_count": 88,
     "metadata": {},
     "output_type": "execute_result"
    }
   ],
   "source": [
    "arr1 = np.array([1,2,3,4,5,6,7,8]).reshape(2,4)\n",
    "arr1"
   ]
  },
  {
   "cell_type": "code",
   "execution_count": 90,
   "id": "97d53465",
   "metadata": {},
   "outputs": [
    {
     "data": {
      "text/plain": [
       "array([[10, 20, 30, 40],\n",
       "       [50, 60, 70, 80]])"
      ]
     },
     "execution_count": 90,
     "metadata": {},
     "output_type": "execute_result"
    }
   ],
   "source": [
    "arr2 = np.array([10,20,30,40,50,60,70,80]).reshape(2,4)\n",
    "arr2\n",
    "                                                  "
   ]
  },
  {
   "cell_type": "code",
   "execution_count": 92,
   "id": "81d80cc5",
   "metadata": {},
   "outputs": [
    {
     "data": {
      "text/plain": [
       "array([[ 1,  2,  3,  4],\n",
       "       [ 5,  6,  7,  8],\n",
       "       [10, 20, 30, 40],\n",
       "       [50, 60, 70, 80]])"
      ]
     },
     "execution_count": 92,
     "metadata": {},
     "output_type": "execute_result"
    }
   ],
   "source": [
    "np.concatenate((arr1,arr2))  # By default axis =0"
   ]
  },
  {
   "cell_type": "code",
   "execution_count": 93,
   "id": "5694fa4e",
   "metadata": {},
   "outputs": [
    {
     "data": {
      "text/plain": [
       "array([[ 1,  2,  3,  4],\n",
       "       [ 5,  6,  7,  8],\n",
       "       [10, 20, 30, 40],\n",
       "       [50, 60, 70, 80]])"
      ]
     },
     "execution_count": 93,
     "metadata": {},
     "output_type": "execute_result"
    }
   ],
   "source": [
    "np.concatenate((arr1,arr2),axis = 0)  # axis =0 row wise that means rows increasing"
   ]
  },
  {
   "cell_type": "code",
   "execution_count": 98,
   "id": "d30bc398",
   "metadata": {},
   "outputs": [
    {
     "data": {
      "text/plain": [
       "array([[ 1,  2,  3,  4, 10, 20, 30, 40],\n",
       "       [ 5,  6,  7,  8, 50, 60, 70, 80]])"
      ]
     },
     "execution_count": 98,
     "metadata": {},
     "output_type": "execute_result"
    }
   ],
   "source": [
    "np.concatenate((arr1,arr2),axis = 1)  # axis =1 column wise that means column increases\n"
   ]
  },
  {
   "cell_type": "markdown",
   "id": "3d362a31",
   "metadata": {},
   "source": [
    "# Stacking"
   ]
  },
  {
   "cell_type": "code",
   "execution_count": 96,
   "id": "394f2efa",
   "metadata": {},
   "outputs": [
    {
     "data": {
      "text/plain": [
       "array([[1, 2, 3, 4],\n",
       "       [5, 6, 7, 8]])"
      ]
     },
     "execution_count": 96,
     "metadata": {},
     "output_type": "execute_result"
    }
   ],
   "source": [
    "arr1"
   ]
  },
  {
   "cell_type": "code",
   "execution_count": 97,
   "id": "a130c0eb",
   "metadata": {},
   "outputs": [
    {
     "data": {
      "text/plain": [
       "array([[10, 20, 30, 40],\n",
       "       [50, 60, 70, 80]])"
      ]
     },
     "execution_count": 97,
     "metadata": {},
     "output_type": "execute_result"
    }
   ],
   "source": [
    "arr2"
   ]
  },
  {
   "cell_type": "code",
   "execution_count": 99,
   "id": "8c9ca09d",
   "metadata": {},
   "outputs": [
    {
     "data": {
      "text/plain": [
       "array([[ 1,  2,  3,  4, 10, 20, 30, 40],\n",
       "       [ 5,  6,  7,  8, 50, 60, 70, 80]])"
      ]
     },
     "execution_count": 99,
     "metadata": {},
     "output_type": "execute_result"
    }
   ],
   "source": [
    "np.hstack((arr1,arr2))                          # H- horizontal like axis = 1"
   ]
  },
  {
   "cell_type": "code",
   "execution_count": 101,
   "id": "7fbdf76d",
   "metadata": {},
   "outputs": [
    {
     "data": {
      "text/plain": [
       "array([[ 1,  2,  3,  4],\n",
       "       [ 5,  6,  7,  8],\n",
       "       [10, 20, 30, 40],\n",
       "       [50, 60, 70, 80]])"
      ]
     },
     "execution_count": 101,
     "metadata": {},
     "output_type": "execute_result"
    }
   ],
   "source": [
    "np.vstack((arr1,arr2))                      # V- Vertically like axis = 0"
   ]
  },
  {
   "cell_type": "code",
   "execution_count": 103,
   "id": "9cb29d1c",
   "metadata": {},
   "outputs": [
    {
     "data": {
      "text/plain": [
       "array([[[ 1, 10],\n",
       "        [ 2, 20],\n",
       "        [ 3, 30],\n",
       "        [ 4, 40]],\n",
       "\n",
       "       [[ 5, 50],\n",
       "        [ 6, 60],\n",
       "        [ 7, 70],\n",
       "        [ 8, 80]]])"
      ]
     },
     "execution_count": 103,
     "metadata": {},
     "output_type": "execute_result"
    }
   ],
   "source": [
    "np.dstack((arr1,arr2))                       # D- Depth Wise "
   ]
  },
  {
   "cell_type": "code",
   "execution_count": null,
   "id": "34395281",
   "metadata": {},
   "outputs": [],
   "source": []
  }
 ],
 "metadata": {
  "kernelspec": {
   "display_name": "Python 3 (ipykernel)",
   "language": "python",
   "name": "python3"
  },
  "language_info": {
   "codemirror_mode": {
    "name": "ipython",
    "version": 3
   },
   "file_extension": ".py",
   "mimetype": "text/x-python",
   "name": "python",
   "nbconvert_exporter": "python",
   "pygments_lexer": "ipython3",
   "version": "3.9.13"
  }
 },
 "nbformat": 4,
 "nbformat_minor": 5
}
