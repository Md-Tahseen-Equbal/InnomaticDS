{
 "cells": [
  {
   "cell_type": "markdown",
   "id": "f2514a96",
   "metadata": {},
   "source": [
    "# Data Type \n",
    "--int  --> 8,16,32,64\n",
    "--float--> 16,32,64,128\n",
    "--boleean-->True,False\n",
    "--complex--> Complex64\n",
    "--unit (Unsigned Integr()) -->  8,16,32,64"
   ]
  },
  {
   "cell_type": "code",
   "execution_count": 5,
   "id": "7f39622b",
   "metadata": {},
   "outputs": [],
   "source": [
    "import numpy as np"
   ]
  },
  {
   "cell_type": "code",
   "execution_count": 2,
   "id": "2df4a87e",
   "metadata": {},
   "outputs": [],
   "source": [
    "arr = np.array([1,2,3,4,5,6])"
   ]
  },
  {
   "cell_type": "code",
   "execution_count": 3,
   "id": "4c7e8e4a",
   "metadata": {},
   "outputs": [
    {
     "data": {
      "text/plain": [
       "dtype('int32')"
      ]
     },
     "execution_count": 3,
     "metadata": {},
     "output_type": "execute_result"
    }
   ],
   "source": [
    "arr.dtype"
   ]
  },
  {
   "cell_type": "code",
   "execution_count": 4,
   "id": "87072808",
   "metadata": {},
   "outputs": [
    {
     "data": {
      "text/plain": [
       "iinfo(min=-128, max=127, dtype=int8)"
      ]
     },
     "execution_count": 4,
     "metadata": {},
     "output_type": "execute_result"
    }
   ],
   "source": [
    "np.iinfo('int8')"
   ]
  },
  {
   "cell_type": "code",
   "execution_count": 7,
   "id": "8c94d84e",
   "metadata": {},
   "outputs": [
    {
     "data": {
      "text/plain": [
       "iinfo(min=-2147483648, max=2147483647, dtype=int32)"
      ]
     },
     "execution_count": 7,
     "metadata": {},
     "output_type": "execute_result"
    }
   ],
   "source": [
    "np.iinfo('int32')"
   ]
  },
  {
   "cell_type": "code",
   "execution_count": 4,
   "id": "98e8411e",
   "metadata": {},
   "outputs": [
    {
     "data": {
      "text/plain": [
       "array([1, 2, 3, 4, 5, 6], dtype=int8)"
      ]
     },
     "execution_count": 4,
     "metadata": {},
     "output_type": "execute_result"
    }
   ],
   "source": [
    "a = np.array([1,2,3,4,5,6],dtype='int8')\n",
    "a\n"
   ]
  },
  {
   "cell_type": "code",
   "execution_count": null,
   "id": "305e2fb8",
   "metadata": {},
   "outputs": [],
   "source": []
  },
  {
   "cell_type": "markdown",
   "id": "d8dea5ca",
   "metadata": {},
   "source": [
    "# Float using"
   ]
  },
  {
   "cell_type": "code",
   "execution_count": 13,
   "id": "25e28108",
   "metadata": {},
   "outputs": [],
   "source": [
    "b = np.array([2.3,4.5,6.7,8.])"
   ]
  },
  {
   "cell_type": "code",
   "execution_count": 15,
   "id": "1dd3a40a",
   "metadata": {},
   "outputs": [
    {
     "data": {
      "text/plain": [
       "dtype('float64')"
      ]
     },
     "execution_count": 15,
     "metadata": {},
     "output_type": "execute_result"
    }
   ],
   "source": [
    "b.dtype"
   ]
  },
  {
   "cell_type": "code",
   "execution_count": 16,
   "id": "a95cab18",
   "metadata": {},
   "outputs": [
    {
     "data": {
      "text/plain": [
       "finfo(resolution=0.001, min=-6.55040e+04, max=6.55040e+04, dtype=float16)"
      ]
     },
     "execution_count": 16,
     "metadata": {},
     "output_type": "execute_result"
    }
   ],
   "source": [
    "np.finfo('float16')"
   ]
  },
  {
   "cell_type": "code",
   "execution_count": 6,
   "id": "12a130ea",
   "metadata": {},
   "outputs": [
    {
     "ename": "ValueError",
     "evalue": "data type <class 'numpy.str_'> not inexact",
     "output_type": "error",
     "traceback": [
      "\u001b[1;31m---------------------------------------------------------------------------\u001b[0m",
      "\u001b[1;31mValueError\u001b[0m                                Traceback (most recent call last)",
      "\u001b[1;32m~\\AppData\\Local\\Temp\\ipykernel_19384\\2546328559.py\u001b[0m in \u001b[0;36m<module>\u001b[1;34m\u001b[0m\n\u001b[1;32m----> 1\u001b[1;33m \u001b[0mnp\u001b[0m\u001b[1;33m.\u001b[0m\u001b[0mfinfo\u001b[0m\u001b[1;33m(\u001b[0m\u001b[1;34m'float8'\u001b[0m\u001b[1;33m)\u001b[0m\u001b[1;33m\u001b[0m\u001b[1;33m\u001b[0m\u001b[0m\n\u001b[0m",
      "\u001b[1;32m~\\anaconda3\\envs\\tf\\lib\\site-packages\\numpy\\core\\getlimits.py\u001b[0m in \u001b[0;36m__new__\u001b[1;34m(cls, dtype)\u001b[0m\n\u001b[0;32m    396\u001b[0m             \u001b[0mdtype\u001b[0m \u001b[1;33m=\u001b[0m \u001b[0mnewdtype\u001b[0m\u001b[1;33m\u001b[0m\u001b[1;33m\u001b[0m\u001b[0m\n\u001b[0;32m    397\u001b[0m         \u001b[1;32mif\u001b[0m \u001b[1;32mnot\u001b[0m \u001b[0missubclass\u001b[0m\u001b[1;33m(\u001b[0m\u001b[0mdtype\u001b[0m\u001b[1;33m,\u001b[0m \u001b[0mnumeric\u001b[0m\u001b[1;33m.\u001b[0m\u001b[0minexact\u001b[0m\u001b[1;33m)\u001b[0m\u001b[1;33m:\u001b[0m\u001b[1;33m\u001b[0m\u001b[1;33m\u001b[0m\u001b[0m\n\u001b[1;32m--> 398\u001b[1;33m             \u001b[1;32mraise\u001b[0m \u001b[0mValueError\u001b[0m\u001b[1;33m(\u001b[0m\u001b[1;34m\"data type %r not inexact\"\u001b[0m \u001b[1;33m%\u001b[0m \u001b[1;33m(\u001b[0m\u001b[0mdtype\u001b[0m\u001b[1;33m)\u001b[0m\u001b[1;33m)\u001b[0m\u001b[1;33m\u001b[0m\u001b[1;33m\u001b[0m\u001b[0m\n\u001b[0m\u001b[0;32m    399\u001b[0m         \u001b[0mobj\u001b[0m \u001b[1;33m=\u001b[0m \u001b[0mcls\u001b[0m\u001b[1;33m.\u001b[0m\u001b[0m_finfo_cache\u001b[0m\u001b[1;33m.\u001b[0m\u001b[0mget\u001b[0m\u001b[1;33m(\u001b[0m\u001b[0mdtype\u001b[0m\u001b[1;33m,\u001b[0m \u001b[1;32mNone\u001b[0m\u001b[1;33m)\u001b[0m\u001b[1;33m\u001b[0m\u001b[1;33m\u001b[0m\u001b[0m\n\u001b[0;32m    400\u001b[0m         \u001b[1;32mif\u001b[0m \u001b[0mobj\u001b[0m \u001b[1;32mis\u001b[0m \u001b[1;32mnot\u001b[0m \u001b[1;32mNone\u001b[0m\u001b[1;33m:\u001b[0m\u001b[1;33m\u001b[0m\u001b[1;33m\u001b[0m\u001b[0m\n",
      "\u001b[1;31mValueError\u001b[0m: data type <class 'numpy.str_'> not inexact"
     ]
    }
   ],
   "source": []
  },
  {
   "cell_type": "markdown",
   "id": "af7556d2",
   "metadata": {},
   "source": [
    "# astype() -- To convert One Data type to another Data Type"
   ]
  },
  {
   "cell_type": "code",
   "execution_count": 8,
   "id": "d45c9ed7",
   "metadata": {},
   "outputs": [
    {
     "data": {
      "text/plain": [
       "array([ 73, 111,  57,  83,  64,  16,  85,  49, 114,  73,  98, 101, 113,\n",
       "        14,  35,  40, 119,  18,  26,  76])"
      ]
     },
     "execution_count": 8,
     "metadata": {},
     "output_type": "execute_result"
    }
   ],
   "source": [
    "age = np.random.randint(1,120,20)\n",
    "age"
   ]
  },
  {
   "cell_type": "code",
   "execution_count": 9,
   "id": "cab1e118",
   "metadata": {},
   "outputs": [
    {
     "data": {
      "text/plain": [
       "dtype('int32')"
      ]
     },
     "execution_count": 9,
     "metadata": {},
     "output_type": "execute_result"
    }
   ],
   "source": [
    "age.dtype  # ---default int32"
   ]
  },
  {
   "cell_type": "code",
   "execution_count": 21,
   "id": "d0a9960d",
   "metadata": {},
   "outputs": [
    {
     "data": {
      "text/plain": [
       "80"
      ]
     },
     "execution_count": 21,
     "metadata": {},
     "output_type": "execute_result"
    }
   ],
   "source": [
    "age.nbytes"
   ]
  },
  {
   "cell_type": "code",
   "execution_count": 22,
   "id": "f0e9448a",
   "metadata": {},
   "outputs": [],
   "source": [
    "ag = age.astype('int8')"
   ]
  },
  {
   "cell_type": "code",
   "execution_count": 23,
   "id": "8993e9ce",
   "metadata": {},
   "outputs": [
    {
     "data": {
      "text/plain": [
       "dtype('int8')"
      ]
     },
     "execution_count": 23,
     "metadata": {},
     "output_type": "execute_result"
    }
   ],
   "source": [
    "ag.dtype"
   ]
  },
  {
   "cell_type": "code",
   "execution_count": 24,
   "id": "44aa83b1",
   "metadata": {},
   "outputs": [
    {
     "data": {
      "text/plain": [
       "array([108,  55,  77,  90,  53,  21,  18,  31, 102,  13, 109,  50,  59,\n",
       "       102,   5, 103,  79,  37,  74,  75], dtype=int8)"
      ]
     },
     "execution_count": 24,
     "metadata": {},
     "output_type": "execute_result"
    }
   ],
   "source": [
    "ag"
   ]
  },
  {
   "cell_type": "code",
   "execution_count": 25,
   "id": "067b99b3",
   "metadata": {},
   "outputs": [],
   "source": [
    "salary = np.random.randint(30000,100000,30)"
   ]
  },
  {
   "cell_type": "code",
   "execution_count": 26,
   "id": "bc38d184",
   "metadata": {},
   "outputs": [
    {
     "data": {
      "text/plain": [
       "array([69350, 60067, 66030, 59020, 57195, 84521, 85523, 95293, 75276,\n",
       "       96127, 88105, 93212, 56620, 99469, 62945, 78229, 70129, 87708,\n",
       "       82990, 81589, 82884, 99628, 65237, 35382, 48890, 54890, 73822,\n",
       "       79116, 63063, 92445])"
      ]
     },
     "execution_count": 26,
     "metadata": {},
     "output_type": "execute_result"
    }
   ],
   "source": [
    "salary"
   ]
  },
  {
   "cell_type": "markdown",
   "id": "1437e825",
   "metadata": {},
   "source": [
    " # Statistical Measure"
   ]
  },
  {
   "cell_type": "markdown",
   "id": "3043210e",
   "metadata": {},
   "source": [
    "# Measure of Central Tendency"
   ]
  },
  {
   "cell_type": "code",
   "execution_count": 27,
   "id": "74f8d33c",
   "metadata": {},
   "outputs": [
    {
     "data": {
      "text/plain": [
       "74825.16666666667"
      ]
     },
     "execution_count": 27,
     "metadata": {},
     "output_type": "execute_result"
    }
   ],
   "source": [
    "# Mean \n",
    "np.mean(salary)   # Function oreinted Method "
   ]
  },
  {
   "cell_type": "code",
   "execution_count": 28,
   "id": "32df2421",
   "metadata": {},
   "outputs": [
    {
     "data": {
      "text/plain": [
       "74825.16666666667"
      ]
     },
     "execution_count": 28,
     "metadata": {},
     "output_type": "execute_result"
    }
   ],
   "source": [
    "salary.mean()   # Object Oriented Method"
   ]
  },
  {
   "cell_type": "code",
   "execution_count": 29,
   "id": "2f5af61d",
   "metadata": {},
   "outputs": [
    {
     "data": {
      "text/plain": [
       "76752.5"
      ]
     },
     "execution_count": 29,
     "metadata": {},
     "output_type": "execute_result"
    }
   ],
   "source": [
    "# Median\n",
    "np.median(salary)"
   ]
  },
  {
   "cell_type": "code",
   "execution_count": 30,
   "id": "2447ffe0",
   "metadata": {},
   "outputs": [
    {
     "ename": "AttributeError",
     "evalue": "'numpy.ndarray' object has no attribute 'median'",
     "output_type": "error",
     "traceback": [
      "\u001b[1;31m---------------------------------------------------------------------------\u001b[0m",
      "\u001b[1;31mAttributeError\u001b[0m                            Traceback (most recent call last)",
      "\u001b[1;32m~\\AppData\\Local\\Temp\\ipykernel_10452\\3929857960.py\u001b[0m in \u001b[0;36m<module>\u001b[1;34m\u001b[0m\n\u001b[1;32m----> 1\u001b[1;33m \u001b[0msalary\u001b[0m\u001b[1;33m.\u001b[0m\u001b[0mmedian\u001b[0m\u001b[1;33m(\u001b[0m\u001b[1;33m)\u001b[0m\u001b[1;33m\u001b[0m\u001b[1;33m\u001b[0m\u001b[0m\n\u001b[0m",
      "\u001b[1;31mAttributeError\u001b[0m: 'numpy.ndarray' object has no attribute 'median'"
     ]
    }
   ],
   "source": [
    "salary.median()"
   ]
  },
  {
   "cell_type": "markdown",
   "id": "22263009",
   "metadata": {},
   "source": [
    "# Measure of Dispersion"
   ]
  },
  {
   "cell_type": "code",
   "execution_count": 31,
   "id": "780d222b",
   "metadata": {},
   "outputs": [
    {
     "data": {
      "text/plain": [
       "99628"
      ]
     },
     "execution_count": 31,
     "metadata": {},
     "output_type": "execute_result"
    }
   ],
   "source": [
    "#Max\n",
    "np.max(salary)"
   ]
  },
  {
   "cell_type": "code",
   "execution_count": 32,
   "id": "7f2be2f3",
   "metadata": {},
   "outputs": [
    {
     "data": {
      "text/plain": [
       "99628"
      ]
     },
     "execution_count": 32,
     "metadata": {},
     "output_type": "execute_result"
    }
   ],
   "source": [
    "salary.max()"
   ]
  },
  {
   "cell_type": "code",
   "execution_count": 33,
   "id": "d81d9f95",
   "metadata": {},
   "outputs": [
    {
     "data": {
      "text/plain": [
       "35382"
      ]
     },
     "execution_count": 33,
     "metadata": {},
     "output_type": "execute_result"
    }
   ],
   "source": [
    "#Min\n",
    "np.min(salary)"
   ]
  },
  {
   "cell_type": "code",
   "execution_count": 34,
   "id": "fcdab78e",
   "metadata": {},
   "outputs": [
    {
     "data": {
      "text/plain": [
       "35382"
      ]
     },
     "execution_count": 34,
     "metadata": {},
     "output_type": "execute_result"
    }
   ],
   "source": [
    "salary.min()"
   ]
  },
  {
   "cell_type": "code",
   "execution_count": 36,
   "id": "54283307",
   "metadata": {},
   "outputs": [
    {
     "data": {
      "text/plain": [
       "64246"
      ]
     },
     "execution_count": 36,
     "metadata": {},
     "output_type": "execute_result"
    }
   ],
   "source": [
    "# Range \n",
    "range_ = np.max(salary) - np.min(salary)\n",
    "range_"
   ]
  },
  {
   "cell_type": "code",
   "execution_count": 37,
   "id": "43de5287",
   "metadata": {},
   "outputs": [
    {
     "data": {
      "text/plain": [
       "257984814.20555553"
      ]
     },
     "execution_count": 37,
     "metadata": {},
     "output_type": "execute_result"
    }
   ],
   "source": [
    "#Var\n",
    "np.var(salary)"
   ]
  },
  {
   "cell_type": "code",
   "execution_count": 38,
   "id": "ad4aee21",
   "metadata": {},
   "outputs": [
    {
     "data": {
      "text/plain": [
       "16061.905684119663"
      ]
     },
     "execution_count": 38,
     "metadata": {},
     "output_type": "execute_result"
    }
   ],
   "source": [
    "#Standard Deviation\n",
    "np.std(salary)"
   ]
  },
  {
   "cell_type": "code",
   "execution_count": 41,
   "id": "809a6ab3",
   "metadata": {},
   "outputs": [
    {
     "data": {
      "text/plain": [
       "64584.799999999996"
      ]
     },
     "execution_count": 41,
     "metadata": {},
     "output_type": "execute_result"
    }
   ],
   "source": [
    "# Perncentile\n",
    "np.percentile(salary,30)"
   ]
  },
  {
   "cell_type": "code",
   "execution_count": 42,
   "id": "ba3c5e42",
   "metadata": {},
   "outputs": [
    {
     "data": {
      "text/plain": [
       "64584.799999999996"
      ]
     },
     "execution_count": 42,
     "metadata": {},
     "output_type": "execute_result"
    }
   ],
   "source": [
    "#Quantile\n",
    "np.quantile(salary,0.3)"
   ]
  },
  {
   "cell_type": "code",
   "execution_count": 43,
   "id": "84aab9dc",
   "metadata": {},
   "outputs": [],
   "source": [
    "# Outliers / IQR\n",
    "outliers = np.quantile(salary,0.75) - np.quantile(salary,0.25)"
   ]
  },
  {
   "cell_type": "code",
   "execution_count": 44,
   "id": "42683c1d",
   "metadata": {},
   "outputs": [
    {
     "data": {
      "text/plain": [
       "24187.25"
      ]
     },
     "execution_count": 44,
     "metadata": {},
     "output_type": "execute_result"
    }
   ],
   "source": [
    "outliers"
   ]
  },
  {
   "cell_type": "markdown",
   "id": "c88cb42c",
   "metadata": {},
   "source": [
    "# IQR Method"
   ]
  },
  {
   "cell_type": "code",
   "execution_count": null,
   "id": "b0108578",
   "metadata": {},
   "outputs": [],
   "source": [
    "age = np.array([23,45,67,890,6,7,32])\n",
    "\n",
    "Q1 = np.quantile(age,0.25)\n",
    "Q3 = np.quantile(age,0.75)\n",
    "\n",
    "IQR = Q3 - Q1\n",
    "\n",
    "lower = max(age.min(),Q1 - 1.5 * IQR)\n",
    "upper = min(age.max(),Q3 + 1.5 * IQR)\n",
    "\n",
    "age[(age<lower) | (age>upper)]"
   ]
  },
  {
   "cell_type": "code",
   "execution_count": 49,
   "id": "c6362f71",
   "metadata": {},
   "outputs": [],
   "source": [
    "def outlier(data):\n",
    "    \n",
    "\n",
    "    Q1 = np.quantile(data,0.25)\n",
    "    Q3 = np.quantile(data,0.75)\n",
    "\n",
    "    IQR = Q3 - Q1\n",
    "\n",
    "    lower = max(data.min(),Q1 - 1.5 * IQR)\n",
    "    upper = min(data.max(),Q3 + 1.5 * IQR)\n",
    "\n",
    "    return data[(data<lower) | (data>upper)]"
   ]
  },
  {
   "cell_type": "code",
   "execution_count": 50,
   "id": "28a0a8e4",
   "metadata": {},
   "outputs": [],
   "source": [
    "arr = np.array([1,2,3,4,5,500])"
   ]
  },
  {
   "cell_type": "code",
   "execution_count": 53,
   "id": "e81f07fb",
   "metadata": {},
   "outputs": [
    {
     "data": {
      "text/plain": [
       "array([500])"
      ]
     },
     "execution_count": 53,
     "metadata": {},
     "output_type": "execute_result"
    }
   ],
   "source": [
    "outlier(arr)"
   ]
  },
  {
   "cell_type": "code",
   "execution_count": null,
   "id": "da2ab0ac",
   "metadata": {},
   "outputs": [],
   "source": []
  },
  {
   "cell_type": "code",
   "execution_count": null,
   "id": "560fa0cd",
   "metadata": {},
   "outputs": [],
   "source": []
  },
  {
   "cell_type": "markdown",
   "id": "d1430690",
   "metadata": {},
   "source": [
    "# Measure of Skewness"
   ]
  },
  {
   "cell_type": "code",
   "execution_count": 54,
   "id": "b298090a",
   "metadata": {},
   "outputs": [
    {
     "data": {
      "text/plain": [
       "array([69350, 60067, 66030, 59020, 57195, 84521, 85523, 95293, 75276,\n",
       "       96127, 88105, 93212, 56620, 99469, 62945, 78229, 70129, 87708,\n",
       "       82990, 81589, 82884, 99628, 65237, 35382, 48890, 54890, 73822,\n",
       "       79116, 63063, 92445])"
      ]
     },
     "execution_count": 54,
     "metadata": {},
     "output_type": "execute_result"
    }
   ],
   "source": [
    "salary"
   ]
  },
  {
   "cell_type": "code",
   "execution_count": 55,
   "id": "0140e69d",
   "metadata": {},
   "outputs": [],
   "source": [
    "# In Numpy Skewnees and Kurtosis is not avialiable "
   ]
  },
  {
   "cell_type": "markdown",
   "id": "7ff5f253",
   "metadata": {},
   "source": [
    "# Measure of Relationship"
   ]
  },
  {
   "cell_type": "code",
   "execution_count": 11,
   "id": "982f12e4",
   "metadata": {},
   "outputs": [
    {
     "data": {
      "text/plain": [
       "array([10, 16,  4])"
      ]
     },
     "execution_count": 11,
     "metadata": {},
     "output_type": "execute_result"
    }
   ],
   "source": [
    "age = np. random.randint([20,40,10])\n",
    "age"
   ]
  },
  {
   "cell_type": "code",
   "execution_count": 61,
   "id": "9f0f69e2",
   "metadata": {},
   "outputs": [
    {
     "data": {
      "text/plain": [
       "array([18483,  6774,     6])"
      ]
     },
     "execution_count": 61,
     "metadata": {},
     "output_type": "execute_result"
    }
   ],
   "source": [
    "salary = np.random.randint([20000,40000,10])\n",
    "salary"
   ]
  },
  {
   "cell_type": "code",
   "execution_count": 62,
   "id": "8f47fbdb",
   "metadata": {},
   "outputs": [
    {
     "data": {
      "text/plain": [
       "array([[9.3000000e+01, 6.0642000e+04],\n",
       "       [6.0642000e+04, 8.7384339e+07]])"
      ]
     },
     "execution_count": 62,
     "metadata": {},
     "output_type": "execute_result"
    }
   ],
   "source": [
    "np.cov(age,salary)"
   ]
  },
  {
   "cell_type": "code",
   "execution_count": 63,
   "id": "0741d945",
   "metadata": {},
   "outputs": [
    {
     "data": {
      "text/plain": [
       "array([[1.        , 0.67269041],\n",
       "       [0.67269041, 1.        ]])"
      ]
     },
     "execution_count": 63,
     "metadata": {},
     "output_type": "execute_result"
    }
   ],
   "source": [
    "np.corrcoef(age,salary)"
   ]
  },
  {
   "cell_type": "code",
   "execution_count": null,
   "id": "429cbb7d",
   "metadata": {},
   "outputs": [],
   "source": []
  },
  {
   "cell_type": "markdown",
   "id": "f6a26bfb",
   "metadata": {},
   "source": [
    "# Multi Dimensional Array"
   ]
  },
  {
   "cell_type": "code",
   "execution_count": 65,
   "id": "22e9446b",
   "metadata": {},
   "outputs": [],
   "source": [
    "# While Creating "
   ]
  },
  {
   "cell_type": "code",
   "execution_count": 67,
   "id": "a9afd32d",
   "metadata": {},
   "outputs": [
    {
     "data": {
      "text/plain": [
       "array([[[2, 3, 4, 5, 6]]])"
      ]
     },
     "execution_count": 67,
     "metadata": {},
     "output_type": "execute_result"
    }
   ],
   "source": [
    "arr = np.array([2,3,4,5,6],ndmin = 3)\n",
    "arr"
   ]
  },
  {
   "cell_type": "code",
   "execution_count": 69,
   "id": "5dedce00",
   "metadata": {},
   "outputs": [
    {
     "data": {
      "text/plain": [
       "3"
      ]
     },
     "execution_count": 69,
     "metadata": {},
     "output_type": "execute_result"
    }
   ],
   "source": [
    "arr.ndim"
   ]
  },
  {
   "cell_type": "code",
   "execution_count": 70,
   "id": "32e40f57",
   "metadata": {},
   "outputs": [],
   "source": [
    "# After Creation"
   ]
  },
  {
   "cell_type": "code",
   "execution_count": 71,
   "id": "ed695b84",
   "metadata": {},
   "outputs": [
    {
     "data": {
      "text/plain": [
       "1"
      ]
     },
     "execution_count": 71,
     "metadata": {},
     "output_type": "execute_result"
    }
   ],
   "source": [
    "arr = np.array([1,2,3,4,5,6])\n",
    "arr.ndim"
   ]
  },
  {
   "cell_type": "code",
   "execution_count": 72,
   "id": "6c014b75",
   "metadata": {},
   "outputs": [
    {
     "data": {
      "text/plain": [
       "array([[1, 2],\n",
       "       [3, 4],\n",
       "       [5, 6]])"
      ]
     },
     "execution_count": 72,
     "metadata": {},
     "output_type": "execute_result"
    }
   ],
   "source": [
    "a = arr.reshape(3,2)\n",
    "a"
   ]
  },
  {
   "cell_type": "code",
   "execution_count": 73,
   "id": "22bf2a5a",
   "metadata": {},
   "outputs": [
    {
     "data": {
      "text/plain": [
       "array([[[[1]],\n",
       "\n",
       "        [[2]]],\n",
       "\n",
       "\n",
       "       [[[3]],\n",
       "\n",
       "        [[4]]],\n",
       "\n",
       "\n",
       "       [[[5]],\n",
       "\n",
       "        [[6]]]])"
      ]
     },
     "execution_count": 73,
     "metadata": {},
     "output_type": "execute_result"
    }
   ],
   "source": [
    "a = arr.reshape(3,2,1,1)\n",
    "a"
   ]
  },
  {
   "cell_type": "code",
   "execution_count": 74,
   "id": "830109bf",
   "metadata": {},
   "outputs": [
    {
     "ename": "ValueError",
     "evalue": "cannot reshape array of size 6 into shape (3,1,1,1)",
     "output_type": "error",
     "traceback": [
      "\u001b[1;31m---------------------------------------------------------------------------\u001b[0m",
      "\u001b[1;31mValueError\u001b[0m                                Traceback (most recent call last)",
      "\u001b[1;32m~\\AppData\\Local\\Temp\\ipykernel_10452\\2499914357.py\u001b[0m in \u001b[0;36m<module>\u001b[1;34m\u001b[0m\n\u001b[1;32m----> 1\u001b[1;33m \u001b[0ma\u001b[0m \u001b[1;33m=\u001b[0m \u001b[0marr\u001b[0m\u001b[1;33m.\u001b[0m\u001b[0mreshape\u001b[0m\u001b[1;33m(\u001b[0m\u001b[1;36m3\u001b[0m\u001b[1;33m,\u001b[0m\u001b[1;36m1\u001b[0m\u001b[1;33m,\u001b[0m\u001b[1;36m1\u001b[0m\u001b[1;33m,\u001b[0m\u001b[1;36m1\u001b[0m\u001b[1;33m)\u001b[0m\u001b[1;33m\u001b[0m\u001b[1;33m\u001b[0m\u001b[0m\n\u001b[0m\u001b[0;32m      2\u001b[0m \u001b[0ma\u001b[0m\u001b[1;33m\u001b[0m\u001b[1;33m\u001b[0m\u001b[0m\n",
      "\u001b[1;31mValueError\u001b[0m: cannot reshape array of size 6 into shape (3,1,1,1)"
     ]
    }
   ],
   "source": [
    "a = arr.reshape(3,1,1,1)\n",
    "a"
   ]
  },
  {
   "cell_type": "code",
   "execution_count": 76,
   "id": "8831f134",
   "metadata": {},
   "outputs": [
    {
     "ename": "ValueError",
     "evalue": "cannot reshape array of size 6 into shape (3,3,1)",
     "output_type": "error",
     "traceback": [
      "\u001b[1;31m---------------------------------------------------------------------------\u001b[0m",
      "\u001b[1;31mValueError\u001b[0m                                Traceback (most recent call last)",
      "\u001b[1;32m~\\AppData\\Local\\Temp\\ipykernel_10452\\3475912166.py\u001b[0m in \u001b[0;36m<module>\u001b[1;34m\u001b[0m\n\u001b[1;32m----> 1\u001b[1;33m \u001b[0ma\u001b[0m \u001b[1;33m=\u001b[0m \u001b[0marr\u001b[0m\u001b[1;33m.\u001b[0m\u001b[0mreshape\u001b[0m\u001b[1;33m(\u001b[0m\u001b[1;36m3\u001b[0m\u001b[1;33m,\u001b[0m\u001b[1;36m3\u001b[0m\u001b[1;33m,\u001b[0m\u001b[1;36m1\u001b[0m\u001b[1;33m)\u001b[0m\u001b[1;33m\u001b[0m\u001b[1;33m\u001b[0m\u001b[0m\n\u001b[0m\u001b[0;32m      2\u001b[0m \u001b[0ma\u001b[0m\u001b[1;33m\u001b[0m\u001b[1;33m\u001b[0m\u001b[0m\n",
      "\u001b[1;31mValueError\u001b[0m: cannot reshape array of size 6 into shape (3,3,1)"
     ]
    }
   ],
   "source": [
    "a = arr.reshape(3,3,1)\n",
    "a"
   ]
  },
  {
   "cell_type": "markdown",
   "id": "325d8ddd",
   "metadata": {},
   "source": [
    "# Indexing and Slicing"
   ]
  },
  {
   "cell_type": "code",
   "execution_count": 77,
   "id": "bf6aeca4",
   "metadata": {},
   "outputs": [],
   "source": [
    "# Indexing - Extracting Single Value \n",
    "# Slicing - Extracting Multiple Value "
   ]
  },
  {
   "cell_type": "code",
   "execution_count": 78,
   "id": "aa44feb9",
   "metadata": {},
   "outputs": [],
   "source": [
    "arr = np.array([2,3,4,5,6,7,8])"
   ]
  },
  {
   "cell_type": "markdown",
   "id": "3b285177",
   "metadata": {},
   "source": [
    "# Indexing\n",
    "arr[index number/Position Number]"
   ]
  },
  {
   "cell_type": "code",
   "execution_count": 79,
   "id": "6c263079",
   "metadata": {},
   "outputs": [
    {
     "data": {
      "text/plain": [
       "5"
      ]
     },
     "execution_count": 79,
     "metadata": {},
     "output_type": "execute_result"
    }
   ],
   "source": [
    "arr[3]"
   ]
  },
  {
   "cell_type": "code",
   "execution_count": 80,
   "id": "b3ab1587",
   "metadata": {},
   "outputs": [
    {
     "data": {
      "text/plain": [
       "array([4, 5, 6])"
      ]
     },
     "execution_count": 80,
     "metadata": {},
     "output_type": "execute_result"
    }
   ],
   "source": [
    "arr[2:5]"
   ]
  },
  {
   "cell_type": "code",
   "execution_count": 26,
   "id": "38ccc146",
   "metadata": {},
   "outputs": [
    {
     "data": {
      "text/plain": [
       "array([[[[1],\n",
       "         [2]],\n",
       "\n",
       "        [[3],\n",
       "         [4]]],\n",
       "\n",
       "\n",
       "       [[[5],\n",
       "         [6]],\n",
       "\n",
       "        [[7],\n",
       "         [8]]]])"
      ]
     },
     "execution_count": 26,
     "metadata": {},
     "output_type": "execute_result"
    }
   ],
   "source": [
    "ar = np.array([1,2,3,4,5,6,7,8])\n",
    "ar.reshape(2,2,2,1)"
   ]
  },
  {
   "cell_type": "code",
   "execution_count": 27,
   "id": "623611b7",
   "metadata": {},
   "outputs": [
    {
     "data": {
      "text/plain": [
       "array([5, 6])"
      ]
     },
     "execution_count": 27,
     "metadata": {},
     "output_type": "execute_result"
    }
   ],
   "source": [
    "ar[4:6]  # We have to go through online "
   ]
  },
  {
   "cell_type": "code",
   "execution_count": 96,
   "id": "449c7e31",
   "metadata": {},
   "outputs": [
    {
     "name": "stdout",
     "output_type": "stream",
     "text": [
      "Note: you may need to restart the kernel to use updated packages.\n"
     ]
    },
    {
     "name": "stderr",
     "output_type": "stream",
     "text": [
      "ERROR: Could not find a version that satisfies the requirement opencv (from versions: none)\n",
      "ERROR: No matching distribution found for opencv\n"
     ]
    }
   ],
   "source": [
    "pip install opencv"
   ]
  },
  {
   "cell_type": "code",
   "execution_count": 93,
   "id": "63668a2b",
   "metadata": {},
   "outputs": [
    {
     "ename": "ModuleNotFoundError",
     "evalue": "No module named 'cv2'",
     "output_type": "error",
     "traceback": [
      "\u001b[1;31m---------------------------------------------------------------------------\u001b[0m",
      "\u001b[1;31mModuleNotFoundError\u001b[0m                       Traceback (most recent call last)",
      "\u001b[1;32m~\\AppData\\Local\\Temp\\ipykernel_10452\\571303353.py\u001b[0m in \u001b[0;36m<module>\u001b[1;34m\u001b[0m\n\u001b[1;32m----> 1\u001b[1;33m \u001b[1;32mimport\u001b[0m \u001b[0mcv2\u001b[0m\u001b[1;33m\u001b[0m\u001b[1;33m\u001b[0m\u001b[0m\n\u001b[0m",
      "\u001b[1;31mModuleNotFoundError\u001b[0m: No module named 'cv2'"
     ]
    }
   ],
   "source": [
    "import cv2"
   ]
  },
  {
   "cell_type": "code",
   "execution_count": 94,
   "id": "a9a5e493",
   "metadata": {},
   "outputs": [
    {
     "name": "stdout",
     "output_type": "stream",
     "text": [
      "Requirement already satisfied: pip in c:\\users\\91771\\anaconda3\\envs\\tf\\lib\\site-packages (22.2.2)\n",
      "Collecting pip\n",
      "  Downloading pip-24.0-py3-none-any.whl (2.1 MB)\n",
      "     ---------------------------------------- 2.1/2.1 MB 13.5 MB/s eta 0:00:00\n",
      "Installing collected packages: pip\n",
      "  Attempting uninstall: pip\n",
      "    Found existing installation: pip 22.2.2\n",
      "    Uninstalling pip-22.2.2:\n",
      "      Successfully uninstalled pip-22.2.2\n",
      "Successfully installed pip-24.0\n",
      "Note: you may need to restart the kernel to use updated packages.\n"
     ]
    }
   ],
   "source": [
    "pip install --upgrade pip"
   ]
  },
  {
   "cell_type": "code",
   "execution_count": 97,
   "id": "08f6a1cf",
   "metadata": {},
   "outputs": [
    {
     "name": "stdout",
     "output_type": "stream",
     "text": [
      "Note: you may need to restart the kernel to use updated packages.\n"
     ]
    },
    {
     "name": "stderr",
     "output_type": "stream",
     "text": [
      "ERROR: Could not find a version that satisfies the requirement 24.0 (from versions: none)\n",
      "ERROR: No matching distribution found for 24.0\n"
     ]
    }
   ],
   "source": [
    "pip install --upgrade 24.0"
   ]
  },
  {
   "cell_type": "code",
   "execution_count": null,
   "id": "b3dd7a0d",
   "metadata": {},
   "outputs": [],
   "source": []
  }
 ],
 "metadata": {
  "kernelspec": {
   "display_name": "Python 3 (ipykernel)",
   "language": "python",
   "name": "python3"
  },
  "language_info": {
   "codemirror_mode": {
    "name": "ipython",
    "version": 3
   },
   "file_extension": ".py",
   "mimetype": "text/x-python",
   "name": "python",
   "nbconvert_exporter": "python",
   "pygments_lexer": "ipython3",
   "version": "3.9.13"
  }
 },
 "nbformat": 4,
 "nbformat_minor": 5
}
