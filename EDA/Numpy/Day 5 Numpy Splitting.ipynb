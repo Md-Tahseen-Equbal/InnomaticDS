{
 "cells": [
  {
   "cell_type": "markdown",
   "id": "ff35a5f6",
   "metadata": {},
   "source": [
    " Splitting \n",
    " \n",
    " Broadcasting\n",
    " \n",
    " Distribution  --> It is very Important \n",
    " \n",
    " File Handling "
   ]
  },
  {
   "cell_type": "markdown",
   "id": "906d0ecf",
   "metadata": {},
   "source": [
    "# Splitting "
   ]
  },
  {
   "cell_type": "code",
   "execution_count": 1,
   "id": "a28415cd",
   "metadata": {},
   "outputs": [
    {
     "data": {
      "text/plain": [
       "array([[2, 3, 3],\n",
       "       [4, 5, 6],\n",
       "       [9, 0, 1]])"
      ]
     },
     "execution_count": 1,
     "metadata": {},
     "output_type": "execute_result"
    }
   ],
   "source": [
    "import numpy as np\n",
    "a = np.array([[2,3,3],[4,5,6],[9,0,1]])\n",
    "a"
   ]
  },
  {
   "cell_type": "code",
   "execution_count": 2,
   "id": "560b6c53",
   "metadata": {},
   "outputs": [],
   "source": [
    "x,y,z = np.hsplit(a,3) # 3 because array have 3 element"
   ]
  },
  {
   "cell_type": "code",
   "execution_count": 3,
   "id": "7054f931",
   "metadata": {},
   "outputs": [
    {
     "data": {
      "text/plain": [
       "array([[2],\n",
       "       [4],\n",
       "       [9]])"
      ]
     },
     "execution_count": 3,
     "metadata": {},
     "output_type": "execute_result"
    }
   ],
   "source": [
    "x"
   ]
  },
  {
   "cell_type": "code",
   "execution_count": 4,
   "id": "64289f5e",
   "metadata": {},
   "outputs": [
    {
     "data": {
      "text/plain": [
       "array([[3],\n",
       "       [5],\n",
       "       [0]])"
      ]
     },
     "execution_count": 4,
     "metadata": {},
     "output_type": "execute_result"
    }
   ],
   "source": [
    "y"
   ]
  },
  {
   "cell_type": "code",
   "execution_count": 5,
   "id": "506863f3",
   "metadata": {},
   "outputs": [
    {
     "data": {
      "text/plain": [
       "array([[3],\n",
       "       [6],\n",
       "       [1]])"
      ]
     },
     "execution_count": 5,
     "metadata": {},
     "output_type": "execute_result"
    }
   ],
   "source": [
    "z"
   ]
  },
  {
   "cell_type": "code",
   "execution_count": 6,
   "id": "5ea9bb38",
   "metadata": {},
   "outputs": [],
   "source": [
    "a,b,c = np.vsplit(a,3)"
   ]
  },
  {
   "cell_type": "code",
   "execution_count": 7,
   "id": "5d57d965",
   "metadata": {},
   "outputs": [
    {
     "data": {
      "text/plain": [
       "array([[2, 3, 3]])"
      ]
     },
     "execution_count": 7,
     "metadata": {},
     "output_type": "execute_result"
    }
   ],
   "source": [
    "a\n"
   ]
  },
  {
   "cell_type": "code",
   "execution_count": 8,
   "id": "a3dc2452",
   "metadata": {},
   "outputs": [
    {
     "data": {
      "text/plain": [
       "array([[4, 5, 6]])"
      ]
     },
     "execution_count": 8,
     "metadata": {},
     "output_type": "execute_result"
    }
   ],
   "source": [
    "b"
   ]
  },
  {
   "cell_type": "code",
   "execution_count": 9,
   "id": "903e03b2",
   "metadata": {},
   "outputs": [
    {
     "data": {
      "text/plain": [
       "array([[9, 0, 1]])"
      ]
     },
     "execution_count": 9,
     "metadata": {},
     "output_type": "execute_result"
    }
   ],
   "source": [
    "c"
   ]
  },
  {
   "cell_type": "code",
   "execution_count": 10,
   "id": "ee7ee4e8",
   "metadata": {},
   "outputs": [
    {
     "ename": "ValueError",
     "evalue": "array split does not result in an equal division",
     "output_type": "error",
     "traceback": [
      "\u001b[1;31m---------------------------------------------------------------------------\u001b[0m",
      "\u001b[1;31mValueError\u001b[0m                                Traceback (most recent call last)",
      "\u001b[1;32m~\\AppData\\Local\\Temp\\ipykernel_4900\\415569152.py\u001b[0m in \u001b[0;36m<module>\u001b[1;34m\u001b[0m\n\u001b[1;32m----> 1\u001b[1;33m \u001b[0ma\u001b[0m\u001b[1;33m,\u001b[0m\u001b[0mb\u001b[0m\u001b[1;33m,\u001b[0m\u001b[0mc\u001b[0m \u001b[1;33m=\u001b[0m \u001b[0mnp\u001b[0m\u001b[1;33m.\u001b[0m\u001b[0mvsplit\u001b[0m\u001b[1;33m(\u001b[0m\u001b[0ma\u001b[0m\u001b[1;33m,\u001b[0m\u001b[1;36m2\u001b[0m\u001b[1;33m)\u001b[0m\u001b[1;33m\u001b[0m\u001b[1;33m\u001b[0m\u001b[0m\n\u001b[0m",
      "\u001b[1;32m<__array_function__ internals>\u001b[0m in \u001b[0;36mvsplit\u001b[1;34m(*args, **kwargs)\u001b[0m\n",
      "\u001b[1;32m~\\anaconda3\\envs\\tf\\lib\\site-packages\\numpy\\lib\\shape_base.py\u001b[0m in \u001b[0;36mvsplit\u001b[1;34m(ary, indices_or_sections)\u001b[0m\n\u001b[0;32m    989\u001b[0m     \u001b[1;32mif\u001b[0m \u001b[0m_nx\u001b[0m\u001b[1;33m.\u001b[0m\u001b[0mndim\u001b[0m\u001b[1;33m(\u001b[0m\u001b[0mary\u001b[0m\u001b[1;33m)\u001b[0m \u001b[1;33m<\u001b[0m \u001b[1;36m2\u001b[0m\u001b[1;33m:\u001b[0m\u001b[1;33m\u001b[0m\u001b[1;33m\u001b[0m\u001b[0m\n\u001b[0;32m    990\u001b[0m         \u001b[1;32mraise\u001b[0m \u001b[0mValueError\u001b[0m\u001b[1;33m(\u001b[0m\u001b[1;34m'vsplit only works on arrays of 2 or more dimensions'\u001b[0m\u001b[1;33m)\u001b[0m\u001b[1;33m\u001b[0m\u001b[1;33m\u001b[0m\u001b[0m\n\u001b[1;32m--> 991\u001b[1;33m     \u001b[1;32mreturn\u001b[0m \u001b[0msplit\u001b[0m\u001b[1;33m(\u001b[0m\u001b[0mary\u001b[0m\u001b[1;33m,\u001b[0m \u001b[0mindices_or_sections\u001b[0m\u001b[1;33m,\u001b[0m \u001b[1;36m0\u001b[0m\u001b[1;33m)\u001b[0m\u001b[1;33m\u001b[0m\u001b[1;33m\u001b[0m\u001b[0m\n\u001b[0m\u001b[0;32m    992\u001b[0m \u001b[1;33m\u001b[0m\u001b[0m\n\u001b[0;32m    993\u001b[0m \u001b[1;33m\u001b[0m\u001b[0m\n",
      "\u001b[1;32m<__array_function__ internals>\u001b[0m in \u001b[0;36msplit\u001b[1;34m(*args, **kwargs)\u001b[0m\n",
      "\u001b[1;32m~\\anaconda3\\envs\\tf\\lib\\site-packages\\numpy\\lib\\shape_base.py\u001b[0m in \u001b[0;36msplit\u001b[1;34m(ary, indices_or_sections, axis)\u001b[0m\n\u001b[0;32m    870\u001b[0m         \u001b[0mN\u001b[0m \u001b[1;33m=\u001b[0m \u001b[0mary\u001b[0m\u001b[1;33m.\u001b[0m\u001b[0mshape\u001b[0m\u001b[1;33m[\u001b[0m\u001b[0maxis\u001b[0m\u001b[1;33m]\u001b[0m\u001b[1;33m\u001b[0m\u001b[1;33m\u001b[0m\u001b[0m\n\u001b[0;32m    871\u001b[0m         \u001b[1;32mif\u001b[0m \u001b[0mN\u001b[0m \u001b[1;33m%\u001b[0m \u001b[0msections\u001b[0m\u001b[1;33m:\u001b[0m\u001b[1;33m\u001b[0m\u001b[1;33m\u001b[0m\u001b[0m\n\u001b[1;32m--> 872\u001b[1;33m             raise ValueError(\n\u001b[0m\u001b[0;32m    873\u001b[0m                 'array split does not result in an equal division') from None\n\u001b[0;32m    874\u001b[0m     \u001b[1;32mreturn\u001b[0m \u001b[0marray_split\u001b[0m\u001b[1;33m(\u001b[0m\u001b[0mary\u001b[0m\u001b[1;33m,\u001b[0m \u001b[0mindices_or_sections\u001b[0m\u001b[1;33m,\u001b[0m \u001b[0maxis\u001b[0m\u001b[1;33m)\u001b[0m\u001b[1;33m\u001b[0m\u001b[1;33m\u001b[0m\u001b[0m\n",
      "\u001b[1;31mValueError\u001b[0m: array split does not result in an equal division"
     ]
    }
   ],
   "source": [
    "a,b,c = np.vsplit(a,2)"
   ]
  },
  {
   "cell_type": "code",
   "execution_count": 13,
   "id": "4adc1b07",
   "metadata": {},
   "outputs": [
    {
     "data": {
      "text/plain": [
       "array([[2, 3, 3],\n",
       "       [4, 5, 6],\n",
       "       [9, 0, 1]])"
      ]
     },
     "execution_count": 13,
     "metadata": {},
     "output_type": "execute_result"
    }
   ],
   "source": [
    "a = np.array([[2,3,3],[4,5,6],[9,0,1]])\n",
    "a"
   ]
  },
  {
   "cell_type": "code",
   "execution_count": 14,
   "id": "ec4b75fc",
   "metadata": {},
   "outputs": [
    {
     "data": {
      "text/plain": [
       "[array([[2, 3, 3]]), array([[4, 5, 6]]), array([[9, 0, 1]])]"
      ]
     },
     "execution_count": 14,
     "metadata": {},
     "output_type": "execute_result"
    }
   ],
   "source": [
    "np.split(a,3,axis = 0)   # Row Wise "
   ]
  },
  {
   "cell_type": "code",
   "execution_count": 16,
   "id": "d80d2309",
   "metadata": {},
   "outputs": [
    {
     "data": {
      "text/plain": [
       "[array([[2],\n",
       "        [4],\n",
       "        [9]]),\n",
       " array([[3],\n",
       "        [5],\n",
       "        [0]]),\n",
       " array([[3],\n",
       "        [6],\n",
       "        [1]])]"
      ]
     },
     "execution_count": 16,
     "metadata": {},
     "output_type": "execute_result"
    }
   ],
   "source": [
    "np.split(a,3,axis = 1) # Column Wise "
   ]
  },
  {
   "cell_type": "markdown",
   "id": "3f0f8d69",
   "metadata": {},
   "source": [
    "# Reshape vs Resize "
   ]
  },
  {
   "cell_type": "code",
   "execution_count": 17,
   "id": "5df11b15",
   "metadata": {},
   "outputs": [
    {
     "data": {
      "text/plain": [
       "array([[2, 3, 3],\n",
       "       [4, 5, 6],\n",
       "       [9, 0, 1]])"
      ]
     },
     "execution_count": 17,
     "metadata": {},
     "output_type": "execute_result"
    }
   ],
   "source": [
    "a"
   ]
  },
  {
   "cell_type": "code",
   "execution_count": 18,
   "id": "1369df9f",
   "metadata": {},
   "outputs": [
    {
     "data": {
      "text/plain": [
       "(3, 3)"
      ]
     },
     "execution_count": 18,
     "metadata": {},
     "output_type": "execute_result"
    }
   ],
   "source": [
    "a.shape"
   ]
  },
  {
   "cell_type": "code",
   "execution_count": 19,
   "id": "41286f82",
   "metadata": {},
   "outputs": [
    {
     "data": {
      "text/plain": [
       "array([[[[2, 3, 3],\n",
       "         [4, 5, 6],\n",
       "         [9, 0, 1]]]])"
      ]
     },
     "execution_count": 19,
     "metadata": {},
     "output_type": "execute_result"
    }
   ],
   "source": [
    "a.reshape(1,1,3,3)     #  4d , 3d, Rows , Column"
   ]
  },
  {
   "cell_type": "code",
   "execution_count": 23,
   "id": "89332560",
   "metadata": {},
   "outputs": [],
   "source": [
    "a = np.array([[1,2],[3,4],[5,6]])"
   ]
  },
  {
   "cell_type": "code",
   "execution_count": 24,
   "id": "6b7295ef",
   "metadata": {},
   "outputs": [
    {
     "data": {
      "text/plain": [
       "array([[1, 2],\n",
       "       [3, 4],\n",
       "       [5, 6]])"
      ]
     },
     "execution_count": 24,
     "metadata": {},
     "output_type": "execute_result"
    }
   ],
   "source": [
    "a\n"
   ]
  },
  {
   "cell_type": "code",
   "execution_count": null,
   "id": "04d850ac",
   "metadata": {},
   "outputs": [],
   "source": []
  },
  {
   "cell_type": "code",
   "execution_count": 25,
   "id": "a539b826",
   "metadata": {},
   "outputs": [
    {
     "data": {
      "text/plain": [
       "array([[1, 2, 3],\n",
       "       [4, 5, 6]])"
      ]
     },
     "execution_count": 25,
     "metadata": {},
     "output_type": "execute_result"
    }
   ],
   "source": [
    "np.reshape(a,(2,3))"
   ]
  },
  {
   "cell_type": "markdown",
   "id": "c00f96b1",
   "metadata": {},
   "source": [
    "# Resize"
   ]
  },
  {
   "cell_type": "code",
   "execution_count": 26,
   "id": "2a914c1f",
   "metadata": {},
   "outputs": [
    {
     "data": {
      "text/plain": [
       "array([[1, 2, 3],\n",
       "       [4, 5, 6]])"
      ]
     },
     "execution_count": 26,
     "metadata": {},
     "output_type": "execute_result"
    }
   ],
   "source": [
    "np.resize(a,(2,3))"
   ]
  },
  {
   "cell_type": "code",
   "execution_count": 28,
   "id": "1c822b9d",
   "metadata": {},
   "outputs": [
    {
     "data": {
      "text/plain": [
       "array([[[1, 2, 3],\n",
       "        [4, 5, 6],\n",
       "        [1, 2, 3],\n",
       "        [4, 5, 6]],\n",
       "\n",
       "       [[1, 2, 3],\n",
       "        [4, 5, 6],\n",
       "        [1, 2, 3],\n",
       "        [4, 5, 6]]])"
      ]
     },
     "execution_count": 28,
     "metadata": {},
     "output_type": "execute_result"
    }
   ],
   "source": [
    "np.resize(a,(2,4,3))  # Resize is work if mismatch value used  it copy  Cylic form like Its start to end horizontaly then again start to end "
   ]
  },
  {
   "cell_type": "markdown",
   "id": "2d8a6d2a",
   "metadata": {},
   "source": [
    "# Broadcasting"
   ]
  },
  {
   "cell_type": "code",
   "execution_count": 29,
   "id": "91b970a7",
   "metadata": {},
   "outputs": [],
   "source": [
    "# If we Want to do Mathematical Operation on Matrices the shape should be same\n",
    "# Though the shape is not same, Still we can perform Mathematical operations using \"Broadcasting\" in Numpy\n"
   ]
  },
  {
   "cell_type": "code",
   "execution_count": 30,
   "id": "d2456fb3",
   "metadata": {},
   "outputs": [],
   "source": [
    "# For performing Broad casting Three Condintion \n",
    "# 1--> The Right Most values should be match in both matrices and remaining can be 1 \n",
    "# 2--> Right can be 1 and remaining should be same\n",
    "# 3--> Single Element"
   ]
  },
  {
   "cell_type": "code",
   "execution_count": 35,
   "id": "39a34d68",
   "metadata": {},
   "outputs": [
    {
     "data": {
      "text/plain": [
       "(3, 3)"
      ]
     },
     "execution_count": 35,
     "metadata": {},
     "output_type": "execute_result"
    }
   ],
   "source": [
    "# 1--> The Right Most values should be match in both matrices and remaining can be 1 \n",
    "a = np.array([[3,4,5],[6,7,8],[2,6,7]])\n",
    "a.shape"
   ]
  },
  {
   "cell_type": "code",
   "execution_count": 36,
   "id": "cdab2043",
   "metadata": {},
   "outputs": [
    {
     "data": {
      "text/plain": [
       "(1, 3)"
      ]
     },
     "execution_count": 36,
     "metadata": {},
     "output_type": "execute_result"
    }
   ],
   "source": [
    "b = np.array([[1,2,4]])\n",
    "b.shape"
   ]
  },
  {
   "cell_type": "code",
   "execution_count": 34,
   "id": "55a46dcc",
   "metadata": {},
   "outputs": [
    {
     "data": {
      "text/plain": [
       "array([[ 4,  6,  9],\n",
       "       [ 7,  9, 12],\n",
       "       [ 3,  8, 11]])"
      ]
     },
     "execution_count": 34,
     "metadata": {},
     "output_type": "execute_result"
    }
   ],
   "source": [
    "a+b "
   ]
  },
  {
   "cell_type": "code",
   "execution_count": 37,
   "id": "6b9d0d73",
   "metadata": {},
   "outputs": [],
   "source": [
    "# 2--> Right can be 1 and remaining should be same\n"
   ]
  },
  {
   "cell_type": "code",
   "execution_count": 38,
   "id": "9fa353e0",
   "metadata": {},
   "outputs": [
    {
     "data": {
      "text/plain": [
       "array([[ 1,  3,  6],\n",
       "       [ 7,  9, 12]])"
      ]
     },
     "execution_count": 38,
     "metadata": {},
     "output_type": "execute_result"
    }
   ],
   "source": [
    "x = np.array([[1,3,6],[7,9,12]])\n",
    "x"
   ]
  },
  {
   "cell_type": "code",
   "execution_count": 39,
   "id": "eec8ab43",
   "metadata": {},
   "outputs": [
    {
     "data": {
      "text/plain": [
       "array([[1],\n",
       "       [2]])"
      ]
     },
     "execution_count": 39,
     "metadata": {},
     "output_type": "execute_result"
    }
   ],
   "source": [
    "y = np.array([[1],[2]])\n",
    "y"
   ]
  },
  {
   "cell_type": "code",
   "execution_count": 40,
   "id": "ef958a5d",
   "metadata": {},
   "outputs": [
    {
     "data": {
      "text/plain": [
       "array([[ 2,  4,  7],\n",
       "       [ 9, 11, 14]])"
      ]
     },
     "execution_count": 40,
     "metadata": {},
     "output_type": "execute_result"
    }
   ],
   "source": [
    "x+y"
   ]
  },
  {
   "cell_type": "code",
   "execution_count": 41,
   "id": "9d1761c2",
   "metadata": {},
   "outputs": [
    {
     "data": {
      "text/plain": [
       "array([[4, 2],\n",
       "       [3, 1],\n",
       "       [6, 2]])"
      ]
     },
     "execution_count": 41,
     "metadata": {},
     "output_type": "execute_result"
    }
   ],
   "source": [
    "# Single Element \n",
    "f = np.array([[4,2],[3,1],[6,2]])\n",
    "f"
   ]
  },
  {
   "cell_type": "code",
   "execution_count": 45,
   "id": "6c8630f7",
   "metadata": {},
   "outputs": [
    {
     "data": {
      "text/plain": [
       "array([[6, 1]])"
      ]
     },
     "execution_count": 45,
     "metadata": {},
     "output_type": "execute_result"
    }
   ],
   "source": [
    "g = np.array([[6,1]])\n",
    "g"
   ]
  },
  {
   "cell_type": "code",
   "execution_count": 46,
   "id": "e354ec0d",
   "metadata": {},
   "outputs": [
    {
     "data": {
      "text/plain": [
       "array([[10,  3],\n",
       "       [ 9,  2],\n",
       "       [12,  3]])"
      ]
     },
     "execution_count": 46,
     "metadata": {},
     "output_type": "execute_result"
    }
   ],
   "source": [
    "f+g"
   ]
  },
  {
   "cell_type": "markdown",
   "id": "4441a5fc",
   "metadata": {},
   "source": [
    "# Distributions"
   ]
  },
  {
   "cell_type": "code",
   "execution_count": 47,
   "id": "79d98a31",
   "metadata": {},
   "outputs": [],
   "source": [
    "# Normal Distribution "
   ]
  },
  {
   "cell_type": "code",
   "execution_count": 50,
   "id": "4f1c63e0",
   "metadata": {},
   "outputs": [
    {
     "data": {
      "text/plain": [
       "array([ 8.24648194e-01,  2.54955137e+01,  2.72941851e+01,  4.46669009e-02,\n",
       "        1.34285432e+01,  1.98323646e+01,  2.57840650e+01,  2.38004412e+01,\n",
       "        2.96585328e+00,  2.84398025e+01,  2.23082107e+01,  3.35132176e+01,\n",
       "        5.79226656e+00, -7.09511116e+00,  3.43861523e+01, -9.50200817e+00,\n",
       "       -5.71283432e+00,  3.47746475e+01,  3.39230052e+01,  6.30524223e+00,\n",
       "       -1.22685652e+01,  4.99628248e+00,  4.48450352e+01,  1.24576181e+01,\n",
       "        1.54334092e+01,  1.99552784e+01, -3.03265378e+00,  2.23932796e+01,\n",
       "        3.49935775e+01,  1.61516380e+01,  3.82420984e+01,  2.13844914e+01,\n",
       "        7.78364672e+00,  2.97510960e+01,  3.80382965e+00,  3.51413908e+01,\n",
       "        1.42551443e+01, -3.34226679e+00,  4.84222885e+00, -1.42864946e+01,\n",
       "        4.41023121e+00,  1.13943075e+01, -1.50425874e+01,  1.43288994e+01,\n",
       "        1.79260108e+01,  2.47363077e+01,  2.08339666e+01,  3.60481708e+01,\n",
       "        2.60156277e+01,  1.89207875e+01,  2.83860848e+00,  1.92824739e+01,\n",
       "        2.88305584e+01,  3.77507370e+00, -6.64101146e+00,  3.59032385e+01,\n",
       "        1.03873404e+01,  1.78931439e+01,  1.17951059e+01,  6.13484287e+01,\n",
       "        2.46713645e+01,  1.75656935e+01,  3.72180352e+01,  5.10348621e+01,\n",
       "        1.14293952e+01, -9.40496532e+00,  1.76828765e+01,  2.62173269e+01,\n",
       "        6.44771557e+00,  9.63543675e+00,  2.95631776e+01,  2.50709880e+01,\n",
       "        1.40557881e+01, -4.99758820e+00,  1.00834975e+01,  9.24524287e+00,\n",
       "       -9.78975146e+00,  6.73417385e+00,  4.06142045e+01,  1.70519918e+01,\n",
       "       -7.85401766e+00,  1.10874474e+01,  5.78719717e+00,  2.15601158e+01,\n",
       "        1.36356769e+01,  4.96101451e+01,  1.52743649e+01,  3.25508532e+00,\n",
       "       -5.75714282e-01, -2.68873169e+00,  8.82862062e+00, -2.30561658e+01,\n",
       "        1.46457350e+01,  2.17752055e+01,  3.82791326e+01,  2.71050273e+01,\n",
       "        5.84952086e+00,  1.70959431e+00,  6.75880075e+00,  4.57787912e+00])"
      ]
     },
     "execution_count": 50,
     "metadata": {},
     "output_type": "execute_result"
    }
   ],
   "source": [
    "a = np.random.normal(loc = 15 ,scale = 15 ,size = 100)\n",
    "a"
   ]
  },
  {
   "cell_type": "code",
   "execution_count": 51,
   "id": "ca687273",
   "metadata": {},
   "outputs": [
    {
     "data": {
      "text/plain": [
       "15.007820036556616"
      ]
     },
     "execution_count": 51,
     "metadata": {},
     "output_type": "execute_result"
    }
   ],
   "source": [
    "np.mean(a)"
   ]
  },
  {
   "cell_type": "code",
   "execution_count": 52,
   "id": "14c8601a",
   "metadata": {},
   "outputs": [
    {
     "data": {
      "text/plain": [
       "14.292021849461678"
      ]
     },
     "execution_count": 52,
     "metadata": {},
     "output_type": "execute_result"
    }
   ],
   "source": [
    "np.median(a)"
   ]
  },
  {
   "cell_type": "code",
   "execution_count": 53,
   "id": "12b72c40",
   "metadata": {},
   "outputs": [
    {
     "data": {
      "text/plain": [
       "-23.056165787872843"
      ]
     },
     "execution_count": 53,
     "metadata": {},
     "output_type": "execute_result"
    }
   ],
   "source": [
    "np.min(a)"
   ]
  },
  {
   "cell_type": "code",
   "execution_count": 54,
   "id": "1f22f4ac",
   "metadata": {},
   "outputs": [],
   "source": [
    "normal = np.random.normal(loc =15, scale = 15, size = 10000)\n",
    "pareto = np.random.pareto(100,size = 10000)\n",
    "expo = np.random.exponential(size = 1000)\n",
    "log_norm = np.random.lognormal(size = 10000)"
   ]
  },
  {
   "cell_type": "code",
   "execution_count": 56,
   "id": "95521b30",
   "metadata": {},
   "outputs": [
    {
     "name": "stdout",
     "output_type": "stream",
     "text": [
      "Collecting seaborn\n",
      "  Downloading seaborn-0.13.2-py3-none-any.whl.metadata (5.4 kB)\n",
      "Requirement already satisfied: numpy!=1.24.0,>=1.20 in c:\\users\\91771\\anaconda3\\envs\\tf\\lib\\site-packages (from seaborn) (1.21.5)\n",
      "Requirement already satisfied: pandas>=1.2 in c:\\users\\91771\\anaconda3\\envs\\tf\\lib\\site-packages (from seaborn) (1.5.1)\n",
      "Requirement already satisfied: matplotlib!=3.6.1,>=3.4 in c:\\users\\91771\\anaconda3\\envs\\tf\\lib\\site-packages (from seaborn) (3.5.3)\n",
      "Requirement already satisfied: cycler>=0.10 in c:\\users\\91771\\anaconda3\\envs\\tf\\lib\\site-packages (from matplotlib!=3.6.1,>=3.4->seaborn) (0.11.0)\n",
      "Requirement already satisfied: fonttools>=4.22.0 in c:\\users\\91771\\anaconda3\\envs\\tf\\lib\\site-packages (from matplotlib!=3.6.1,>=3.4->seaborn) (4.25.0)\n",
      "Requirement already satisfied: kiwisolver>=1.0.1 in c:\\users\\91771\\anaconda3\\envs\\tf\\lib\\site-packages (from matplotlib!=3.6.1,>=3.4->seaborn) (1.4.2)\n",
      "Requirement already satisfied: packaging>=20.0 in c:\\users\\91771\\anaconda3\\envs\\tf\\lib\\site-packages (from matplotlib!=3.6.1,>=3.4->seaborn) (21.3)\n",
      "Requirement already satisfied: pillow>=6.2.0 in c:\\users\\91771\\anaconda3\\envs\\tf\\lib\\site-packages (from matplotlib!=3.6.1,>=3.4->seaborn) (9.0.1)\n",
      "Requirement already satisfied: pyparsing>=2.2.1 in c:\\users\\91771\\anaconda3\\envs\\tf\\lib\\site-packages (from matplotlib!=3.6.1,>=3.4->seaborn) (3.0.9)\n",
      "Requirement already satisfied: python-dateutil>=2.7 in c:\\users\\91771\\anaconda3\\envs\\tf\\lib\\site-packages (from matplotlib!=3.6.1,>=3.4->seaborn) (2.8.2)\n",
      "Requirement already satisfied: pytz>=2020.1 in c:\\users\\91771\\anaconda3\\envs\\tf\\lib\\site-packages (from pandas>=1.2->seaborn) (2022.1)\n",
      "Requirement already satisfied: six>=1.5 in c:\\users\\91771\\anaconda3\\envs\\tf\\lib\\site-packages (from python-dateutil>=2.7->matplotlib!=3.6.1,>=3.4->seaborn) (1.16.0)\n",
      "Downloading seaborn-0.13.2-py3-none-any.whl (294 kB)\n",
      "   ---------------------------------------- 294.9/294.9 kB 6.1 MB/s eta 0:00:00\n",
      "Installing collected packages: seaborn\n",
      "Successfully installed seaborn-0.13.2\n"
     ]
    }
   ],
   "source": [
    "!pip install seaborn"
   ]
  },
  {
   "cell_type": "code",
   "execution_count": 57,
   "id": "fdca6117",
   "metadata": {},
   "outputs": [],
   "source": [
    "import seaborn as sns "
   ]
  },
  {
   "cell_type": "code",
   "execution_count": 58,
   "id": "77362a78",
   "metadata": {},
   "outputs": [
    {
     "data": {
      "text/plain": [
       "<AxesSubplot:ylabel='Density'>"
      ]
     },
     "execution_count": 58,
     "metadata": {},
     "output_type": "execute_result"
    },
    {
     "data": {
      "image/png": "[encoded data removed]",
      "text/plain": [
       "<Figure size 640x480 with 1 Axes>"
      ]
     },
     "metadata": {},
     "output_type": "display_data"
    }
   ],
   "source": [
    "sns.kdeplot(data = log_norm)"
   ]
  },
  {
   "cell_type": "code",
   "execution_count": 59,
   "id": "f5d4f4f5",
   "metadata": {},
   "outputs": [
    {
     "data": {
      "text/plain": [
       "<AxesSubplot:ylabel='Density'>"
      ]
     },
     "execution_count": 59,
     "metadata": {},
     "output_type": "execute_result"
    },
    {
     "data": {
      "image/png": "[encoded data removed]",
      "text/plain": [
       "<Figure size 640x480 with 1 Axes>"
      ]
     },
     "metadata": {},
     "output_type": "display_data"
    }
   ],
   "source": [
    "sns.kdeplot(data = normal)"
   ]
  },
  {
   "cell_type": "code",
   "execution_count": 60,
   "id": "840469a9",
   "metadata": {},
   "outputs": [
    {
     "data": {
      "text/plain": [
       "<AxesSubplot:ylabel='Density'>"
      ]
     },
     "execution_count": 60,
     "metadata": {},
     "output_type": "execute_result"
    },
    {
     "data": {
      "image/png": "[encoded data removed]",
      "text/plain": [
       "<Figure size 640x480 with 1 Axes>"
      ]
     },
     "metadata": {},
     "output_type": "display_data"
    }
   ],
   "source": [
    "sns.kdeplot(data = pareto)"
   ]
  },
  {
   "cell_type": "code",
   "execution_count": 61,
   "id": "d4bd3894",
   "metadata": {},
   "outputs": [
    {
     "data": {
      "text/plain": [
       "<AxesSubplot:ylabel='Density'>"
      ]
     },
     "execution_count": 61,
     "metadata": {},
     "output_type": "execute_result"
    },
    {
     "data": {
      "image/png": "[encoded data removed]",
      "text/plain": [
       "<Figure size 640x480 with 1 Axes>"
      ]
     },
     "metadata": {},
     "output_type": "display_data"
    }
   ],
   "source": [
    "sns.kdeplot(data = expo)"
   ]
  },
  {
   "cell_type": "markdown",
   "id": "7cae8dfc",
   "metadata": {},
   "source": [
    "# np.where()"
   ]
  },
  {
   "cell_type": "code",
   "execution_count": 8,
   "id": "a9f3b16e",
   "metadata": {},
   "outputs": [
    {
     "data": {
      "text/plain": [
       "array([34402, 49024, 39862, 57155, 32760, 28290, 23895, 50429, 44471,\n",
       "       57970, 36058, 17398, 28383, 38745, 41513, 44096, 25593, 50830,\n",
       "       58045, 27491, 58809, 17389, 35671, 54557, 55698, 41438, 20240,\n",
       "       61779, 43486, 41173, 14871, 41661, 11029, 22372, 12444, 28480,\n",
       "       27990, 28326, 32799, 41507, 65804, 38406, 57966, 43285, 12768,\n",
       "       40497, 65976, 13560, 40212, 15734])"
      ]
     },
     "execution_count": 8,
     "metadata": {},
     "output_type": "execute_result"
    }
   ],
   "source": [
    "salary = np.random.randint(10000,70000,50)\n",
    "salary"
   ]
  },
  {
   "cell_type": "markdown",
   "id": "9b10526d",
   "metadata": {},
   "source": [
    "# # np.where (condition,True value,False value)"
   ]
  },
  {
   "cell_type": "code",
   "execution_count": 9,
   "id": "5b2d38df",
   "metadata": {},
   "outputs": [
    {
     "data": {
      "text/plain": [
       "array([39402, 54024, 44862, 55155, 37760, 33290, 28895, 48429, 49471,\n",
       "       55970, 41058, 22398, 33383, 43745, 46513, 49096, 30593, 48830,\n",
       "       56045, 32491, 56809, 22389, 40671, 52557, 53698, 46438, 25240,\n",
       "       59779, 48486, 46173, 19871, 46661, 16029, 27372, 17444, 33480,\n",
       "       32990, 33326, 37799, 46507, 63804, 43406, 55966, 48285, 17768,\n",
       "       45497, 63976, 18560, 45212, 20734])"
      ]
     },
     "execution_count": 9,
     "metadata": {},
     "output_type": "execute_result"
    }
   ],
   "source": [
    "np.where(salary<50000,salary+5000,salary-2000)"
   ]
  },
  {
   "cell_type": "markdown",
   "id": "3c53e2a7",
   "metadata": {},
   "source": [
    "# File Handling"
   ]
  },
  {
   "cell_type": "code",
   "execution_count": 11,
   "id": "262193cf",
   "metadata": {},
   "outputs": [],
   "source": [
    "import numpy as np\n",
    "array = np.genfromtxt(r\"C:\\Users\\91771\\Desktop\\Innomatic\\EDA\\salary.csv\",dtype = 'int',delimiter =',',skip_header=1)"
   ]
  },
  {
   "cell_type": "code",
   "execution_count": 12,
   "id": "aca1ab03",
   "metadata": {},
   "outputs": [
    {
     "data": {
      "text/plain": [
       "array([[    43,  20000,      5],\n",
       "       [    33,  40000,      5],\n",
       "       [    32, 500000,      3],\n",
       "       [    55,  20000,      6],\n",
       "       [    44,  15000,      8],\n",
       "       [     2,  45000,      1],\n",
       "       [    23,  20000,      5],\n",
       "       [    45,     -1,      0],\n",
       "       [   566, 361266,      2],\n",
       "       [    34,  31267,      2],\n",
       "       [    -1, 482848,     11],\n",
       "       [    77,  43747,      5],\n",
       "       [    23,     -1,      6],\n",
       "       [   111,  89423,      4],\n",
       "       [    23,   8589,     -1],\n",
       "       [    55,  44243,      2],\n",
       "       [    66,  43444,      2],\n",
       "       [    33,     -1,      9],\n",
       "       [    77,   4283,      3],\n",
       "       [    33,  99238,      1],\n",
       "       [    12,  37373,     -1]])"
      ]
     },
     "execution_count": 12,
     "metadata": {},
     "output_type": "execute_result"
    }
   ],
   "source": [
    "array"
   ]
  },
  {
   "cell_type": "code",
   "execution_count": 13,
   "id": "d3f88789",
   "metadata": {},
   "outputs": [
    {
     "data": {
      "text/plain": [
       "array([[4.30000e+01, 2.00000e+04, 5.00000e+00],\n",
       "       [3.30000e+01, 4.00000e+04, 5.00000e+00],\n",
       "       [3.20000e+01, 5.00000e+05, 3.00000e+00],\n",
       "       [5.50000e+01, 2.00000e+04, 6.00000e+00],\n",
       "       [4.40000e+01, 1.50000e+04, 8.00000e+00],\n",
       "       [2.00000e+00, 4.50000e+04, 1.00000e+00],\n",
       "       [2.30000e+01, 2.00000e+04, 5.00000e+00],\n",
       "       [4.50000e+01,         nan, 0.00000e+00],\n",
       "       [5.66000e+02, 3.61266e+05, 2.00000e+00],\n",
       "       [3.40000e+01, 3.12670e+04, 2.00000e+00],\n",
       "       [        nan, 4.82848e+05, 1.10000e+01],\n",
       "       [7.70000e+01, 4.37470e+04, 5.00000e+00],\n",
       "       [2.30000e+01,         nan, 6.00000e+00],\n",
       "       [1.11000e+02, 8.94230e+04, 4.00000e+00],\n",
       "       [2.30000e+01, 8.58900e+03,         nan],\n",
       "       [5.50000e+01, 4.42430e+04, 2.00000e+00],\n",
       "       [6.60000e+01, 4.34440e+04, 2.00000e+00],\n",
       "       [3.30000e+01,         nan, 9.00000e+00],\n",
       "       [7.70000e+01, 4.28300e+03, 3.00000e+00],\n",
       "       [3.30000e+01, 9.92380e+04, 1.00000e+00],\n",
       "       [1.20000e+01, 3.73730e+04,         nan]])"
      ]
     },
     "execution_count": 13,
     "metadata": {},
     "output_type": "execute_result"
    }
   ],
   "source": [
    "np.where(array == -1, np.nan,array)"
   ]
  },
  {
   "cell_type": "code",
   "execution_count": 16,
   "id": "1a2357b2",
   "metadata": {},
   "outputs": [],
   "source": [
    "#text file\n",
    "np.savetxt('289.txt',array)"
   ]
  },
  {
   "cell_type": "code",
   "execution_count": 17,
   "id": "295774bb",
   "metadata": {},
   "outputs": [],
   "source": [
    "a = np.loadtxt(r\"C:\\Users\\91771\\EDA\\Numpy\\289.txt\")"
   ]
  },
  {
   "cell_type": "code",
   "execution_count": 18,
   "id": "a4574be8",
   "metadata": {},
   "outputs": [
    {
     "data": {
      "text/plain": [
       "array([[ 4.30000e+01,  2.00000e+04,  5.00000e+00],\n",
       "       [ 3.30000e+01,  4.00000e+04,  5.00000e+00],\n",
       "       [ 3.20000e+01,  5.00000e+05,  3.00000e+00],\n",
       "       [ 5.50000e+01,  2.00000e+04,  6.00000e+00],\n",
       "       [ 4.40000e+01,  1.50000e+04,  8.00000e+00],\n",
       "       [ 2.00000e+00,  4.50000e+04,  1.00000e+00],\n",
       "       [ 2.30000e+01,  2.00000e+04,  5.00000e+00],\n",
       "       [ 4.50000e+01, -1.00000e+00,  0.00000e+00],\n",
       "       [ 5.66000e+02,  3.61266e+05,  2.00000e+00],\n",
       "       [ 3.40000e+01,  3.12670e+04,  2.00000e+00],\n",
       "       [-1.00000e+00,  4.82848e+05,  1.10000e+01],\n",
       "       [ 7.70000e+01,  4.37470e+04,  5.00000e+00],\n",
       "       [ 2.30000e+01, -1.00000e+00,  6.00000e+00],\n",
       "       [ 1.11000e+02,  8.94230e+04,  4.00000e+00],\n",
       "       [ 2.30000e+01,  8.58900e+03, -1.00000e+00],\n",
       "       [ 5.50000e+01,  4.42430e+04,  2.00000e+00],\n",
       "       [ 6.60000e+01,  4.34440e+04,  2.00000e+00],\n",
       "       [ 3.30000e+01, -1.00000e+00,  9.00000e+00],\n",
       "       [ 7.70000e+01,  4.28300e+03,  3.00000e+00],\n",
       "       [ 3.30000e+01,  9.92380e+04,  1.00000e+00],\n",
       "       [ 1.20000e+01,  3.73730e+04, -1.00000e+00]])"
      ]
     },
     "execution_count": 18,
     "metadata": {},
     "output_type": "execute_result"
    }
   ],
   "source": [
    "a\n"
   ]
  },
  {
   "cell_type": "code",
   "execution_count": 20,
   "id": "75f706a9",
   "metadata": {},
   "outputs": [],
   "source": [
    "np.save('291.npy',array)# Encrypted version"
   ]
  },
  {
   "cell_type": "markdown",
   "id": "c2abf46b",
   "metadata": {},
   "source": [
    "# Statistical measure when nan value persent in Numpy"
   ]
  },
  {
   "cell_type": "code",
   "execution_count": 2,
   "id": "26967436",
   "metadata": {},
   "outputs": [],
   "source": [
    "arr = np.array([1,2,3,np.nan,4,5,6])"
   ]
  },
  {
   "cell_type": "code",
   "execution_count": 3,
   "id": "5a6b04c0",
   "metadata": {},
   "outputs": [
    {
     "data": {
      "text/plain": [
       "nan"
      ]
     },
     "execution_count": 3,
     "metadata": {},
     "output_type": "execute_result"
    }
   ],
   "source": [
    "np.mean(arr) # Without Using nan"
   ]
  },
  {
   "cell_type": "code",
   "execution_count": 4,
   "id": "224362ef",
   "metadata": {},
   "outputs": [
    {
     "data": {
      "text/plain": [
       "3.5"
      ]
     },
     "execution_count": 4,
     "metadata": {},
     "output_type": "execute_result"
    }
   ],
   "source": [
    "np.nanmean(arr)  # With Using Nan"
   ]
  },
  {
   "cell_type": "code",
   "execution_count": 5,
   "id": "2b5a5637",
   "metadata": {},
   "outputs": [
    {
     "data": {
      "text/plain": [
       "nan"
      ]
     },
     "execution_count": 5,
     "metadata": {},
     "output_type": "execute_result"
    }
   ],
   "source": [
    "np.var(arr)"
   ]
  },
  {
   "cell_type": "code",
   "execution_count": 6,
   "id": "cf49ad37",
   "metadata": {},
   "outputs": [
    {
     "data": {
      "text/plain": [
       "2.9166666666666665"
      ]
     },
     "execution_count": 6,
     "metadata": {},
     "output_type": "execute_result"
    }
   ],
   "source": [
    "np.nanvar(arr)"
   ]
  },
  {
   "cell_type": "code",
   "execution_count": null,
   "id": "c087aa65",
   "metadata": {},
   "outputs": [],
   "source": []
  }
 ],
 "metadata": {
  "kernelspec": {
   "display_name": "Python 3 (ipykernel)",
   "language": "python",
   "name": "python3"
  },
  "language_info": {
   "codemirror_mode": {
    "name": "ipython",
    "version": 3
   },
   "file_extension": ".py",
   "mimetype": "text/x-python",
   "name": "python",
   "nbconvert_exporter": "python",
   "pygments_lexer": "ipython3",
   "version": "3.9.13"
  }
 },
 "nbformat": 4,
 "nbformat_minor": 5
}
