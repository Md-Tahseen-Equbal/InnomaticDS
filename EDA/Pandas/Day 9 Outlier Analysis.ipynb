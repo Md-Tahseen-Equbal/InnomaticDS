{
 "cells": [
  {
   "cell_type": "markdown",
   "id": "82947dd6",
   "metadata": {},
   "source": [
    "# Outlier Analysis"
   ]
  },
  {
   "cell_type": "markdown",
   "id": "6ebdafb3",
   "metadata": {},
   "source": [
    "### Defination \n",
    "1. It is an Extreme Value --High or Low \n",
    "2. The Values /data points which are significantly different from others.\n",
    "3. The data points which are away from the data distribution .\n",
    "4. The data point which are out of range \n",
    "-- Example\n",
    "Sure, here are examples for each of the points you mentioned:\n",
    "\n",
    "1. **Extreme Value - High or Low**: An example of an extreme high outlier could be an individual's income significantly higher than the average income in a particular region, like a CEO's salary in a small town. Conversely, an extreme low outlier could be an unusually low temperature recorded in a typically warm climate, like a freezing day in a tropical area.\n",
    "\n",
    "2. **Values/Data Points Significantly Different from Others**: In a dataset of employee salaries, most salaries might cluster around a certain range based on job roles and experience levels. However, if there's a data point representing an astronomically high salary compared to others in the same position and experience level, it would be considered a significant outlier.\n",
    "\n",
    "3. **Data Points Away from Data Distribution**: Imagine a dataset representing housing prices in a city. Most prices might follow a normal distribution, with the majority falling within a certain range. However, if there's a data point representing a house price significantly higher or lower than the majority, it would be considered an outlier.\n",
    "\n",
    "4. **Data Points Out of Range**: Consider a dataset of students' ages in a classroom. If most students are between the ages of 5 and 6, but there's a data point representing a student who is 25 years old, that would be an outlier as it falls far outside the expected range for the dataset."
   ]
  },
  {
   "cell_type": "markdown",
   "id": "dc7d1938",
   "metadata": {},
   "source": [
    "### Impact of Ouliers\n",
    "1. It influences the statistical measures.\n",
    "2. Outliers influences the machine learning modules."
   ]
  },
  {
   "cell_type": "markdown",
   "id": "35b0f20f",
   "metadata": {},
   "source": [
    "### Reason for Outliers (Use canva For Flow Chart)\n",
    "1. Data Entry Error/Human Error\n",
    "2. Measurment Error\n",
    "3. Instrument Error \n",
    "4. Rare Event \n",
    "\n",
    "-- Example Here are easy examples with sample data for each reason:\n",
    "\n",
    "1. **Data Entry Error/Human Error**: Suppose you have a dataset recording the heights of students in a classroom. Due to a data entry error, instead of recording heights in centimeters, one student's height is entered as 500 centimeters instead of 150 centimeters. This erroneous entry significantly skews the data and creates an outlier.\n",
    "\n",
    "   Sample data: {120, 125, 130, 135, 140, 145, 500, 150, 155}\n",
    "\n",
    "2. **Measurement Error**: Consider a dataset representing the weights of apples picked from an orchard. Due to a malfunctioning scale, one apple's weight is measured as 10 kilograms instead of 1 kilogram. This measurement error introduces an outlier into the dataset.\n",
    "\n",
    "   Sample data: {0.5, 0.6, 0.7, 0.8, 0.9, 1.0, 10.0, 1.1, 1.2}\n",
    "\n",
    "3. **Instrument Error**: Imagine you have a dataset recording the temperature readings in a greenhouse. However, one of the thermometers used in the greenhouse is faulty, consistently reporting temperatures that are higher than the actual temperature. This instrument error leads to artificially high temperature readings, creating outliers in the dataset.\n",
    "\n",
    "   Sample data: {22.5, 23.0, 23.5, 24.0, 24.5, 25.0, 350, 25.5, 26.0}\n",
    "\n",
    "4. **Rare Event**: Suppose you have a dataset representing the number of car accidents per day in a city. Most days, the number of accidents ranges from 5 to 10. However, on one particular day, there was a major snowstorm that caused road closures and significantly reduced traffic, resulting in only 1 accident. This rare event of unusually low accident occurrence creates an outlier in the dataset.\n",
    "\n",
    "   Sample data: {8, 7, 9, 6, 10, 1, 9, 8, 7}"
   ]
  },
  {
   "cell_type": "markdown",
   "id": "1de10caa",
   "metadata": {},
   "source": [
    "### Identification of Outliers(Flow Chart Use )\n",
    "1. Statistical Technique \n",
    "   - IQR Method \n",
    "   - Z - Score \n",
    "2. Visualization Method \n",
    "   - Box Plot (Uni Variate) \n",
    "   - Scatter Plot (Bi variate)\n",
    "3. Domain Knowledge \n",
    "4. Hypothesis Testing"
   ]
  },
  {
   "cell_type": "code",
   "execution_count": 1,
   "id": "ec2e18e0",
   "metadata": {},
   "outputs": [],
   "source": [
    "import numpy as np \n",
    "import pandas as pd"
   ]
  },
  {
   "cell_type": "markdown",
   "id": "a896bffa",
   "metadata": {},
   "source": [
    "# Outlier Analysis "
   ]
  },
  {
   "cell_type": "code",
   "execution_count": 2,
   "id": "b43e8bf6",
   "metadata": {},
   "outputs": [
    {
     "data": {
      "text/html": [
       "<div>\n",
       "<style scoped>\n",
       "    .dataframe tbody tr th:only-of-type {\n",
       "        vertical-align: middle;\n",
       "    }\n",
       "\n",
       "    .dataframe tbody tr th {\n",
       "        vertical-align: top;\n",
       "    }\n",
       "\n",
       "    .dataframe thead th {\n",
       "        text-align: right;\n",
       "    }\n",
       "</style>\n",
       "<table border=\"1\" class=\"dataframe\">\n",
       "  <thead>\n",
       "    <tr style=\"text-align: right;\">\n",
       "      <th></th>\n",
       "      <th>Values</th>\n",
       "    </tr>\n",
       "  </thead>\n",
       "  <tbody>\n",
       "    <tr>\n",
       "      <th>0</th>\n",
       "      <td>54.967142</td>\n",
       "    </tr>\n",
       "    <tr>\n",
       "      <th>1</th>\n",
       "      <td>48.617357</td>\n",
       "    </tr>\n",
       "    <tr>\n",
       "      <th>2</th>\n",
       "      <td>56.476885</td>\n",
       "    </tr>\n",
       "    <tr>\n",
       "      <th>3</th>\n",
       "      <td>65.230299</td>\n",
       "    </tr>\n",
       "    <tr>\n",
       "      <th>4</th>\n",
       "      <td>47.658466</td>\n",
       "    </tr>\n",
       "    <tr>\n",
       "      <th>...</th>\n",
       "      <td>...</td>\n",
       "    </tr>\n",
       "    <tr>\n",
       "      <th>99</th>\n",
       "      <td>47.654129</td>\n",
       "    </tr>\n",
       "    <tr>\n",
       "      <th>100</th>\n",
       "      <td>100.000000</td>\n",
       "    </tr>\n",
       "    <tr>\n",
       "      <th>101</th>\n",
       "      <td>110.000000</td>\n",
       "    </tr>\n",
       "    <tr>\n",
       "      <th>102</th>\n",
       "      <td>5.000000</td>\n",
       "    </tr>\n",
       "    <tr>\n",
       "      <th>103</th>\n",
       "      <td>0.000000</td>\n",
       "    </tr>\n",
       "  </tbody>\n",
       "</table>\n",
       "<p>104 rows × 1 columns</p>\n",
       "</div>"
      ],
      "text/plain": [
       "         Values\n",
       "0     54.967142\n",
       "1     48.617357\n",
       "2     56.476885\n",
       "3     65.230299\n",
       "4     47.658466\n",
       "..          ...\n",
       "99    47.654129\n",
       "100  100.000000\n",
       "101  110.000000\n",
       "102    5.000000\n",
       "103    0.000000\n",
       "\n",
       "[104 rows x 1 columns]"
      ]
     },
     "execution_count": 2,
     "metadata": {},
     "output_type": "execute_result"
    }
   ],
   "source": [
    "df =pd.read_csv(r\"C:\\Users\\91771\\Desktop\\Innomatic\\EDA\\Pandas\\Datasets\\BoxPlot_IQR_Data.csv\")\n",
    "df"
   ]
  },
  {
   "cell_type": "markdown",
   "id": "33fc330c",
   "metadata": {},
   "source": [
    "## Identifying Outlier"
   ]
  },
  {
   "cell_type": "markdown",
   "id": "8987ae66",
   "metadata": {},
   "source": [
    "### IQR Method"
   ]
  },
  {
   "cell_type": "code",
   "execution_count": 3,
   "id": "2f89dc75",
   "metadata": {},
   "outputs": [],
   "source": [
    "Q1 =df['Values'].quantile(0.25)\n",
    "Q3 =df['Values'].quantile(0.75)\n",
    "IQR = Q3 - Q1\n",
    "Lower = max(df['Values'].min(),Q1 - 1.5*IQR)\n",
    "Upper = min(df['Values'].max(),Q3 + 1.5*IQR)"
   ]
  },
  {
   "cell_type": "code",
   "execution_count": 5,
   "id": "8971b102",
   "metadata": {},
   "outputs": [
    {
     "data": {
      "text/plain": [
       "(27.17321545886533, 71.70971029326903)"
      ]
     },
     "execution_count": 5,
     "metadata": {},
     "output_type": "execute_result"
    }
   ],
   "source": [
    "Lower,Upper"
   ]
  },
  {
   "cell_type": "code",
   "execution_count": 6,
   "id": "047d5bc8",
   "metadata": {},
   "outputs": [
    {
     "data": {
      "text/html": [
       "<div>\n",
       "<style scoped>\n",
       "    .dataframe tbody tr th:only-of-type {\n",
       "        vertical-align: middle;\n",
       "    }\n",
       "\n",
       "    .dataframe tbody tr th {\n",
       "        vertical-align: top;\n",
       "    }\n",
       "\n",
       "    .dataframe thead th {\n",
       "        text-align: right;\n",
       "    }\n",
       "</style>\n",
       "<table border=\"1\" class=\"dataframe\">\n",
       "  <thead>\n",
       "    <tr style=\"text-align: right;\">\n",
       "      <th></th>\n",
       "      <th>Values</th>\n",
       "    </tr>\n",
       "  </thead>\n",
       "  <tbody>\n",
       "    <tr>\n",
       "      <th>74</th>\n",
       "      <td>23.802549</td>\n",
       "    </tr>\n",
       "    <tr>\n",
       "      <th>100</th>\n",
       "      <td>100.000000</td>\n",
       "    </tr>\n",
       "    <tr>\n",
       "      <th>101</th>\n",
       "      <td>110.000000</td>\n",
       "    </tr>\n",
       "    <tr>\n",
       "      <th>102</th>\n",
       "      <td>5.000000</td>\n",
       "    </tr>\n",
       "    <tr>\n",
       "      <th>103</th>\n",
       "      <td>0.000000</td>\n",
       "    </tr>\n",
       "  </tbody>\n",
       "</table>\n",
       "</div>"
      ],
      "text/plain": [
       "         Values\n",
       "74    23.802549\n",
       "100  100.000000\n",
       "101  110.000000\n",
       "102    5.000000\n",
       "103    0.000000"
      ]
     },
     "execution_count": 6,
     "metadata": {},
     "output_type": "execute_result"
    }
   ],
   "source": [
    "# Outliers on Data Set\n",
    "df[(df['Values'] < Lower ) | (df['Values'] > Upper)]"
   ]
  },
  {
   "cell_type": "code",
   "execution_count": 7,
   "id": "8f039674",
   "metadata": {},
   "outputs": [],
   "source": [
    "# Creating a Function for IQR method to identifying the Outliers\n",
    "def Outlier(Column):\n",
    "    Q1 = df[Column].quantile(0.25)\n",
    "    Q3 = df[Column].quantile(0.75)\n",
    "    IQR = Q3 - Q1\n",
    "    Lower = max( df[Column].min(), Q1 - 1.5 * IQR)\n",
    "    Upper = min( df[Column].max(), Q3 + 1.5 * IQR)\n",
    "    return df[(df[Column] < Lower) |  (df[Column] > Upper)] "
   ]
  },
  {
   "cell_type": "code",
   "execution_count": 8,
   "id": "b945c762",
   "metadata": {},
   "outputs": [
    {
     "data": {
      "text/html": [
       "<div>\n",
       "<style scoped>\n",
       "    .dataframe tbody tr th:only-of-type {\n",
       "        vertical-align: middle;\n",
       "    }\n",
       "\n",
       "    .dataframe tbody tr th {\n",
       "        vertical-align: top;\n",
       "    }\n",
       "\n",
       "    .dataframe thead th {\n",
       "        text-align: right;\n",
       "    }\n",
       "</style>\n",
       "<table border=\"1\" class=\"dataframe\">\n",
       "  <thead>\n",
       "    <tr style=\"text-align: right;\">\n",
       "      <th></th>\n",
       "      <th>Values</th>\n",
       "    </tr>\n",
       "  </thead>\n",
       "  <tbody>\n",
       "    <tr>\n",
       "      <th>74</th>\n",
       "      <td>23.802549</td>\n",
       "    </tr>\n",
       "    <tr>\n",
       "      <th>100</th>\n",
       "      <td>100.000000</td>\n",
       "    </tr>\n",
       "    <tr>\n",
       "      <th>101</th>\n",
       "      <td>110.000000</td>\n",
       "    </tr>\n",
       "    <tr>\n",
       "      <th>102</th>\n",
       "      <td>5.000000</td>\n",
       "    </tr>\n",
       "    <tr>\n",
       "      <th>103</th>\n",
       "      <td>0.000000</td>\n",
       "    </tr>\n",
       "  </tbody>\n",
       "</table>\n",
       "</div>"
      ],
      "text/plain": [
       "         Values\n",
       "74    23.802549\n",
       "100  100.000000\n",
       "101  110.000000\n",
       "102    5.000000\n",
       "103    0.000000"
      ]
     },
     "execution_count": 8,
     "metadata": {},
     "output_type": "execute_result"
    }
   ],
   "source": [
    "Outlier('Values')"
   ]
  },
  {
   "cell_type": "markdown",
   "id": "cc1d4890",
   "metadata": {},
   "source": [
    "### Z Score Method (Standarization)"
   ]
  },
  {
   "cell_type": "code",
   "execution_count": 8,
   "id": "458f1011",
   "metadata": {},
   "outputs": [],
   "source": [
    "mean = df[\"Values\"].mean()\n",
    "std  = df['Values'].std()"
   ]
  },
  {
   "cell_type": "code",
   "execution_count": 9,
   "id": "a2a72ec9",
   "metadata": {},
   "outputs": [],
   "source": [
    "def Z_score(x):\n",
    "    n = (x - mean) / std\n",
    "    return n"
   ]
  },
  {
   "cell_type": "code",
   "execution_count": 10,
   "id": "59f7b64b",
   "metadata": {},
   "outputs": [],
   "source": [
    "df['Z Score'] = Z_score(df['Values'])"
   ]
  },
  {
   "cell_type": "code",
   "execution_count": 11,
   "id": "36dd2b7f",
   "metadata": {},
   "outputs": [
    {
     "data": {
      "text/html": [
       "<div>\n",
       "<style scoped>\n",
       "    .dataframe tbody tr th:only-of-type {\n",
       "        vertical-align: middle;\n",
       "    }\n",
       "\n",
       "    .dataframe tbody tr th {\n",
       "        vertical-align: top;\n",
       "    }\n",
       "\n",
       "    .dataframe thead th {\n",
       "        text-align: right;\n",
       "    }\n",
       "</style>\n",
       "<table border=\"1\" class=\"dataframe\">\n",
       "  <thead>\n",
       "    <tr style=\"text-align: right;\">\n",
       "      <th></th>\n",
       "      <th>Values</th>\n",
       "      <th>Z Score</th>\n",
       "    </tr>\n",
       "  </thead>\n",
       "  <tbody>\n",
       "    <tr>\n",
       "      <th>0</th>\n",
       "      <td>54.967142</td>\n",
       "      <td>0.430640</td>\n",
       "    </tr>\n",
       "    <tr>\n",
       "      <th>1</th>\n",
       "      <td>48.617357</td>\n",
       "      <td>-0.039085</td>\n",
       "    </tr>\n",
       "    <tr>\n",
       "      <th>2</th>\n",
       "      <td>56.476885</td>\n",
       "      <td>0.542323</td>\n",
       "    </tr>\n",
       "    <tr>\n",
       "      <th>3</th>\n",
       "      <td>65.230299</td>\n",
       "      <td>1.189855</td>\n",
       "    </tr>\n",
       "    <tr>\n",
       "      <th>4</th>\n",
       "      <td>47.658466</td>\n",
       "      <td>-0.110018</td>\n",
       "    </tr>\n",
       "    <tr>\n",
       "      <th>...</th>\n",
       "      <td>...</td>\n",
       "      <td>...</td>\n",
       "    </tr>\n",
       "    <tr>\n",
       "      <th>99</th>\n",
       "      <td>47.654129</td>\n",
       "      <td>-0.110339</td>\n",
       "    </tr>\n",
       "    <tr>\n",
       "      <th>100</th>\n",
       "      <td>100.000000</td>\n",
       "      <td>3.761937</td>\n",
       "    </tr>\n",
       "    <tr>\n",
       "      <th>101</th>\n",
       "      <td>110.000000</td>\n",
       "      <td>4.501685</td>\n",
       "    </tr>\n",
       "    <tr>\n",
       "      <th>102</th>\n",
       "      <td>5.000000</td>\n",
       "      <td>-3.265670</td>\n",
       "    </tr>\n",
       "    <tr>\n",
       "      <th>103</th>\n",
       "      <td>0.000000</td>\n",
       "      <td>-3.635544</td>\n",
       "    </tr>\n",
       "  </tbody>\n",
       "</table>\n",
       "<p>104 rows × 2 columns</p>\n",
       "</div>"
      ],
      "text/plain": [
       "         Values   Z Score\n",
       "0     54.967142  0.430640\n",
       "1     48.617357 -0.039085\n",
       "2     56.476885  0.542323\n",
       "3     65.230299  1.189855\n",
       "4     47.658466 -0.110018\n",
       "..          ...       ...\n",
       "99    47.654129 -0.110339\n",
       "100  100.000000  3.761937\n",
       "101  110.000000  4.501685\n",
       "102    5.000000 -3.265670\n",
       "103    0.000000 -3.635544\n",
       "\n",
       "[104 rows x 2 columns]"
      ]
     },
     "execution_count": 11,
     "metadata": {},
     "output_type": "execute_result"
    }
   ],
   "source": [
    "df"
   ]
  },
  {
   "cell_type": "code",
   "execution_count": 12,
   "id": "87b66803",
   "metadata": {},
   "outputs": [
    {
     "data": {
      "text/html": [
       "<div>\n",
       "<style scoped>\n",
       "    .dataframe tbody tr th:only-of-type {\n",
       "        vertical-align: middle;\n",
       "    }\n",
       "\n",
       "    .dataframe tbody tr th {\n",
       "        vertical-align: top;\n",
       "    }\n",
       "\n",
       "    .dataframe thead th {\n",
       "        text-align: right;\n",
       "    }\n",
       "</style>\n",
       "<table border=\"1\" class=\"dataframe\">\n",
       "  <thead>\n",
       "    <tr style=\"text-align: right;\">\n",
       "      <th></th>\n",
       "      <th>Values</th>\n",
       "      <th>Z Score</th>\n",
       "    </tr>\n",
       "  </thead>\n",
       "  <tbody>\n",
       "    <tr>\n",
       "      <th>100</th>\n",
       "      <td>100.0</td>\n",
       "      <td>3.761937</td>\n",
       "    </tr>\n",
       "    <tr>\n",
       "      <th>101</th>\n",
       "      <td>110.0</td>\n",
       "      <td>4.501685</td>\n",
       "    </tr>\n",
       "    <tr>\n",
       "      <th>102</th>\n",
       "      <td>5.0</td>\n",
       "      <td>-3.265670</td>\n",
       "    </tr>\n",
       "    <tr>\n",
       "      <th>103</th>\n",
       "      <td>0.0</td>\n",
       "      <td>-3.635544</td>\n",
       "    </tr>\n",
       "  </tbody>\n",
       "</table>\n",
       "</div>"
      ],
      "text/plain": [
       "     Values   Z Score\n",
       "100   100.0  3.761937\n",
       "101   110.0  4.501685\n",
       "102     5.0 -3.265670\n",
       "103     0.0 -3.635544"
      ]
     },
     "execution_count": 12,
     "metadata": {},
     "output_type": "execute_result"
    }
   ],
   "source": [
    "df[(df['Z Score'] < -3 ) | (df['Z Score'] > +3)]"
   ]
  },
  {
   "cell_type": "markdown",
   "id": "231b159e",
   "metadata": {},
   "source": [
    "### Visualization Method "
   ]
  },
  {
   "cell_type": "code",
   "execution_count": 13,
   "id": "027bcf96",
   "metadata": {},
   "outputs": [
    {
     "data": {
      "text/plain": [
       "<AxesSubplot:>"
      ]
     },
     "execution_count": 13,
     "metadata": {},
     "output_type": "execute_result"
    },
    {
     "data": {
      "image/png": "[encoded data removed]",
      "text/plain": [
       "<Figure size 640x480 with 1 Axes>"
      ]
     },
     "metadata": {},
     "output_type": "display_data"
    }
   ],
   "source": [
    "df['Values'].plot(kind= 'box')"
   ]
  },
  {
   "cell_type": "markdown",
   "id": "f9fdf51f",
   "metadata": {},
   "source": [
    "### Domain Knowledge"
   ]
  },
  {
   "cell_type": "code",
   "execution_count": 12,
   "id": "c2b7d54f",
   "metadata": {},
   "outputs": [
    {
     "data": {
      "text/html": [
       "<div>\n",
       "<style scoped>\n",
       "    .dataframe tbody tr th:only-of-type {\n",
       "        vertical-align: middle;\n",
       "    }\n",
       "\n",
       "    .dataframe tbody tr th {\n",
       "        vertical-align: top;\n",
       "    }\n",
       "\n",
       "    .dataframe thead th {\n",
       "        text-align: right;\n",
       "    }\n",
       "</style>\n",
       "<table border=\"1\" class=\"dataframe\">\n",
       "  <thead>\n",
       "    <tr style=\"text-align: right;\">\n",
       "      <th></th>\n",
       "      <th>Marks</th>\n",
       "    </tr>\n",
       "  </thead>\n",
       "  <tbody>\n",
       "    <tr>\n",
       "      <th>0</th>\n",
       "      <td>23</td>\n",
       "    </tr>\n",
       "    <tr>\n",
       "      <th>1</th>\n",
       "      <td>45</td>\n",
       "    </tr>\n",
       "    <tr>\n",
       "      <th>2</th>\n",
       "      <td>67</td>\n",
       "    </tr>\n",
       "    <tr>\n",
       "      <th>3</th>\n",
       "      <td>89</td>\n",
       "    </tr>\n",
       "    <tr>\n",
       "      <th>4</th>\n",
       "      <td>76</td>\n",
       "    </tr>\n",
       "    <tr>\n",
       "      <th>5</th>\n",
       "      <td>45</td>\n",
       "    </tr>\n",
       "  </tbody>\n",
       "</table>\n",
       "</div>"
      ],
      "text/plain": [
       "   Marks\n",
       "0     23\n",
       "1     45\n",
       "2     67\n",
       "3     89\n",
       "4     76\n",
       "5     45"
      ]
     },
     "execution_count": 12,
     "metadata": {},
     "output_type": "execute_result"
    }
   ],
   "source": [
    "df = pd.DataFrame({\"Marks\": [23,45,67,89,76,45]})\n",
    "df"
   ]
  },
  {
   "cell_type": "code",
   "execution_count": 13,
   "id": "bf123495",
   "metadata": {},
   "outputs": [
    {
     "data": {
      "text/html": [
       "<div>\n",
       "<style scoped>\n",
       "    .dataframe tbody tr th:only-of-type {\n",
       "        vertical-align: middle;\n",
       "    }\n",
       "\n",
       "    .dataframe tbody tr th {\n",
       "        vertical-align: top;\n",
       "    }\n",
       "\n",
       "    .dataframe thead th {\n",
       "        text-align: right;\n",
       "    }\n",
       "</style>\n",
       "<table border=\"1\" class=\"dataframe\">\n",
       "  <thead>\n",
       "    <tr style=\"text-align: right;\">\n",
       "      <th></th>\n",
       "      <th>Marks</th>\n",
       "    </tr>\n",
       "  </thead>\n",
       "  <tbody>\n",
       "  </tbody>\n",
       "</table>\n",
       "</div>"
      ],
      "text/plain": [
       "Empty DataFrame\n",
       "Columns: [Marks]\n",
       "Index: []"
      ]
     },
     "execution_count": 13,
     "metadata": {},
     "output_type": "execute_result"
    }
   ],
   "source": [
    "Outlier('Marks')"
   ]
  },
  {
   "cell_type": "code",
   "execution_count": null,
   "id": "23fa02c5",
   "metadata": {},
   "outputs": [],
   "source": []
  }
 ],
 "metadata": {
  "kernelspec": {
   "display_name": "Python 3 (ipykernel)",
   "language": "python",
   "name": "python3"
  },
  "language_info": {
   "codemirror_mode": {
    "name": "ipython",
    "version": 3
   },
   "file_extension": ".py",
   "mimetype": "text/x-python",
   "name": "python",
   "nbconvert_exporter": "python",
   "pygments_lexer": "ipython3",
   "version": "3.9.13"
  }
 },
 "nbformat": 4,
 "nbformat_minor": 5
}
