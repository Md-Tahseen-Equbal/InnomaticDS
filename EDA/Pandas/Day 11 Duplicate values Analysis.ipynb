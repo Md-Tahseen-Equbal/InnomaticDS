{
 "cells": [
  {
   "cell_type": "markdown",
   "id": "04f16574",
   "metadata": {},
   "source": [
    "# Duplicate values Analysis"
   ]
  },
  {
   "cell_type": "markdown",
   "id": "3a517243",
   "metadata": {},
   "source": [
    "## Define \n",
    "1. Repeated value / Copied\n"
   ]
  },
  {
   "cell_type": "markdown",
   "id": "312e01e7",
   "metadata": {},
   "source": [
    "## Reason \n",
    "1. Human Error \n",
    "   - Entering for multiple time \n",
    "2. System Glitches \n",
    "3. Merging the Data \n",
    "\n",
    "Duplicate values in data can arise from several common reasons. Let's break down each reason with simple explanations and sample data:\n",
    "\n",
    "### 1. Human Error\n",
    "Human errors can cause duplicate entries, often when data is manually entered into a system.\n",
    "\n",
    "**Example:**\n",
    "Suppose an employee is entering sales records into a database. They might accidentally enter the same sale twice.\n",
    "\n",
    "**Sample Data:**\n",
    "| Sale_ID | Product | Amount | Date       |\n",
    "|---------|---------|--------|------------|\n",
    "| 001     | Widget  | $100   | 2024-05-01 |\n",
    "| 002     | Gadget  | $150   | 2024-05-02 |\n",
    "| 003     | Widget  | $100   | 2024-05-01 |  <- Duplicate due to human error\n",
    "\n",
    "### 2. System Glitches\n",
    "System glitches or bugs can cause the same data to be recorded multiple times.\n",
    "\n",
    "**Example:**\n",
    "An automated system might fail to confirm that a record has been successfully saved, leading it to try saving the same record multiple times.\n",
    "\n",
    "**Sample Data:**\n",
    "| Transaction_ID | User   | Amount | Timestamp           |\n",
    "|----------------|--------|--------|---------------------|\n",
    "| A123           | Alice  | $200   | 2024-05-03 10:00:00 |\n",
    "| A124           | Bob    | $300   | 2024-05-03 11:00:00 |\n",
    "| A123           | Alice  | $200   | 2024-05-03 10:00:00 |  <- Duplicate due to system glitch\n",
    "\n",
    "### 3. Merging the Data\n",
    "When merging data from different sources, duplicates can occur if there is no proper mechanism to identify and eliminate them.\n",
    "\n",
    "**Example:**\n",
    "Combining customer data from two different databases without a unique identifier to check for duplicates.\n",
    "\n",
    "**Sample Data:**\n",
    "**Database 1:**\n",
    "| Customer_ID | Name   | Email             |\n",
    "|-------------|--------|-------------------|\n",
    "| C001        | John   | john@example.com  |\n",
    "| C002        | Jane   | jane@example.com  |\n",
    "\n",
    "**Database 2:**\n",
    "| Customer_ID | Name   | Email             |\n",
    "|-------------|--------|-------------------|\n",
    "| C001        | John   | john@example.com  |\n",
    "| C003        | Alice  | alice@example.com |\n",
    "\n",
    "**Merged Data:**\n",
    "| Customer_ID | Name   | Email             |\n",
    "|-------------|--------|-------------------|\n",
    "| C001        | John   | john@example.com  |\n",
    "| C002        | Jane   | jane@example.com  |\n",
    "| C001        | John   | john@example.com  |  <- Duplicate due to merging without proper checks\n",
    "| C003        | Alice  | alice@example.com |\n",
    "\n",
    "### Summary\n",
    "- **Human Error**: Occurs when individuals input the same data more than once.\n",
    "- **System Glitches**: Happen due to bugs or errors in automated systems causing repeated entries.\n",
    "- **Merging the Data**: Arises when combining datasets without proper de-duplication mechanisms.\n",
    "\n",
    "By understanding these reasons, steps can be taken to mitigate duplicates, such as implementing validation checks, improving system reliability, and using proper data merging techniques."
   ]
  },
  {
   "cell_type": "markdown",
   "id": "4eeb6ce1",
   "metadata": {},
   "source": [
    "## Impact \n",
    "1. Time Complexity\n",
    "2. Space Complexity\n",
    "\n",
    "### Impact of Duplicates on Time and Space Complexity\n",
    "\n",
    "Duplicates in data can have significant impacts on both time complexity and space complexity. Let's explain these impacts with simple explanations and sample data.\n",
    "\n",
    "### 1. Time Complexity\n",
    "Time complexity refers to the amount of time it takes to run an algorithm as a function of the length of the input.\n",
    "\n",
    "**Impact of Duplicates:**\n",
    "- **Searching and Processing**: When data contains duplicates, the time taken to search, sort, or process data increases because each duplicate needs to be handled.\n",
    "- **De-duplication**: Identifying and removing duplicates itself adds overhead to the process, increasing the time complexity.\n",
    "\n",
    "**Example:**\n",
    "Suppose we have a list of items and we want to find if a particular item exists in the list.\n",
    "\n",
    "**Sample Data:**\n",
    "| Item_ID | Item_Name |\n",
    "|---------|-----------|\n",
    "| 001     | Apple     |\n",
    "| 002     | Banana    |\n",
    "| 003     | Apple     |  <- Duplicate\n",
    "| 004     | Orange    |\n",
    "\n",
    "**Searching Without Duplicates:**\n",
    "If we search for \"Apple\", we might find it in \\( O(1) \\) time in an ideal case with no duplicates.\n",
    "\n",
    "**Searching With Duplicates:**\n",
    "With duplicates, the search could take longer since each occurrence must be checked, potentially increasing the time complexity to \\( O(n) \\) in the worst case.\n",
    "\n",
    "**De-duplication Process:**\n",
    "To remove duplicates:\n",
    "1. Traverse the list \\( O(n) \\)\n",
    "2. Use a set to keep track of unique items \\( O(1) \\) per insertion\n",
    "\n",
    "Overall de-duplication time complexity: \\( O(n) \\)\n",
    "\n",
    "### 2. Space Complexity\n",
    "Space complexity refers to the amount of memory an algorithm needs to run as a function of the length of the input.\n",
    "\n",
    "**Impact of Duplicates:**\n",
    "- **Storage**: Storing duplicates takes up additional space, leading to higher memory usage.\n",
    "- **De-duplication**: The process of de-duplication may require additional data structures, like sets or hash tables, which also consume memory.\n",
    "\n",
    "**Example:**\n",
    "Consider a database where customer records are stored.\n",
    "\n",
    "**Sample Data:**\n",
    "| Customer_ID | Name   | Email             |\n",
    "|-------------|--------|-------------------|\n",
    "| 001         | John   | john@example.com  |\n",
    "| 002         | Jane   | jane@example.com  |\n",
    "| 001         | John   | john@example.com  |  <- Duplicate\n",
    "\n",
    "**Storage Without Duplicates:**\n",
    "Storing unique records:\n",
    "- Space complexity is \\( O(n) \\)\n",
    "\n",
    "**Storage With Duplicates:**\n",
    "Storing duplicates increases the space required:\n",
    "- Space complexity becomes \\( O(n + m) \\), where \\( m \\) is the number of duplicates\n",
    "\n",
    "**De-duplication Process:**\n",
    "To remove duplicates:\n",
    "1. Use a set or hash table to track seen items\n",
    "2. These structures require additional space \\( O(n) \\)\n",
    "\n",
    "### Summary\n",
    "- **Time Complexity**: Duplicates increase the time needed for searching, sorting, and processing data. De-duplication processes add further time complexity.\n",
    "- **Space Complexity**: Duplicates consume additional storage space. De-duplication requires extra memory for auxiliary data structures like sets or hash tables.\n",
    "\n",
    "By understanding these impacts, we can design algorithms and systems that better handle duplicates, optimizing both time and space efficiency."
   ]
  },
  {
   "cell_type": "markdown",
   "id": "8f34eb3b",
   "metadata": {},
   "source": [
    "## Identification "
   ]
  },
  {
   "cell_type": "markdown",
   "id": "7fa40093",
   "metadata": {},
   "source": [
    "### df.duplicated()\n",
    "1. rows - Duplicates \n",
    "2. column - Zero Variance"
   ]
  },
  {
   "cell_type": "markdown",
   "id": "43e644a0",
   "metadata": {},
   "source": [
    "# Duplicates "
   ]
  },
  {
   "cell_type": "code",
   "execution_count": 1,
   "id": "8bfd247a",
   "metadata": {},
   "outputs": [],
   "source": [
    "import pandas as pd \n",
    "import numpy as np "
   ]
  },
  {
   "cell_type": "code",
   "execution_count": 14,
   "id": "0788165b",
   "metadata": {},
   "outputs": [
    {
     "data": {
      "text/html": [
       "<div>\n",
       "<style scoped>\n",
       "    .dataframe tbody tr th:only-of-type {\n",
       "        vertical-align: middle;\n",
       "    }\n",
       "\n",
       "    .dataframe tbody tr th {\n",
       "        vertical-align: top;\n",
       "    }\n",
       "\n",
       "    .dataframe thead th {\n",
       "        text-align: right;\n",
       "    }\n",
       "</style>\n",
       "<table border=\"1\" class=\"dataframe\">\n",
       "  <thead>\n",
       "    <tr style=\"text-align: right;\">\n",
       "      <th></th>\n",
       "      <th>Name</th>\n",
       "      <th>Salary</th>\n",
       "      <th>Company</th>\n",
       "    </tr>\n",
       "  </thead>\n",
       "  <tbody>\n",
       "    <tr>\n",
       "      <th>0</th>\n",
       "      <td>Rajesh</td>\n",
       "      <td>23000</td>\n",
       "      <td>IBM</td>\n",
       "    </tr>\n",
       "    <tr>\n",
       "      <th>1</th>\n",
       "      <td>Ramesh</td>\n",
       "      <td>40000</td>\n",
       "      <td>IBM</td>\n",
       "    </tr>\n",
       "    <tr>\n",
       "      <th>2</th>\n",
       "      <td>Suresh</td>\n",
       "      <td>24000</td>\n",
       "      <td>IBM</td>\n",
       "    </tr>\n",
       "    <tr>\n",
       "      <th>3</th>\n",
       "      <td>Ramesh</td>\n",
       "      <td>40000</td>\n",
       "      <td>IBM</td>\n",
       "    </tr>\n",
       "    <tr>\n",
       "      <th>4</th>\n",
       "      <td>Ramesh</td>\n",
       "      <td>40000</td>\n",
       "      <td>IBM</td>\n",
       "    </tr>\n",
       "    <tr>\n",
       "      <th>5</th>\n",
       "      <td>Naresh</td>\n",
       "      <td>34000</td>\n",
       "      <td>IBM</td>\n",
       "    </tr>\n",
       "  </tbody>\n",
       "</table>\n",
       "</div>"
      ],
      "text/plain": [
       "     Name  Salary Company\n",
       "0  Rajesh   23000     IBM\n",
       "1  Ramesh   40000     IBM\n",
       "2  Suresh   24000     IBM\n",
       "3  Ramesh   40000     IBM\n",
       "4  Ramesh   40000     IBM\n",
       "5  Naresh   34000     IBM"
      ]
     },
     "execution_count": 14,
     "metadata": {},
     "output_type": "execute_result"
    }
   ],
   "source": [
    "df = pd.DataFrame ({'Name': ['Rajesh','Ramesh','Suresh','Ramesh','Ramesh','Naresh'],\n",
    "              'Salary':[23000,40000,24000,40000,40000,34000],\n",
    "              'Company': ['IBM','IBM','IBM','IBM','IBM','IBM']})\n",
    "df"
   ]
  },
  {
   "cell_type": "code",
   "execution_count": 15,
   "id": "f9524330",
   "metadata": {},
   "outputs": [],
   "source": [
    "# Identification of duplicate"
   ]
  },
  {
   "cell_type": "code",
   "execution_count": 16,
   "id": "9265d292",
   "metadata": {},
   "outputs": [
    {
     "data": {
      "text/plain": [
       "2"
      ]
     },
     "execution_count": 16,
     "metadata": {},
     "output_type": "execute_result"
    }
   ],
   "source": [
    "df.duplicated().sum()"
   ]
  },
  {
   "cell_type": "markdown",
   "id": "7d798c47",
   "metadata": {},
   "source": [
    "## Treatment of Duplicates "
   ]
  },
  {
   "cell_type": "markdown",
   "id": "3f28be52",
   "metadata": {},
   "source": [
    "1. Drop the Duplicates \n",
    "2.  Creating Separate Data Frames "
   ]
  },
  {
   "cell_type": "code",
   "execution_count": 17,
   "id": "4f1acd7f",
   "metadata": {},
   "outputs": [
    {
     "data": {
      "text/html": [
       "<div>\n",
       "<style scoped>\n",
       "    .dataframe tbody tr th:only-of-type {\n",
       "        vertical-align: middle;\n",
       "    }\n",
       "\n",
       "    .dataframe tbody tr th {\n",
       "        vertical-align: top;\n",
       "    }\n",
       "\n",
       "    .dataframe thead th {\n",
       "        text-align: right;\n",
       "    }\n",
       "</style>\n",
       "<table border=\"1\" class=\"dataframe\">\n",
       "  <thead>\n",
       "    <tr style=\"text-align: right;\">\n",
       "      <th></th>\n",
       "      <th>Name</th>\n",
       "      <th>Salary</th>\n",
       "      <th>Company</th>\n",
       "    </tr>\n",
       "  </thead>\n",
       "  <tbody>\n",
       "    <tr>\n",
       "      <th>3</th>\n",
       "      <td>Ramesh</td>\n",
       "      <td>40000</td>\n",
       "      <td>IBM</td>\n",
       "    </tr>\n",
       "    <tr>\n",
       "      <th>4</th>\n",
       "      <td>Ramesh</td>\n",
       "      <td>40000</td>\n",
       "      <td>IBM</td>\n",
       "    </tr>\n",
       "  </tbody>\n",
       "</table>\n",
       "</div>"
      ],
      "text/plain": [
       "     Name  Salary Company\n",
       "3  Ramesh   40000     IBM\n",
       "4  Ramesh   40000     IBM"
      ]
     },
     "execution_count": 17,
     "metadata": {},
     "output_type": "execute_result"
    }
   ],
   "source": [
    "# Creating Data Frame and Flagging \n",
    "x = df[df.duplicated()]\n",
    "x"
   ]
  },
  {
   "cell_type": "code",
   "execution_count": 18,
   "id": "09083693",
   "metadata": {},
   "outputs": [],
   "source": [
    "# Save in separate csv file \n",
    "x.to_csv('Duplicated.csv')"
   ]
  },
  {
   "cell_type": "code",
   "execution_count": 19,
   "id": "f14f8a80",
   "metadata": {},
   "outputs": [],
   "source": [
    "# Dropping the Duplicates \n",
    "df.drop_duplicates(inplace = True)"
   ]
  },
  {
   "cell_type": "code",
   "execution_count": 20,
   "id": "35781d9a",
   "metadata": {},
   "outputs": [
    {
     "data": {
      "text/html": [
       "<div>\n",
       "<style scoped>\n",
       "    .dataframe tbody tr th:only-of-type {\n",
       "        vertical-align: middle;\n",
       "    }\n",
       "\n",
       "    .dataframe tbody tr th {\n",
       "        vertical-align: top;\n",
       "    }\n",
       "\n",
       "    .dataframe thead th {\n",
       "        text-align: right;\n",
       "    }\n",
       "</style>\n",
       "<table border=\"1\" class=\"dataframe\">\n",
       "  <thead>\n",
       "    <tr style=\"text-align: right;\">\n",
       "      <th></th>\n",
       "      <th>Name</th>\n",
       "      <th>Salary</th>\n",
       "      <th>Company</th>\n",
       "    </tr>\n",
       "  </thead>\n",
       "  <tbody>\n",
       "    <tr>\n",
       "      <th>0</th>\n",
       "      <td>Rajesh</td>\n",
       "      <td>23000</td>\n",
       "      <td>IBM</td>\n",
       "    </tr>\n",
       "    <tr>\n",
       "      <th>1</th>\n",
       "      <td>Ramesh</td>\n",
       "      <td>40000</td>\n",
       "      <td>IBM</td>\n",
       "    </tr>\n",
       "    <tr>\n",
       "      <th>2</th>\n",
       "      <td>Suresh</td>\n",
       "      <td>24000</td>\n",
       "      <td>IBM</td>\n",
       "    </tr>\n",
       "    <tr>\n",
       "      <th>5</th>\n",
       "      <td>Naresh</td>\n",
       "      <td>34000</td>\n",
       "      <td>IBM</td>\n",
       "    </tr>\n",
       "  </tbody>\n",
       "</table>\n",
       "</div>"
      ],
      "text/plain": [
       "     Name  Salary Company\n",
       "0  Rajesh   23000     IBM\n",
       "1  Ramesh   40000     IBM\n",
       "2  Suresh   24000     IBM\n",
       "5  Naresh   34000     IBM"
      ]
     },
     "execution_count": 20,
     "metadata": {},
     "output_type": "execute_result"
    }
   ],
   "source": [
    "df"
   ]
  },
  {
   "cell_type": "markdown",
   "id": "7c6b7841",
   "metadata": {},
   "source": [
    "### Keep "
   ]
  },
  {
   "cell_type": "code",
   "execution_count": 21,
   "id": "d076d91a",
   "metadata": {},
   "outputs": [
    {
     "data": {
      "text/html": [
       "<div>\n",
       "<style scoped>\n",
       "    .dataframe tbody tr th:only-of-type {\n",
       "        vertical-align: middle;\n",
       "    }\n",
       "\n",
       "    .dataframe tbody tr th {\n",
       "        vertical-align: top;\n",
       "    }\n",
       "\n",
       "    .dataframe thead th {\n",
       "        text-align: right;\n",
       "    }\n",
       "</style>\n",
       "<table border=\"1\" class=\"dataframe\">\n",
       "  <thead>\n",
       "    <tr style=\"text-align: right;\">\n",
       "      <th></th>\n",
       "      <th>Name</th>\n",
       "      <th>Salary</th>\n",
       "      <th>Company</th>\n",
       "    </tr>\n",
       "  </thead>\n",
       "  <tbody>\n",
       "    <tr>\n",
       "      <th>0</th>\n",
       "      <td>Rajesh</td>\n",
       "      <td>23000</td>\n",
       "      <td>IBM</td>\n",
       "    </tr>\n",
       "    <tr>\n",
       "      <th>1</th>\n",
       "      <td>Ramesh</td>\n",
       "      <td>40000</td>\n",
       "      <td>IBM</td>\n",
       "    </tr>\n",
       "    <tr>\n",
       "      <th>2</th>\n",
       "      <td>Suresh</td>\n",
       "      <td>24000</td>\n",
       "      <td>IBM</td>\n",
       "    </tr>\n",
       "    <tr>\n",
       "      <th>3</th>\n",
       "      <td>Ramesh</td>\n",
       "      <td>40000</td>\n",
       "      <td>IBM</td>\n",
       "    </tr>\n",
       "    <tr>\n",
       "      <th>4</th>\n",
       "      <td>Ramesh</td>\n",
       "      <td>40000</td>\n",
       "      <td>IBM</td>\n",
       "    </tr>\n",
       "    <tr>\n",
       "      <th>5</th>\n",
       "      <td>Naresh</td>\n",
       "      <td>34000</td>\n",
       "      <td>IBM</td>\n",
       "    </tr>\n",
       "  </tbody>\n",
       "</table>\n",
       "</div>"
      ],
      "text/plain": [
       "     Name  Salary Company\n",
       "0  Rajesh   23000     IBM\n",
       "1  Ramesh   40000     IBM\n",
       "2  Suresh   24000     IBM\n",
       "3  Ramesh   40000     IBM\n",
       "4  Ramesh   40000     IBM\n",
       "5  Naresh   34000     IBM"
      ]
     },
     "execution_count": 21,
     "metadata": {},
     "output_type": "execute_result"
    }
   ],
   "source": [
    "df = pd.DataFrame ({'Name': ['Rajesh','Ramesh','Suresh','Ramesh','Ramesh','Naresh'],\n",
    "              'Salary':[23000,40000,24000,40000,40000,34000],\n",
    "              'Company': ['IBM','IBM','IBM','IBM','IBM','IBM']})\n",
    "df"
   ]
  },
  {
   "cell_type": "code",
   "execution_count": 22,
   "id": "fac41a28",
   "metadata": {},
   "outputs": [
    {
     "data": {
      "text/html": [
       "<div>\n",
       "<style scoped>\n",
       "    .dataframe tbody tr th:only-of-type {\n",
       "        vertical-align: middle;\n",
       "    }\n",
       "\n",
       "    .dataframe tbody tr th {\n",
       "        vertical-align: top;\n",
       "    }\n",
       "\n",
       "    .dataframe thead th {\n",
       "        text-align: right;\n",
       "    }\n",
       "</style>\n",
       "<table border=\"1\" class=\"dataframe\">\n",
       "  <thead>\n",
       "    <tr style=\"text-align: right;\">\n",
       "      <th></th>\n",
       "      <th>Name</th>\n",
       "      <th>Salary</th>\n",
       "      <th>Company</th>\n",
       "    </tr>\n",
       "  </thead>\n",
       "  <tbody>\n",
       "    <tr>\n",
       "      <th>0</th>\n",
       "      <td>Rajesh</td>\n",
       "      <td>23000</td>\n",
       "      <td>IBM</td>\n",
       "    </tr>\n",
       "    <tr>\n",
       "      <th>1</th>\n",
       "      <td>Ramesh</td>\n",
       "      <td>40000</td>\n",
       "      <td>IBM</td>\n",
       "    </tr>\n",
       "    <tr>\n",
       "      <th>2</th>\n",
       "      <td>Suresh</td>\n",
       "      <td>24000</td>\n",
       "      <td>IBM</td>\n",
       "    </tr>\n",
       "    <tr>\n",
       "      <th>5</th>\n",
       "      <td>Naresh</td>\n",
       "      <td>34000</td>\n",
       "      <td>IBM</td>\n",
       "    </tr>\n",
       "  </tbody>\n",
       "</table>\n",
       "</div>"
      ],
      "text/plain": [
       "     Name  Salary Company\n",
       "0  Rajesh   23000     IBM\n",
       "1  Ramesh   40000     IBM\n",
       "2  Suresh   24000     IBM\n",
       "5  Naresh   34000     IBM"
      ]
     },
     "execution_count": 22,
     "metadata": {},
     "output_type": "execute_result"
    }
   ],
   "source": [
    "df.drop_duplicates(keep = 'first')"
   ]
  },
  {
   "cell_type": "code",
   "execution_count": 24,
   "id": "ea8336ff",
   "metadata": {},
   "outputs": [
    {
     "data": {
      "text/html": [
       "<div>\n",
       "<style scoped>\n",
       "    .dataframe tbody tr th:only-of-type {\n",
       "        vertical-align: middle;\n",
       "    }\n",
       "\n",
       "    .dataframe tbody tr th {\n",
       "        vertical-align: top;\n",
       "    }\n",
       "\n",
       "    .dataframe thead th {\n",
       "        text-align: right;\n",
       "    }\n",
       "</style>\n",
       "<table border=\"1\" class=\"dataframe\">\n",
       "  <thead>\n",
       "    <tr style=\"text-align: right;\">\n",
       "      <th></th>\n",
       "      <th>Name</th>\n",
       "      <th>Salary</th>\n",
       "      <th>Company</th>\n",
       "    </tr>\n",
       "  </thead>\n",
       "  <tbody>\n",
       "    <tr>\n",
       "      <th>0</th>\n",
       "      <td>Rajesh</td>\n",
       "      <td>23000</td>\n",
       "      <td>IBM</td>\n",
       "    </tr>\n",
       "    <tr>\n",
       "      <th>2</th>\n",
       "      <td>Suresh</td>\n",
       "      <td>24000</td>\n",
       "      <td>IBM</td>\n",
       "    </tr>\n",
       "    <tr>\n",
       "      <th>4</th>\n",
       "      <td>Ramesh</td>\n",
       "      <td>40000</td>\n",
       "      <td>IBM</td>\n",
       "    </tr>\n",
       "    <tr>\n",
       "      <th>5</th>\n",
       "      <td>Naresh</td>\n",
       "      <td>34000</td>\n",
       "      <td>IBM</td>\n",
       "    </tr>\n",
       "  </tbody>\n",
       "</table>\n",
       "</div>"
      ],
      "text/plain": [
       "     Name  Salary Company\n",
       "0  Rajesh   23000     IBM\n",
       "2  Suresh   24000     IBM\n",
       "4  Ramesh   40000     IBM\n",
       "5  Naresh   34000     IBM"
      ]
     },
     "execution_count": 24,
     "metadata": {},
     "output_type": "execute_result"
    }
   ],
   "source": [
    "df.drop_duplicates(keep = 'last')"
   ]
  },
  {
   "cell_type": "markdown",
   "id": "779d5545",
   "metadata": {},
   "source": [
    "### Zero Variance Features "
   ]
  },
  {
   "cell_type": "code",
   "execution_count": 30,
   "id": "fd59ac34",
   "metadata": {},
   "outputs": [
    {
     "data": {
      "text/html": [
       "<div>\n",
       "<style scoped>\n",
       "    .dataframe tbody tr th:only-of-type {\n",
       "        vertical-align: middle;\n",
       "    }\n",
       "\n",
       "    .dataframe tbody tr th {\n",
       "        vertical-align: top;\n",
       "    }\n",
       "\n",
       "    .dataframe thead th {\n",
       "        text-align: right;\n",
       "    }\n",
       "</style>\n",
       "<table border=\"1\" class=\"dataframe\">\n",
       "  <thead>\n",
       "    <tr style=\"text-align: right;\">\n",
       "      <th></th>\n",
       "      <th>Name</th>\n",
       "      <th>Salary</th>\n",
       "      <th>Company</th>\n",
       "    </tr>\n",
       "  </thead>\n",
       "  <tbody>\n",
       "    <tr>\n",
       "      <th>0</th>\n",
       "      <td>Rajesh</td>\n",
       "      <td>23000</td>\n",
       "      <td>IBM</td>\n",
       "    </tr>\n",
       "    <tr>\n",
       "      <th>1</th>\n",
       "      <td>Ramesh</td>\n",
       "      <td>23000</td>\n",
       "      <td>IBM</td>\n",
       "    </tr>\n",
       "    <tr>\n",
       "      <th>2</th>\n",
       "      <td>Suresh</td>\n",
       "      <td>23000</td>\n",
       "      <td>IBM</td>\n",
       "    </tr>\n",
       "    <tr>\n",
       "      <th>3</th>\n",
       "      <td>Ramesh</td>\n",
       "      <td>23000</td>\n",
       "      <td>IBM</td>\n",
       "    </tr>\n",
       "    <tr>\n",
       "      <th>4</th>\n",
       "      <td>Ramesh</td>\n",
       "      <td>23000</td>\n",
       "      <td>IBM</td>\n",
       "    </tr>\n",
       "    <tr>\n",
       "      <th>5</th>\n",
       "      <td>Naresh</td>\n",
       "      <td>23000</td>\n",
       "      <td>IBM</td>\n",
       "    </tr>\n",
       "  </tbody>\n",
       "</table>\n",
       "</div>"
      ],
      "text/plain": [
       "     Name  Salary Company\n",
       "0  Rajesh   23000     IBM\n",
       "1  Ramesh   23000     IBM\n",
       "2  Suresh   23000     IBM\n",
       "3  Ramesh   23000     IBM\n",
       "4  Ramesh   23000     IBM\n",
       "5  Naresh   23000     IBM"
      ]
     },
     "execution_count": 30,
     "metadata": {},
     "output_type": "execute_result"
    }
   ],
   "source": [
    "df = pd.DataFrame ({'Name': ['Rajesh','Ramesh','Suresh','Ramesh','Ramesh','Naresh'],\n",
    "              'Salary':[23000,23000,23000,23000,23000,23000],\n",
    "              'Company': ['IBM','IBM','IBM','IBM','IBM','IBM']})\n",
    "df"
   ]
  },
  {
   "cell_type": "code",
   "execution_count": 31,
   "id": "4848ff84",
   "metadata": {},
   "outputs": [
    {
     "data": {
      "text/plain": [
       "0.0"
      ]
     },
     "execution_count": 31,
     "metadata": {},
     "output_type": "execute_result"
    }
   ],
   "source": [
    "# Numerical \n",
    "df['Salary'].var()"
   ]
  },
  {
   "cell_type": "code",
   "execution_count": 32,
   "id": "2f7604dd",
   "metadata": {},
   "outputs": [
    {
     "data": {
      "text/plain": [
       "array(['IBM'], dtype=object)"
      ]
     },
     "execution_count": 32,
     "metadata": {},
     "output_type": "execute_result"
    }
   ],
   "source": [
    "#Categorical \n",
    "df['Company'].unique()"
   ]
  },
  {
   "cell_type": "code",
   "execution_count": 33,
   "id": "162a9851",
   "metadata": {},
   "outputs": [
    {
     "data": {
      "text/plain": [
       "1"
      ]
     },
     "execution_count": 33,
     "metadata": {},
     "output_type": "execute_result"
    }
   ],
   "source": [
    "#Categorical \n",
    "df['Company'].nunique()"
   ]
  },
  {
   "cell_type": "code",
   "execution_count": 35,
   "id": "81a8c8fd",
   "metadata": {},
   "outputs": [],
   "source": [
    "df.drop('Salary',axis=1,inplace=True)"
   ]
  },
  {
   "cell_type": "code",
   "execution_count": 36,
   "id": "aceb04a6",
   "metadata": {},
   "outputs": [
    {
     "data": {
      "text/html": [
       "<div>\n",
       "<style scoped>\n",
       "    .dataframe tbody tr th:only-of-type {\n",
       "        vertical-align: middle;\n",
       "    }\n",
       "\n",
       "    .dataframe tbody tr th {\n",
       "        vertical-align: top;\n",
       "    }\n",
       "\n",
       "    .dataframe thead th {\n",
       "        text-align: right;\n",
       "    }\n",
       "</style>\n",
       "<table border=\"1\" class=\"dataframe\">\n",
       "  <thead>\n",
       "    <tr style=\"text-align: right;\">\n",
       "      <th></th>\n",
       "      <th>Name</th>\n",
       "      <th>Company</th>\n",
       "    </tr>\n",
       "  </thead>\n",
       "  <tbody>\n",
       "    <tr>\n",
       "      <th>0</th>\n",
       "      <td>Rajesh</td>\n",
       "      <td>IBM</td>\n",
       "    </tr>\n",
       "    <tr>\n",
       "      <th>1</th>\n",
       "      <td>Ramesh</td>\n",
       "      <td>IBM</td>\n",
       "    </tr>\n",
       "    <tr>\n",
       "      <th>2</th>\n",
       "      <td>Suresh</td>\n",
       "      <td>IBM</td>\n",
       "    </tr>\n",
       "    <tr>\n",
       "      <th>3</th>\n",
       "      <td>Ramesh</td>\n",
       "      <td>IBM</td>\n",
       "    </tr>\n",
       "    <tr>\n",
       "      <th>4</th>\n",
       "      <td>Ramesh</td>\n",
       "      <td>IBM</td>\n",
       "    </tr>\n",
       "    <tr>\n",
       "      <th>5</th>\n",
       "      <td>Naresh</td>\n",
       "      <td>IBM</td>\n",
       "    </tr>\n",
       "  </tbody>\n",
       "</table>\n",
       "</div>"
      ],
      "text/plain": [
       "     Name Company\n",
       "0  Rajesh     IBM\n",
       "1  Ramesh     IBM\n",
       "2  Suresh     IBM\n",
       "3  Ramesh     IBM\n",
       "4  Ramesh     IBM\n",
       "5  Naresh     IBM"
      ]
     },
     "execution_count": 36,
     "metadata": {},
     "output_type": "execute_result"
    }
   ],
   "source": [
    "df"
   ]
  },
  {
   "cell_type": "code",
   "execution_count": null,
   "id": "2bda9752",
   "metadata": {},
   "outputs": [],
   "source": []
  },
  {
   "cell_type": "code",
   "execution_count": null,
   "id": "a534efb0",
   "metadata": {},
   "outputs": [],
   "source": []
  },
  {
   "cell_type": "markdown",
   "id": "82df23da",
   "metadata": {},
   "source": [
    "# Type Casting "
   ]
  },
  {
   "cell_type": "code",
   "execution_count": 37,
   "id": "4e7a4282",
   "metadata": {},
   "outputs": [],
   "source": [
    "#### Chainging the one data type to another data type "
   ]
  },
  {
   "cell_type": "code",
   "execution_count": 39,
   "id": "137aeb2e",
   "metadata": {},
   "outputs": [
    {
     "data": {
      "text/html": [
       "<div>\n",
       "<style scoped>\n",
       "    .dataframe tbody tr th:only-of-type {\n",
       "        vertical-align: middle;\n",
       "    }\n",
       "\n",
       "    .dataframe tbody tr th {\n",
       "        vertical-align: top;\n",
       "    }\n",
       "\n",
       "    .dataframe thead th {\n",
       "        text-align: right;\n",
       "    }\n",
       "</style>\n",
       "<table border=\"1\" class=\"dataframe\">\n",
       "  <thead>\n",
       "    <tr style=\"text-align: right;\">\n",
       "      <th></th>\n",
       "      <th>PassengerId</th>\n",
       "      <th>Pclass</th>\n",
       "      <th>Name</th>\n",
       "      <th>Sex</th>\n",
       "      <th>Age</th>\n",
       "      <th>SibSp</th>\n",
       "      <th>Parch</th>\n",
       "      <th>Ticket</th>\n",
       "      <th>Fare</th>\n",
       "      <th>Cabin</th>\n",
       "      <th>Embarked</th>\n",
       "      <th>Survived</th>\n",
       "    </tr>\n",
       "  </thead>\n",
       "  <tbody>\n",
       "    <tr>\n",
       "      <th>0</th>\n",
       "      <td>1</td>\n",
       "      <td>3</td>\n",
       "      <td>Braund, Mr. Owen Harris</td>\n",
       "      <td>male</td>\n",
       "      <td>22.0</td>\n",
       "      <td>1</td>\n",
       "      <td>0</td>\n",
       "      <td>A/5 21171</td>\n",
       "      <td>7.2500</td>\n",
       "      <td>NaN</td>\n",
       "      <td>S</td>\n",
       "      <td>0</td>\n",
       "    </tr>\n",
       "    <tr>\n",
       "      <th>1</th>\n",
       "      <td>2</td>\n",
       "      <td>1</td>\n",
       "      <td>Cumings, Mrs. John Bradley (Florence Briggs Th...</td>\n",
       "      <td>female</td>\n",
       "      <td>38.0</td>\n",
       "      <td>1</td>\n",
       "      <td>0</td>\n",
       "      <td>PC 17599</td>\n",
       "      <td>71.2833</td>\n",
       "      <td>C85</td>\n",
       "      <td>C</td>\n",
       "      <td>1</td>\n",
       "    </tr>\n",
       "    <tr>\n",
       "      <th>2</th>\n",
       "      <td>3</td>\n",
       "      <td>3</td>\n",
       "      <td>Heikkinen, Miss. Laina</td>\n",
       "      <td>female</td>\n",
       "      <td>26.0</td>\n",
       "      <td>0</td>\n",
       "      <td>0</td>\n",
       "      <td>STON/O2. 3101282</td>\n",
       "      <td>7.9250</td>\n",
       "      <td>NaN</td>\n",
       "      <td>S</td>\n",
       "      <td>1</td>\n",
       "    </tr>\n",
       "    <tr>\n",
       "      <th>3</th>\n",
       "      <td>4</td>\n",
       "      <td>1</td>\n",
       "      <td>Futrelle, Mrs. Jacques Heath (Lily May Peel)</td>\n",
       "      <td>female</td>\n",
       "      <td>35.0</td>\n",
       "      <td>1</td>\n",
       "      <td>0</td>\n",
       "      <td>113803</td>\n",
       "      <td>53.1000</td>\n",
       "      <td>C123</td>\n",
       "      <td>S</td>\n",
       "      <td>1</td>\n",
       "    </tr>\n",
       "    <tr>\n",
       "      <th>4</th>\n",
       "      <td>5</td>\n",
       "      <td>3</td>\n",
       "      <td>Allen, Mr. William Henry</td>\n",
       "      <td>male</td>\n",
       "      <td>35.0</td>\n",
       "      <td>0</td>\n",
       "      <td>0</td>\n",
       "      <td>373450</td>\n",
       "      <td>8.0500</td>\n",
       "      <td>NaN</td>\n",
       "      <td>S</td>\n",
       "      <td>0</td>\n",
       "    </tr>\n",
       "    <tr>\n",
       "      <th>...</th>\n",
       "      <td>...</td>\n",
       "      <td>...</td>\n",
       "      <td>...</td>\n",
       "      <td>...</td>\n",
       "      <td>...</td>\n",
       "      <td>...</td>\n",
       "      <td>...</td>\n",
       "      <td>...</td>\n",
       "      <td>...</td>\n",
       "      <td>...</td>\n",
       "      <td>...</td>\n",
       "      <td>...</td>\n",
       "    </tr>\n",
       "    <tr>\n",
       "      <th>895</th>\n",
       "      <td>896</td>\n",
       "      <td>1</td>\n",
       "      <td>McCarthy, Mr. Timothy J</td>\n",
       "      <td>male</td>\n",
       "      <td>54.0</td>\n",
       "      <td>0</td>\n",
       "      <td>0</td>\n",
       "      <td>17463</td>\n",
       "      <td>51.8625</td>\n",
       "      <td>E46</td>\n",
       "      <td>S</td>\n",
       "      <td>0</td>\n",
       "    </tr>\n",
       "    <tr>\n",
       "      <th>896</th>\n",
       "      <td>897</td>\n",
       "      <td>3</td>\n",
       "      <td>Alexander, Mr. William</td>\n",
       "      <td>male</td>\n",
       "      <td>26.0</td>\n",
       "      <td>0</td>\n",
       "      <td>0</td>\n",
       "      <td>3474</td>\n",
       "      <td>7.8875</td>\n",
       "      <td>NaN</td>\n",
       "      <td>S</td>\n",
       "      <td>0</td>\n",
       "    </tr>\n",
       "    <tr>\n",
       "      <th>897</th>\n",
       "      <td>898</td>\n",
       "      <td>3</td>\n",
       "      <td>Lester, Mr. James</td>\n",
       "      <td>male</td>\n",
       "      <td>39.0</td>\n",
       "      <td>0</td>\n",
       "      <td>0</td>\n",
       "      <td>A/4 48871</td>\n",
       "      <td>24.1500</td>\n",
       "      <td>NaN</td>\n",
       "      <td>S</td>\n",
       "      <td>0</td>\n",
       "    </tr>\n",
       "    <tr>\n",
       "      <th>898</th>\n",
       "      <td>899</td>\n",
       "      <td>2</td>\n",
       "      <td>Slemen, Mr. Richard James</td>\n",
       "      <td>male</td>\n",
       "      <td>35.0</td>\n",
       "      <td>0</td>\n",
       "      <td>0</td>\n",
       "      <td>28206</td>\n",
       "      <td>10.5000</td>\n",
       "      <td>NaN</td>\n",
       "      <td>S</td>\n",
       "      <td>0</td>\n",
       "    </tr>\n",
       "    <tr>\n",
       "      <th>899</th>\n",
       "      <td>900</td>\n",
       "      <td>3</td>\n",
       "      <td>Andersson, Miss. Ebba Iris Alfrida</td>\n",
       "      <td>female</td>\n",
       "      <td>6.0</td>\n",
       "      <td>4</td>\n",
       "      <td>2</td>\n",
       "      <td>347082</td>\n",
       "      <td>31.2750</td>\n",
       "      <td>NaN</td>\n",
       "      <td>S</td>\n",
       "      <td>0</td>\n",
       "    </tr>\n",
       "  </tbody>\n",
       "</table>\n",
       "<p>900 rows × 12 columns</p>\n",
       "</div>"
      ],
      "text/plain": [
       "     PassengerId  Pclass                                               Name  \\\n",
       "0              1       3                            Braund, Mr. Owen Harris   \n",
       "1              2       1  Cumings, Mrs. John Bradley (Florence Briggs Th...   \n",
       "2              3       3                             Heikkinen, Miss. Laina   \n",
       "3              4       1       Futrelle, Mrs. Jacques Heath (Lily May Peel)   \n",
       "4              5       3                           Allen, Mr. William Henry   \n",
       "..           ...     ...                                                ...   \n",
       "895          896       1                            McCarthy, Mr. Timothy J   \n",
       "896          897       3                             Alexander, Mr. William   \n",
       "897          898       3                                  Lester, Mr. James   \n",
       "898          899       2                          Slemen, Mr. Richard James   \n",
       "899          900       3                 Andersson, Miss. Ebba Iris Alfrida   \n",
       "\n",
       "        Sex   Age  SibSp  Parch            Ticket     Fare Cabin Embarked  \\\n",
       "0      male  22.0      1      0         A/5 21171   7.2500   NaN        S   \n",
       "1    female  38.0      1      0          PC 17599  71.2833   C85        C   \n",
       "2    female  26.0      0      0  STON/O2. 3101282   7.9250   NaN        S   \n",
       "3    female  35.0      1      0            113803  53.1000  C123        S   \n",
       "4      male  35.0      0      0            373450   8.0500   NaN        S   \n",
       "..      ...   ...    ...    ...               ...      ...   ...      ...   \n",
       "895    male  54.0      0      0             17463  51.8625   E46        S   \n",
       "896    male  26.0      0      0              3474   7.8875   NaN        S   \n",
       "897    male  39.0      0      0         A/4 48871  24.1500   NaN        S   \n",
       "898    male  35.0      0      0             28206  10.5000   NaN        S   \n",
       "899  female   6.0      4      2            347082  31.2750   NaN        S   \n",
       "\n",
       "     Survived  \n",
       "0           0  \n",
       "1           1  \n",
       "2           1  \n",
       "3           1  \n",
       "4           0  \n",
       "..        ...  \n",
       "895         0  \n",
       "896         0  \n",
       "897         0  \n",
       "898         0  \n",
       "899         0  \n",
       "\n",
       "[900 rows x 12 columns]"
      ]
     },
     "execution_count": 39,
     "metadata": {},
     "output_type": "execute_result"
    }
   ],
   "source": [
    "df = pd.read_csv(r\"C:\\Users\\91771\\Desktop\\Innomatic\\EDA\\Pandas\\Datasets\\titanic (1).csv\")\n",
    "df"
   ]
  },
  {
   "cell_type": "code",
   "execution_count": 40,
   "id": "98e7356d",
   "metadata": {},
   "outputs": [
    {
     "data": {
      "text/plain": [
       "PassengerId      int64\n",
       "Pclass           int64\n",
       "Name            object\n",
       "Sex             object\n",
       "Age            float64\n",
       "SibSp            int64\n",
       "Parch            int64\n",
       "Ticket          object\n",
       "Fare           float64\n",
       "Cabin           object\n",
       "Embarked        object\n",
       "Survived         int64\n",
       "dtype: object"
      ]
     },
     "execution_count": 40,
     "metadata": {},
     "output_type": "execute_result"
    }
   ],
   "source": [
    "df.dtypes"
   ]
  },
  {
   "cell_type": "code",
   "execution_count": 46,
   "id": "8df951e6",
   "metadata": {},
   "outputs": [],
   "source": [
    "df['Pclass']=df[\"Pclass\"].astype('object')"
   ]
  },
  {
   "cell_type": "code",
   "execution_count": 47,
   "id": "c0951fbb",
   "metadata": {},
   "outputs": [],
   "source": [
    "df['Survived']=df[\"Survived\"].astype('object')"
   ]
  },
  {
   "cell_type": "code",
   "execution_count": 48,
   "id": "bebc5638",
   "metadata": {},
   "outputs": [
    {
     "data": {
      "text/plain": [
       "PassengerId      int64\n",
       "Pclass          object\n",
       "Name            object\n",
       "Sex             object\n",
       "Age            float64\n",
       "SibSp            int64\n",
       "Parch            int64\n",
       "Ticket          object\n",
       "Fare           float64\n",
       "Cabin           object\n",
       "Embarked        object\n",
       "Survived        object\n",
       "Pclass          object\n",
       "dtype: object"
      ]
     },
     "execution_count": 48,
     "metadata": {},
     "output_type": "execute_result"
    }
   ],
   "source": [
    "df.dtypes"
   ]
  },
  {
   "cell_type": "code",
   "execution_count": 50,
   "id": "0354ecbb",
   "metadata": {},
   "outputs": [
    {
     "data": {
      "text/plain": [
       "0.42"
      ]
     },
     "execution_count": 50,
     "metadata": {},
     "output_type": "execute_result"
    }
   ],
   "source": [
    "df['Age'].min()"
   ]
  },
  {
   "cell_type": "code",
   "execution_count": 51,
   "id": "e994f2c7",
   "metadata": {},
   "outputs": [
    {
     "data": {
      "text/plain": [
       "7000.0"
      ]
     },
     "execution_count": 51,
     "metadata": {},
     "output_type": "execute_result"
    }
   ],
   "source": [
    "df['Age'].max()"
   ]
  },
  {
   "cell_type": "code",
   "execution_count": 52,
   "id": "a3c6c795",
   "metadata": {},
   "outputs": [
    {
     "data": {
      "text/plain": [
       "7200"
      ]
     },
     "execution_count": 52,
     "metadata": {},
     "output_type": "execute_result"
    }
   ],
   "source": [
    "df['Age'].nbytes"
   ]
  },
  {
   "cell_type": "code",
   "execution_count": 53,
   "id": "c8a147d7",
   "metadata": {},
   "outputs": [
    {
     "data": {
      "text/plain": [
       "finfo(resolution=1e-15, min=-1.7976931348623157e+308, max=1.7976931348623157e+308, dtype=float64)"
      ]
     },
     "execution_count": 53,
     "metadata": {},
     "output_type": "execute_result"
    }
   ],
   "source": [
    "np.finfo('float64')"
   ]
  },
  {
   "cell_type": "code",
   "execution_count": 54,
   "id": "c792a32c",
   "metadata": {},
   "outputs": [
    {
     "data": {
      "text/plain": [
       "finfo(resolution=0.001, min=-6.55040e+04, max=6.55040e+04, dtype=float16)"
      ]
     },
     "execution_count": 54,
     "metadata": {},
     "output_type": "execute_result"
    }
   ],
   "source": [
    "np.finfo('float16')"
   ]
  },
  {
   "cell_type": "code",
   "execution_count": null,
   "id": "88dddc58",
   "metadata": {},
   "outputs": [],
   "source": [
    "# Converting Data Type to Reduce Memory Space "
   ]
  },
  {
   "cell_type": "code",
   "execution_count": 55,
   "id": "95f8c345",
   "metadata": {},
   "outputs": [],
   "source": [
    "df['Age']=df['Age'].astype('float16')"
   ]
  },
  {
   "cell_type": "code",
   "execution_count": 56,
   "id": "3e7df928",
   "metadata": {},
   "outputs": [
    {
     "data": {
      "text/plain": [
       "1800"
      ]
     },
     "execution_count": 56,
     "metadata": {},
     "output_type": "execute_result"
    }
   ],
   "source": [
    "df['Age'].nbytes"
   ]
  },
  {
   "cell_type": "code",
   "execution_count": 57,
   "id": "c4174566",
   "metadata": {},
   "outputs": [
    {
     "data": {
      "text/plain": [
       "0.42"
      ]
     },
     "execution_count": 57,
     "metadata": {},
     "output_type": "execute_result"
    }
   ],
   "source": [
    "df['Age'].min()"
   ]
  },
  {
   "cell_type": "code",
   "execution_count": 58,
   "id": "49bdaeaa",
   "metadata": {},
   "outputs": [
    {
     "data": {
      "text/plain": [
       "7000.0"
      ]
     },
     "execution_count": 58,
     "metadata": {},
     "output_type": "execute_result"
    }
   ],
   "source": [
    "df['Age'].max()"
   ]
  },
  {
   "cell_type": "code",
   "execution_count": null,
   "id": "cbe68aee",
   "metadata": {},
   "outputs": [],
   "source": []
  }
 ],
 "metadata": {
  "kernelspec": {
   "display_name": "Python 3 (ipykernel)",
   "language": "python",
   "name": "python3"
  },
  "language_info": {
   "codemirror_mode": {
    "name": "ipython",
    "version": 3
   },
   "file_extension": ".py",
   "mimetype": "text/x-python",
   "name": "python",
   "nbconvert_exporter": "python",
   "pygments_lexer": "ipython3",
   "version": "3.9.13"
  }
 },
 "nbformat": 4,
 "nbformat_minor": 5
}
