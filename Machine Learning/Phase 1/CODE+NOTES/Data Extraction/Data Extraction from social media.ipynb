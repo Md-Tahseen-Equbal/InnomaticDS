{
 "cells": [
  {
   "cell_type": "code",
   "execution_count": 2,
   "id": "41434738-0552-4cb9-b6de-4a2c5561f224",
   "metadata": {},
   "outputs": [
    {
     "name": "stdout",
     "output_type": "stream",
     "text": [
      "Collecting tqdm\n",
      "  Downloading tqdm-4.66.4-py3-none-any.whl.metadata (57 kB)\n",
      "     ---------------------------------------- 0.0/57.6 kB ? eta -:--:--\n",
      "     ---------------------------------------- 57.6/57.6 kB ? eta 0:00:00\n",
      "Requirement already satisfied: colorama in c:\\users\\91830\\appdata\\local\\programs\\python\\python311\\lib\\site-packages (from tqdm) (0.4.6)\n",
      "Downloading tqdm-4.66.4-py3-none-any.whl (78 kB)\n",
      "   ---------------------------------------- 0.0/78.3 kB ? eta -:--:--\n",
      "   ---------------------------------------- 78.3/78.3 kB 4.3 MB/s eta 0:00:00\n",
      "Installing collected packages: tqdm\n",
      "Successfully installed tqdm-4.66.4\n",
      "Note: you may need to restart the kernel to use updated packages.\n"
     ]
    }
   ],
   "source": [
    "pip install tqdm"
   ]
  },
  {
   "cell_type": "code",
   "execution_count": 1,
   "id": "7e0e3703-c9fe-43f5-92e8-891841e71d9a",
   "metadata": {},
   "outputs": [],
   "source": [
    "import ntscraper"
   ]
  },
  {
   "cell_type": "code",
   "execution_count": 2,
   "id": "e87daad1-cd88-46c2-a3b3-2b32e9efafad",
   "metadata": {},
   "outputs": [
    {
     "name": "stderr",
     "output_type": "stream",
     "text": [
      "Testing instances: 100%|███████████████████████████████████████████████████████████████| 77/77 [02:12<00:00,  1.72s/it]\n"
     ]
    }
   ],
   "source": [
    "nit = ntscraper.Nitter()"
   ]
  },
  {
   "cell_type": "code",
   "execution_count": 4,
   "id": "03e24df0-29cf-491e-ab58-f2cbaceeb737",
   "metadata": {},
   "outputs": [
    {
     "name": "stdout",
     "output_type": "stream",
     "text": [
      "12-Jul-24 10:31:40 - No instance specified, using random instance https://nitter.privacydev.net\n",
      "12-Jul-24 10:31:46 - Current stats for viratkohli: 19 tweets, 0 threads...\n",
      "12-Jul-24 10:31:50 - Current stats for viratkohli: 31 tweets, 0 threads...\n",
      "12-Jul-24 10:31:54 - Current stats for viratkohli: 39 tweets, 0 threads...\n",
      "12-Jul-24 10:31:58 - Current stats for viratkohli: 48 tweets, 0 threads...\n",
      "12-Jul-24 10:32:02 - Current stats for viratkohli: 56 tweets, 0 threads...\n",
      "12-Jul-24 10:32:06 - Current stats for viratkohli: 62 tweets, 0 threads...\n",
      "12-Jul-24 10:32:10 - Current stats for viratkohli: 70 tweets, 0 threads...\n",
      "12-Jul-24 10:32:14 - Current stats for viratkohli: 74 tweets, 0 threads...\n",
      "12-Jul-24 10:32:19 - Current stats for viratkohli: 82 tweets, 0 threads...\n",
      "12-Jul-24 10:32:23 - Current stats for viratkohli: 90 tweets, 0 threads...\n",
      "12-Jul-24 10:32:28 - Current stats for viratkohli: 99 tweets, 0 threads...\n",
      "12-Jul-24 10:32:31 - Empty page on https://nitter.privacydev.net\n"
     ]
    }
   ],
   "source": [
    "tweets = nit.get_tweets('viratkohli')"
   ]
  },
  {
   "cell_type": "code",
   "execution_count": 7,
   "id": "0583c656-f7c7-4dcf-9931-836986aeedf1",
   "metadata": {},
   "outputs": [
    {
     "name": "stdout",
     "output_type": "stream",
     "text": [
      "Lockdown kids don't know the Virat Kohli we grew up watching. 🥵\n",
      "Shahid Afridi said - \"Virat Kohli has  lots of fans in Pakistan. We are eager to see Virat in Pakistan, everyone wants to see him playing in Pakistan\". (News24 Sports).\n",
      "Top  Instagram Liked Post In India   1. Virat Kohli - 21  Million  After Winning The World y  2. Virat Kohli - 15 Million  With Anushka Sharma   3. Virat Kohli - 14 Million  On Anushka Birthday   4. Virat Kohli -  13 Million  With Narendra Modi   5. Alia Bhatt - 12 Million  On Marriage Post   6. Elvish Yadav -  10 Million After Winning Big Boss   Virat Kohli Is The Biggest Superstar In India\n",
      "Being Virat Kohli is tough .  Man came to the stage spoke about Rohit, Bumrah , SKY but no one acknowledged his crucial innings.\n",
      "Shahid Afridi expresses his desire for Virat Kohli to visit Pakistan.\n",
      "Bro was not out of form, he was waiting for those 34-3 moments to play another clutch inning.  VIRAT KOHLI 🐐, THE BIG MATCH PLAYER✨\n",
      "Virat Kohli Ruled Australia in all Formats at the age of 26 🐐.\n",
      "VVS Laxman said \"It was a really nice gesture from Rohit Sharma & Virat Kohli to hand over the World Cup Trophy to Rahul Dravid, the celebration, the emotions showed how much it meant for him\". [BCCI]\n",
      "Ruturaj Gaikwad surpasses King Kohli's tally! 👑  #RuturajGaikwad #India #ViratKohli\n",
      "If it's Virat Kohli in place of Rohit Sharma then MC Mufa :\n",
      "Most ICC Awards for India:- (Test, ODI, T20I, Decade, Spirit & Month)  Men's - Virat Kohli (11). Women's - Smriti Mandhana (4). Overall in the World - Virat Kohli.  - THE DOMINATION OF NO.18...!!!! 🥶🐐\n",
      "Source - Virat Kohli Statpadding.\n",
      "Jai Shree Ram 🙏✨❤\n",
      "#ViratKohli𓃵\n",
      "VIRAT - ROHIT MOMENT. 🥺❤️  Virat Kohli went back side to the Open-bus, called Rohit and both of them hold the trophy towards the fans.   Kohli, a great human being. 👌\n",
      "Good Vibes With Virat Kohli ♥️\n",
      "In football three is debate for knowing who is the best. In cricket, no debates exist. Virat Kohli is on top.\n",
      "What if Virat Kohli played 452 innings??? 🤔\n",
      "Shahid Afridi said Virat Kohli is my favourite batsman. Virat Kohli shouldn't have quit T20 . #CricketTwitter\n",
      "When Selfish Virat kohli didn't scored   Vs When Selfish Virat Kohli scored 😹.\n",
      "Shahid Afridi said - \"Virat Kohli shouldn't have quit T20Is because the format looked beautiful with him in it. He is fit, He is performing, more than anything, with him around new guys would have found a lot more success.What Virat can teach them, I don't think anyone else can\".\n",
      "nah this was next level bravery from Virat Kohli\n",
      "VVS Laxman said \"It was a really nice gesture from Rohit Sharma & Virat Kohli to hand over the World Cup Trophy to Rahul Dravid, the celebration, the emotions showed how much it meant for him\". [BCCI]\n",
      "Arguably one of the most underrated knock of VIRAT kohli in t20 wcs.   As usual India was 23-3 against Pakistan. (2016)  He just came in and just chased it without any hiccups.\n",
      "For the same aggression Aussies get appreciation while Virat gets criticism from own countrymen .  The hypocrisy towards Virat Kohli is unreal .\n",
      "This country made Gambhir clutch god for scoring in 2 finals and having a mediocre career spanning few years across formats But hates Virat Kohli for scoring in 5 finals, winning 3 of them and carrying Indian Cricket on his back for 15+ years\n",
      "120 Seconds of Virat Kohli bashing Mitchell Starc !\n",
      "Shahid Afridi said, \"if Virat Kohli comes to Pakistan, he'll forget the hospitality of India. Virat has lots of fans in Pakistan, we're eager to see Virat play in Pakistan\". (News24 Sports).\n",
      "This Virat Kohli Cover Drive❤️🔥>>>>>\n",
      "From the first T20I to the last T20I, The journey is over 🥺.  VIRAT KOHLI 🐐, T20IS CRICKET WILL MISS YOU 💔🙂✨\n",
      "Pakistan is bomb factory and a terrorist organisation. Why someone like Virat Kohli go out there? He already has achieved everything. He do not need to push himself in danger.\n",
      "When selfish Virat Kohli performed Vs when he failed to perform.. ( Deep)\n",
      "Speed about Virat Kohli to Lord Zlatan..😛\n",
      "Oh no, the Ambanis dared to celebrate their hard-earned success! How dare they! 🙄😒😒\n",
      "VVS Laxman said \"It was a really nice gesture from Rohit Sharma & Virat Kohli to hand over the World Cup Trophy to Rahul Dravid, the celebration, the emotions showed how much it meant for him\". [BCCI]\n",
      "出演辞退とか国民的アイドルとか 何事なのか分かんないけど なぜかトレンドに上がってる🫥 人身事故 逮捕の訳 真央ちゃん このトレンドだけ見たら 真央ちゃんが逮捕されたかと思った📷10\n",
      "Ro_ko 😍 #viratkohli #RohitSharma\n",
      "Inbox now for all account recovery services,Lost or suspended, Inbox now let's get it done. #bts #f1 #tiktok #indvspak2022 #viratkohli #usgp #nowplaying #crypto #jin  #nft #indvpak\n",
      "A champion's mindset, A legend's Aura : Virat Kohli's unmatched greatness 🥶\n",
      "Virat Kohli, Test Cricket and Cover Drive 🔥\n",
      "\"When the bats come out to dance! Virat Kohli and Rohit Sharma busting a move!\" 😂🤍 Spread some positivity 😁💗\n",
      "Shahid Afridi on Virat Kohli's stardom in Pakistan\n",
      "Virat Kohli ❤️\n",
      "Tu khwab dekhte reh ja, hum nahi aayenge.... 😂😂 #ChampionsTrophy #GautamGambhir #ViratKohli\n",
      "Being Virat Kohli is not easy 🫡\n",
      "The Time When Prime Virat Kohli Scored 558 Runs IN 6 ODI Series Against  South Africa In SA .\n",
      "Don't bring casteism please\n",
      "VVS Laxman said - \"Thank you to these three stalwarts Virat Kohli, Rohit Sharma & Ravindra Jadeja for all contributions to the game & they set an example for youngsters. Big congratulations to their excellent T20 career and I'm sure they will continue to do well in ODIs & Tests\".\n",
      "Somewhere during the first finals in Sydney in another corner of the world in Singapore, India wins the U-19 World Cup under another young Prodigy in Virat Kohli! Both Virat and Rohit will then win so manys games for India and continue to do so!!❤️🇮🇳\n",
      "What we deserve - Pat Cummins What we get - Jay Shah, Rohit Sharma and Virat Kohli 🤢\n",
      "Bengaluru is known coz of Virat Kohli and Chennai is known coz of dhoni 😂😂           -average IQ cl0wns\n",
      "Virat Kohli masterclass on extremely hostile batting conditions against a high quality pace attack, leading his team to a famous victory at Jo'burg 2018.\n",
      "Anderson only said Sachin Tendulkar is the greatest.  But Ricky Ponting also shat on the entire career of Virat Kohli  (Then starsports had to intervene and do some PR damage control in the middle of the WC 🤣)\n",
      "❤️ gm\n",
      "\"It was a great gesture by Rohit Sharma and Virat Kohli to hand over the trophy to Rahul Dravid.\" - VVS Laxman [BCCI]\n",
      "Still can't believe that Virat Kohli scored 692 runs against these monsters at the age of 26 🥶🔥🐐.  VIRAT KOHLI 🐐, KING OF A REASON.\n",
      "Viv Richards on comparison with Virat Kohli and his admiration for him.\n",
      "Day 9️⃣3️⃣5️⃣ Of Tweeting Untill @imVkohli & @AnushkaSharma Replies 🤞🥰❤️  #ViratKohli #AnushkaSharma #Virushka\n",
      "Sunil Chhetri said - \"It's amazing to have a legend like Virat Kohli as your friend\".\n",
      "Oombhu da papan\n",
      "There's still a lot of cricket left in Virat Kohli. 🔥\n",
      "ஒரே ஒரு முறை பாக்., வாங்க! அப்றம் இந்தியாவையே மறந்துடுவிங்க - அப்ரிடி  https://tamil.abplive.com/sports/cricket/in-pakistan-virat-kohli-will-forget-the-love-he-has-received-in-india-says-shahid-afridi-192189 #ShahidAfridi #ViratKohli #Pakistan #Cricket\n",
      "Each and every generation is bowing down to the Greatness of Virat Kohli .\n",
      "The Time When Prime Virat Kohli Scored 558 Runs IN 6 ODI Series Against  South Africa In SA .\n",
      "Good night friends ❤️😻 #thalapathyvijay #ViratKohli @MsKajalAggarwal #TheGreatestOffAllTime\n",
      "- Sending Axar patel at 4 against Pak & Sa in final. - picking 4 spinners.  - making batting depth till 8th. - requesting dravid to stay. - Backing Shivam dube & Virat Kohli.  Captain Rohit Sharma deserves much more credit for the WC win !\n",
      "VVS Laxman said \"It was a really nice gesture from Rohit Sharma & Virat Kohli to hand over the World Cup Trophy to Rahul Dravid, the celebration, the emotions showed how much it meant for him\".\n",
      "Shahid Afridi said Virat Kohli is my favourite batsman. Virat Kohli shouldn't have quit T20 . #CricketTwitter\n",
      "Facing 140 Kmph James Anderson's inswing ball ain't easy ma'am . Running between the wickets with 30kmph with pads , bat and helmet on is also physically difficult.  Cricketers Play badminton after the match just for timepass . Level of this game .\n",
      "A champion's mindset, A legend's Aura : Virat Kohli's unmatched greatness 🥶\n",
      "What if Virat Kohli play 452 innings? 🤔\n",
      "We have seen every generation bowing down to Virat Kohli. 🐐\n",
      "Shame on Riyan Parag\n",
      "விராட் கோலி பாகிஸ்தானுக்கு வந்தால்...!  #ShahidAfridi | #ViratKohli | #PakistanCricket | #pakistanvsindia | #News7Tamil | #News7TamilUpdates\n",
      "Herschelle Gibbs said - \"I'm a big admirer of Virat Kohli. The way he's played, he's got the utmost respect with regards to what he's achieved at international level. His game in ODIs and chasing is second to none. That makes him more special player from others\". (Sports Tak).\n",
      "The football skills of Virat Kohli. 🐐\n",
      "Rohit Sharma Vs Virat Kohli is a delight to watch anyway. #RoVsKoh hehe\n",
      "#INDvsPAK #ViratKohli   Shahid Afridi hopes to see Virat Kohli play in Pakistan  'He's even my favourite cricketer'  https://www.news18.com/cricket/virat-india-ka-pyaar-bhool-jayega-shahid-afridis-massive-claim-on-craze-for-kohli-in-pakistan-8962665.html\n",
      "VVS Laxman speaking about Rohit Sharma, Virat Kohli, Ravindra Jadeja and Rahul Dravid. 🫡🔥\n",
      "Ricky Ponting and Virat Kohli\n",
      "Virat Kohli In White Ball Cricket 🔥🐐👑\n",
      "Just like how the 2023 ODI World Cup campaign of Virat Kohli was fluke, useless 700 runs with dropped catches in the Australia match, rigged DRS in the semi-final. Also no boundary in 97 balls in partnership with KL Rahul.\n",
      "Yash is here to attend the Ambani Wedding!\n",
      "fukra insaan is more deserving than virat kohli\n",
      "#SportsUpdate | விராட் கோலி பாகிஸ்தானில் விளையாடுவதைப் பார்க்க ஆவலாக உள்ளோம் - ஷாஹித் அப்ரிடி  #SunNews | #ViratKohli | #Pakistan\n",
      "Still performed better than Chokit Sharma in ICC Knockouts. Virat kohli Average in ICC Knockouts is 58+. Chokit Sharma Average in ICC Knockouts is 47+ remove Bangladesh Chokit Sharma Average is only 30+ in ICC Knockouts. Virat POTM in ICC Final dream for Chokit Sharma 😂😂😂\n",
      "VVS Laxman reflects on India's T20 World Cup triumph, highlights Virat Kohli and Rohit Sharma's gesture to Rahul Dravid.   #T20WorldCup #Cricket #INDvZIM https://www.indiatoday.in/sports/cricket/story/t20-world-cup-virat-kohli-trophy-rahul-dravid-celebration-vvs-laxman-2565664-2024-07-12\n",
      "Believe me, he's not talking about Virat Kohli 🌚\n",
      "Most runs as Indian captain in international cricket:  12883 - Virat Kohli (213 mat) 11207 - MS Dhoni (332 mat) 8095 - Mohammad Azharuddin(221 mat) 7643 - Sourav Ganguly (195 mat) 5042 - Rohit Sharma (123 mat)  #TeamIndia\n",
      "That's the moment of glory.\n",
      "At 50K followers I’m going to Give away 100 free subs 💗 #BBNaijaAllStar #ViratKohli𓃵 #splittongue\n",
      "Herschelle Gibbs said - \"I'm a big fan of Virat Kohli. The way he chases targets and what he achieved at international level makes him the greatest of all time.\"\n",
      "The greatest T20i batter , Virat Kohli ❤️🐐\n",
      "𝐌𝐨𝐬𝐭 𝐰𝐢𝐧𝐬 𝐛𝐲 𝐭𝐞𝐚𝐦𝐬 𝐢𝐧 𝐓𝟐𝟎𝐈 𝐜𝐫𝐢𝐜𝐤𝐞𝐭  𝟭𝟱𝟬 - 🇮🇳 142 - 🇵🇰 111 - 🇳🇿 105 - 🇦🇺 104 - 🇿🇦 100 - 🏴󠁧󠁢󠁥󠁮󠁧󠁿  A historic feat. for Team India. 🇮🇳💙  #RohitSharma #MSDhoni #ViratKohli #ZIMvIND\n",
      "ABdeVilliers - Viratkohli\n",
      "Every Ball-by-Ball Highlights of Virat Kohli has been uploaded.  Go and Download now!  Link 🔗👇 https://t.me/Trend_VKohli18\n",
      "When to sell a stock by RJ 👇\n",
      "VIDEO OF THE DAY. ❤️  - Virat Kohli went to Rohit Sharma and told him lift the Trophy together at Victory Parade. 🥹🏆\n",
      "Virat kohli\n"
     ]
    }
   ],
   "source": [
    "for i in tweets['tweets']:\n",
    "    print(i['text'])"
   ]
  },
  {
   "cell_type": "code",
   "execution_count": null,
   "id": "952d0dcf-8f0c-4ec0-adae-bc05fea2355a",
   "metadata": {},
   "outputs": [],
   "source": []
  }
 ],
 "metadata": {
  "kernelspec": {
   "display_name": "Python 3 (ipykernel)",
   "language": "python",
   "name": "python3"
  },
  "language_info": {
   "codemirror_mode": {
    "name": "ipython",
    "version": 3
   },
   "file_extension": ".py",
   "mimetype": "text/x-python",
   "name": "python",
   "nbconvert_exporter": "python",
   "pygments_lexer": "ipython3",
   "version": "3.11.5"
  }
 },
 "nbformat": 4,
 "nbformat_minor": 5
}
