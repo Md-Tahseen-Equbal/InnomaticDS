{
 "cells": [
  {
   "cell_type": "markdown",
   "id": "27c03aa7-a42d-4fb2-832e-4770e6c40664",
   "metadata": {},
   "source": [
    "# Tabular Data \n",
    "### Data -> Data Preprocessing -> Structural & Numerical -> ML Algorithms\n",
    "### Data Preprocessing\n",
    "- Missing Values\n",
    "- Duplicates✅\n",
    "- Outliers✅\n",
    "- Structural Errors✅\n",
    "- Encoding / Dummy variables\n",
    "- Feature Scaling✅\n",
    "- Discretization/ Binning\n",
    "\n",
    "https://github.com/nagarajuekkirala/Mindmaps/blob/main/Data%20Preparation\n",
    "\n",
    "## Missing Values\n",
    "##### What are Missing values?\n",
    "- Missing values refer to instances where data points are absent in the dataset.\n",
    "- Common in real-world data due to various reasons.\n",
    "##### Why do missing values occure?\n",
    "- **Data Collection Issues :** Sensor malfunctions, network issues.\n",
    "- **Data Entry Errors :** Typos,Misinterpretation.\n",
    "- **Privacy Concerns :** Opt-out options in surveys.\n",
    "- **Data Processing and Cleaning :** Removal of Outliers.\n",
    "- **Integration from Multiple Sources :** Inconsistent data collection.\n",
    "##### Types of Missing Data : \n",
    "- **MCAR(Missing Completely At Random):** Missingness has no relation to any data.\n",
    "- **MAR(Missing At Random):** Missingness is related to observed data(The feature which does'nt containes missing values.).\n",
    "- **MNAR(Missing Not At Random):** Missingness is related to unobserved data(The feature which containes missing values.).\n",
    "##### How missing values impact ML Models?\n",
    "- **Training Difficulties :** Many agorithms require complete data.\n",
    "- **Increased Complexity :** Additional preprocessing required.\n",
    "- **Bias :** Incorrect imputation can introduce bias.\n",
    "- **Interpretation Issues :** Misleading results from improper handling.\n",
    "##### How to identify Missing Values?\n",
    "- NON-Viz\n",
    "    - isna().sum()\n",
    "    - isnull().sum()\n",
    "- Viz\n",
    "  - Missingno\n",
    "  - seaborn\n",
    "##### Methods to Handle Missing Values: \n",
    "- Drop❌\n",
    "- Imputation(filling)✅\n",
    "  - Univariate\n",
    "    - Simple Imputer(Statistical)\n",
    "  - Multivariate\n",
    "    - KNN Imputer\n",
    "    - Iterative Imputer"
   ]
  },
  {
   "cell_type": "code",
   "execution_count": 1,
   "id": "7c4d8f7e-d3cc-495e-8ec9-dea3f3bf0219",
   "metadata": {},
   "outputs": [],
   "source": [
    "import pandas as pd\n",
    "import numpy as np"
   ]
  },
  {
   "cell_type": "code",
   "execution_count": 2,
   "id": "4425b7ff-4f46-4b3a-8784-2ace6792f217",
   "metadata": {},
   "outputs": [
    {
     "data": {
      "text/html": [
       "<div>\n",
       "<style scoped>\n",
       "    .dataframe tbody tr th:only-of-type {\n",
       "        vertical-align: middle;\n",
       "    }\n",
       "\n",
       "    .dataframe tbody tr th {\n",
       "        vertical-align: top;\n",
       "    }\n",
       "\n",
       "    .dataframe thead th {\n",
       "        text-align: right;\n",
       "    }\n",
       "</style>\n",
       "<table border=\"1\" class=\"dataframe\">\n",
       "  <thead>\n",
       "    <tr style=\"text-align: right;\">\n",
       "      <th></th>\n",
       "      <th>Gender</th>\n",
       "      <th>Exp</th>\n",
       "      <th>Salary</th>\n",
       "    </tr>\n",
       "  </thead>\n",
       "  <tbody>\n",
       "    <tr>\n",
       "      <th>0</th>\n",
       "      <td>Male</td>\n",
       "      <td>2.0</td>\n",
       "      <td>23.0</td>\n",
       "    </tr>\n",
       "    <tr>\n",
       "      <th>1</th>\n",
       "      <td>NaN</td>\n",
       "      <td>4.0</td>\n",
       "      <td>45.0</td>\n",
       "    </tr>\n",
       "    <tr>\n",
       "      <th>2</th>\n",
       "      <td>Female</td>\n",
       "      <td>NaN</td>\n",
       "      <td>65.0</td>\n",
       "    </tr>\n",
       "    <tr>\n",
       "      <th>3</th>\n",
       "      <td>Male</td>\n",
       "      <td>3.0</td>\n",
       "      <td>34.0</td>\n",
       "    </tr>\n",
       "    <tr>\n",
       "      <th>4</th>\n",
       "      <td>Female</td>\n",
       "      <td>8.0</td>\n",
       "      <td>80.0</td>\n",
       "    </tr>\n",
       "    <tr>\n",
       "      <th>5</th>\n",
       "      <td>Male</td>\n",
       "      <td>2.0</td>\n",
       "      <td>NaN</td>\n",
       "    </tr>\n",
       "    <tr>\n",
       "      <th>6</th>\n",
       "      <td>Male</td>\n",
       "      <td>7.0</td>\n",
       "      <td>67.0</td>\n",
       "    </tr>\n",
       "  </tbody>\n",
       "</table>\n",
       "</div>"
      ],
      "text/plain": [
       "   Gender  Exp  Salary\n",
       "0    Male  2.0    23.0\n",
       "1     NaN  4.0    45.0\n",
       "2  Female  NaN    65.0\n",
       "3    Male  3.0    34.0\n",
       "4  Female  8.0    80.0\n",
       "5    Male  2.0     NaN\n",
       "6    Male  7.0    67.0"
      ]
     },
     "execution_count": 2,
     "metadata": {},
     "output_type": "execute_result"
    }
   ],
   "source": [
    "df = pd.DataFrame({\n",
    "    \"Gender\":['Male',np.nan,'Female','Male','Female','Male','Male'],\n",
    "    \"Exp\":[2,4,np.nan,3,8,2,7],\n",
    "    \"Salary\":[23,45,65,34,80,np.nan,67]\n",
    "})\n",
    "df"
   ]
  },
  {
   "cell_type": "markdown",
   "id": "a4036a8d-8168-4300-882c-a0febbffeaa3",
   "metadata": {},
   "source": [
    "## Identification"
   ]
  },
  {
   "cell_type": "code",
   "execution_count": 3,
   "id": "44564adc-d7e0-499b-9339-360d89d97da1",
   "metadata": {},
   "outputs": [
    {
     "data": {
      "text/plain": [
       "Gender    1\n",
       "Exp       1\n",
       "Salary    1\n",
       "dtype: int64"
      ]
     },
     "execution_count": 3,
     "metadata": {},
     "output_type": "execute_result"
    }
   ],
   "source": [
    "df.isna().sum()"
   ]
  },
  {
   "cell_type": "code",
   "execution_count": 4,
   "id": "a523923f-f825-4594-9590-3ec820ae1f8b",
   "metadata": {},
   "outputs": [
    {
     "data": {
      "text/plain": [
       "<Axes: >"
      ]
     },
     "execution_count": 4,
     "metadata": {},
     "output_type": "execute_result"
    },
    {
     "data": {
      "image/png": "[encoded data removed]",
      "text/plain": [
       "<Figure size 640x480 with 2 Axes>"
      ]
     },
     "metadata": {},
     "output_type": "display_data"
    }
   ],
   "source": [
    "import seaborn as sns\n",
    "sns.heatmap(df.isna())"
   ]
  },
  {
   "cell_type": "markdown",
   "id": "4c1df75d-ab3e-40c2-8ad1-839d97f82200",
   "metadata": {},
   "source": [
    "## Imputation\n",
    "### Univariate -> Simple Imputer"
   ]
  },
  {
   "cell_type": "code",
   "execution_count": 5,
   "id": "8a57bb3a-737b-4943-b25e-59837ef54f4a",
   "metadata": {},
   "outputs": [],
   "source": [
    "from sklearn.impute import SimpleImputer"
   ]
  },
  {
   "cell_type": "code",
   "execution_count": 6,
   "id": "b00c9d66-a808-4be7-9d52-1f18fe077222",
   "metadata": {},
   "outputs": [
    {
     "data": {
      "text/html": [
       "<div>\n",
       "<style scoped>\n",
       "    .dataframe tbody tr th:only-of-type {\n",
       "        vertical-align: middle;\n",
       "    }\n",
       "\n",
       "    .dataframe tbody tr th {\n",
       "        vertical-align: top;\n",
       "    }\n",
       "\n",
       "    .dataframe thead th {\n",
       "        text-align: right;\n",
       "    }\n",
       "</style>\n",
       "<table border=\"1\" class=\"dataframe\">\n",
       "  <thead>\n",
       "    <tr style=\"text-align: right;\">\n",
       "      <th></th>\n",
       "      <th>Gender</th>\n",
       "      <th>Exp</th>\n",
       "      <th>Salary</th>\n",
       "    </tr>\n",
       "  </thead>\n",
       "  <tbody>\n",
       "    <tr>\n",
       "      <th>0</th>\n",
       "      <td>Male</td>\n",
       "      <td>2.0</td>\n",
       "      <td>23.0</td>\n",
       "    </tr>\n",
       "    <tr>\n",
       "      <th>1</th>\n",
       "      <td>NaN</td>\n",
       "      <td>4.0</td>\n",
       "      <td>45.0</td>\n",
       "    </tr>\n",
       "    <tr>\n",
       "      <th>2</th>\n",
       "      <td>Female</td>\n",
       "      <td>NaN</td>\n",
       "      <td>65.0</td>\n",
       "    </tr>\n",
       "    <tr>\n",
       "      <th>3</th>\n",
       "      <td>Male</td>\n",
       "      <td>3.0</td>\n",
       "      <td>34.0</td>\n",
       "    </tr>\n",
       "    <tr>\n",
       "      <th>4</th>\n",
       "      <td>Female</td>\n",
       "      <td>8.0</td>\n",
       "      <td>80.0</td>\n",
       "    </tr>\n",
       "    <tr>\n",
       "      <th>5</th>\n",
       "      <td>Male</td>\n",
       "      <td>2.0</td>\n",
       "      <td>NaN</td>\n",
       "    </tr>\n",
       "    <tr>\n",
       "      <th>6</th>\n",
       "      <td>Male</td>\n",
       "      <td>7.0</td>\n",
       "      <td>67.0</td>\n",
       "    </tr>\n",
       "  </tbody>\n",
       "</table>\n",
       "</div>"
      ],
      "text/plain": [
       "   Gender  Exp  Salary\n",
       "0    Male  2.0    23.0\n",
       "1     NaN  4.0    45.0\n",
       "2  Female  NaN    65.0\n",
       "3    Male  3.0    34.0\n",
       "4  Female  8.0    80.0\n",
       "5    Male  2.0     NaN\n",
       "6    Male  7.0    67.0"
      ]
     },
     "execution_count": 6,
     "metadata": {},
     "output_type": "execute_result"
    }
   ],
   "source": [
    "df"
   ]
  },
  {
   "cell_type": "code",
   "execution_count": 7,
   "id": "1310c1d3-fffa-473e-9257-d691af09df08",
   "metadata": {},
   "outputs": [],
   "source": [
    "imp = SimpleImputer(strategy='mean')"
   ]
  },
  {
   "cell_type": "code",
   "execution_count": 8,
   "id": "f2d376f5-1455-419a-a2c3-910dd6fd7e2f",
   "metadata": {},
   "outputs": [],
   "source": [
    "df['Exp'] = imp.fit_transform(df[['Exp']])"
   ]
  },
  {
   "cell_type": "code",
   "execution_count": 9,
   "id": "de079e60-b0b7-45f9-8f67-b3ca45f64a99",
   "metadata": {},
   "outputs": [
    {
     "data": {
      "text/html": [
       "<div>\n",
       "<style scoped>\n",
       "    .dataframe tbody tr th:only-of-type {\n",
       "        vertical-align: middle;\n",
       "    }\n",
       "\n",
       "    .dataframe tbody tr th {\n",
       "        vertical-align: top;\n",
       "    }\n",
       "\n",
       "    .dataframe thead th {\n",
       "        text-align: right;\n",
       "    }\n",
       "</style>\n",
       "<table border=\"1\" class=\"dataframe\">\n",
       "  <thead>\n",
       "    <tr style=\"text-align: right;\">\n",
       "      <th></th>\n",
       "      <th>Gender</th>\n",
       "      <th>Exp</th>\n",
       "      <th>Salary</th>\n",
       "    </tr>\n",
       "  </thead>\n",
       "  <tbody>\n",
       "    <tr>\n",
       "      <th>0</th>\n",
       "      <td>Male</td>\n",
       "      <td>2.000000</td>\n",
       "      <td>23.0</td>\n",
       "    </tr>\n",
       "    <tr>\n",
       "      <th>1</th>\n",
       "      <td>NaN</td>\n",
       "      <td>4.000000</td>\n",
       "      <td>45.0</td>\n",
       "    </tr>\n",
       "    <tr>\n",
       "      <th>2</th>\n",
       "      <td>Female</td>\n",
       "      <td>4.333333</td>\n",
       "      <td>65.0</td>\n",
       "    </tr>\n",
       "    <tr>\n",
       "      <th>3</th>\n",
       "      <td>Male</td>\n",
       "      <td>3.000000</td>\n",
       "      <td>34.0</td>\n",
       "    </tr>\n",
       "    <tr>\n",
       "      <th>4</th>\n",
       "      <td>Female</td>\n",
       "      <td>8.000000</td>\n",
       "      <td>80.0</td>\n",
       "    </tr>\n",
       "    <tr>\n",
       "      <th>5</th>\n",
       "      <td>Male</td>\n",
       "      <td>2.000000</td>\n",
       "      <td>NaN</td>\n",
       "    </tr>\n",
       "    <tr>\n",
       "      <th>6</th>\n",
       "      <td>Male</td>\n",
       "      <td>7.000000</td>\n",
       "      <td>67.0</td>\n",
       "    </tr>\n",
       "  </tbody>\n",
       "</table>\n",
       "</div>"
      ],
      "text/plain": [
       "   Gender       Exp  Salary\n",
       "0    Male  2.000000    23.0\n",
       "1     NaN  4.000000    45.0\n",
       "2  Female  4.333333    65.0\n",
       "3    Male  3.000000    34.0\n",
       "4  Female  8.000000    80.0\n",
       "5    Male  2.000000     NaN\n",
       "6    Male  7.000000    67.0"
      ]
     },
     "execution_count": 9,
     "metadata": {},
     "output_type": "execute_result"
    }
   ],
   "source": [
    "df"
   ]
  },
  {
   "cell_type": "code",
   "execution_count": 10,
   "id": "71c4f369-5706-4025-8d01-6385caaceee5",
   "metadata": {},
   "outputs": [],
   "source": [
    "med_imp = SimpleImputer(strategy='median')"
   ]
  },
  {
   "cell_type": "code",
   "execution_count": 11,
   "id": "08526d23-86b0-430e-809e-37abe90258bc",
   "metadata": {},
   "outputs": [],
   "source": [
    "df['Salary'] = med_imp.fit_transform(df[['Salary']])"
   ]
  },
  {
   "cell_type": "code",
   "execution_count": 12,
   "id": "4fe3c822-3013-4381-a343-1a6a38adea63",
   "metadata": {},
   "outputs": [
    {
     "data": {
      "text/html": [
       "<div>\n",
       "<style scoped>\n",
       "    .dataframe tbody tr th:only-of-type {\n",
       "        vertical-align: middle;\n",
       "    }\n",
       "\n",
       "    .dataframe tbody tr th {\n",
       "        vertical-align: top;\n",
       "    }\n",
       "\n",
       "    .dataframe thead th {\n",
       "        text-align: right;\n",
       "    }\n",
       "</style>\n",
       "<table border=\"1\" class=\"dataframe\">\n",
       "  <thead>\n",
       "    <tr style=\"text-align: right;\">\n",
       "      <th></th>\n",
       "      <th>Gender</th>\n",
       "      <th>Exp</th>\n",
       "      <th>Salary</th>\n",
       "    </tr>\n",
       "  </thead>\n",
       "  <tbody>\n",
       "    <tr>\n",
       "      <th>0</th>\n",
       "      <td>Male</td>\n",
       "      <td>2.000000</td>\n",
       "      <td>23.0</td>\n",
       "    </tr>\n",
       "    <tr>\n",
       "      <th>1</th>\n",
       "      <td>NaN</td>\n",
       "      <td>4.000000</td>\n",
       "      <td>45.0</td>\n",
       "    </tr>\n",
       "    <tr>\n",
       "      <th>2</th>\n",
       "      <td>Female</td>\n",
       "      <td>4.333333</td>\n",
       "      <td>65.0</td>\n",
       "    </tr>\n",
       "    <tr>\n",
       "      <th>3</th>\n",
       "      <td>Male</td>\n",
       "      <td>3.000000</td>\n",
       "      <td>34.0</td>\n",
       "    </tr>\n",
       "    <tr>\n",
       "      <th>4</th>\n",
       "      <td>Female</td>\n",
       "      <td>8.000000</td>\n",
       "      <td>80.0</td>\n",
       "    </tr>\n",
       "    <tr>\n",
       "      <th>5</th>\n",
       "      <td>Male</td>\n",
       "      <td>2.000000</td>\n",
       "      <td>55.0</td>\n",
       "    </tr>\n",
       "    <tr>\n",
       "      <th>6</th>\n",
       "      <td>Male</td>\n",
       "      <td>7.000000</td>\n",
       "      <td>67.0</td>\n",
       "    </tr>\n",
       "  </tbody>\n",
       "</table>\n",
       "</div>"
      ],
      "text/plain": [
       "   Gender       Exp  Salary\n",
       "0    Male  2.000000    23.0\n",
       "1     NaN  4.000000    45.0\n",
       "2  Female  4.333333    65.0\n",
       "3    Male  3.000000    34.0\n",
       "4  Female  8.000000    80.0\n",
       "5    Male  2.000000    55.0\n",
       "6    Male  7.000000    67.0"
      ]
     },
     "execution_count": 12,
     "metadata": {},
     "output_type": "execute_result"
    }
   ],
   "source": [
    "df"
   ]
  },
  {
   "cell_type": "code",
   "execution_count": 13,
   "id": "316a031a-62af-4563-abad-7129606c6532",
   "metadata": {},
   "outputs": [],
   "source": [
    "mode_imp = SimpleImputer(strategy='most_frequent')"
   ]
  },
  {
   "cell_type": "code",
   "execution_count": 14,
   "id": "135fbd21-c0d7-4c3c-a6cc-3b5076f494f5",
   "metadata": {},
   "outputs": [],
   "source": [
    "df[['Gender']] = mode_imp.fit_transform(df[['Gender']])"
   ]
  },
  {
   "cell_type": "code",
   "execution_count": 15,
   "id": "1cb61a84-54a7-4d1e-b17d-a86656c01e79",
   "metadata": {},
   "outputs": [
    {
     "data": {
      "text/html": [
       "<div>\n",
       "<style scoped>\n",
       "    .dataframe tbody tr th:only-of-type {\n",
       "        vertical-align: middle;\n",
       "    }\n",
       "\n",
       "    .dataframe tbody tr th {\n",
       "        vertical-align: top;\n",
       "    }\n",
       "\n",
       "    .dataframe thead th {\n",
       "        text-align: right;\n",
       "    }\n",
       "</style>\n",
       "<table border=\"1\" class=\"dataframe\">\n",
       "  <thead>\n",
       "    <tr style=\"text-align: right;\">\n",
       "      <th></th>\n",
       "      <th>Gender</th>\n",
       "      <th>Exp</th>\n",
       "      <th>Salary</th>\n",
       "    </tr>\n",
       "  </thead>\n",
       "  <tbody>\n",
       "    <tr>\n",
       "      <th>0</th>\n",
       "      <td>Male</td>\n",
       "      <td>2.000000</td>\n",
       "      <td>23.0</td>\n",
       "    </tr>\n",
       "    <tr>\n",
       "      <th>1</th>\n",
       "      <td>Male</td>\n",
       "      <td>4.000000</td>\n",
       "      <td>45.0</td>\n",
       "    </tr>\n",
       "    <tr>\n",
       "      <th>2</th>\n",
       "      <td>Female</td>\n",
       "      <td>4.333333</td>\n",
       "      <td>65.0</td>\n",
       "    </tr>\n",
       "    <tr>\n",
       "      <th>3</th>\n",
       "      <td>Male</td>\n",
       "      <td>3.000000</td>\n",
       "      <td>34.0</td>\n",
       "    </tr>\n",
       "    <tr>\n",
       "      <th>4</th>\n",
       "      <td>Female</td>\n",
       "      <td>8.000000</td>\n",
       "      <td>80.0</td>\n",
       "    </tr>\n",
       "    <tr>\n",
       "      <th>5</th>\n",
       "      <td>Male</td>\n",
       "      <td>2.000000</td>\n",
       "      <td>55.0</td>\n",
       "    </tr>\n",
       "    <tr>\n",
       "      <th>6</th>\n",
       "      <td>Male</td>\n",
       "      <td>7.000000</td>\n",
       "      <td>67.0</td>\n",
       "    </tr>\n",
       "  </tbody>\n",
       "</table>\n",
       "</div>"
      ],
      "text/plain": [
       "   Gender       Exp  Salary\n",
       "0    Male  2.000000    23.0\n",
       "1    Male  4.000000    45.0\n",
       "2  Female  4.333333    65.0\n",
       "3    Male  3.000000    34.0\n",
       "4  Female  8.000000    80.0\n",
       "5    Male  2.000000    55.0\n",
       "6    Male  7.000000    67.0"
      ]
     },
     "execution_count": 15,
     "metadata": {},
     "output_type": "execute_result"
    }
   ],
   "source": [
    "df"
   ]
  },
  {
   "cell_type": "markdown",
   "id": "15ff9d11-8173-41dd-9f7f-419b885b2174",
   "metadata": {},
   "source": [
    "### Multivariate -> KNN Imputer\n",
    "https://scikit-learn.org/stable/modules/generated/sklearn.metrics.pairwise.nan_euclidean_distances.html"
   ]
  },
  {
   "cell_type": "code",
   "execution_count": 16,
   "id": "90199dda-b9eb-4396-b875-7df65f1781e8",
   "metadata": {},
   "outputs": [],
   "source": [
    "from sklearn.impute import KNNImputer"
   ]
  },
  {
   "cell_type": "code",
   "execution_count": 17,
   "id": "4a67830a-22e3-45e8-a17c-0dc49f9a8c8b",
   "metadata": {},
   "outputs": [],
   "source": [
    "df = pd.DataFrame({\"Exp\":[1,2,3,4,5,6,7,8],\n",
    "                  \"Salary\":[10,20,np.nan,40,50,60,70,80]})"
   ]
  },
  {
   "cell_type": "code",
   "execution_count": 18,
   "id": "9ec08fd4-b388-4f09-aada-0c71c4c89b3a",
   "metadata": {},
   "outputs": [],
   "source": [
    "knn = KNNImputer(n_neighbors=2)"
   ]
  },
  {
   "cell_type": "code",
   "execution_count": 19,
   "id": "6606a390-4d19-4dc3-bfc0-cb6632f0bc64",
   "metadata": {},
   "outputs": [
    {
     "data": {
      "text/plain": [
       "array([[ 1., 10.],\n",
       "       [ 2., 20.],\n",
       "       [ 3., 30.],\n",
       "       [ 4., 40.],\n",
       "       [ 5., 50.],\n",
       "       [ 6., 60.],\n",
       "       [ 7., 70.],\n",
       "       [ 8., 80.]])"
      ]
     },
     "execution_count": 19,
     "metadata": {},
     "output_type": "execute_result"
    }
   ],
   "source": [
    "knn.fit_transform(df)"
   ]
  },
  {
   "cell_type": "markdown",
   "id": "7472b1b1-d2e4-40c2-9add-56095f7d9907",
   "metadata": {},
   "source": [
    "### Iterative Imputer\n",
    "- workes based on algorithm it can be any algorithm w.r.t user, but only 1 algorithm."
   ]
  },
  {
   "cell_type": "code",
   "execution_count": 22,
   "id": "c0c78dea-5e34-40d8-9573-3f66da895891",
   "metadata": {},
   "outputs": [],
   "source": [
    "from sklearn.impute import IterativeImputer\n",
    "from sklearn.experimental import enable_iterative_imputer"
   ]
  },
  {
   "cell_type": "code",
   "execution_count": 25,
   "id": "ef7462ff-fe83-4cce-a662-6d806a742698",
   "metadata": {},
   "outputs": [],
   "source": [
    "from sklearn.linear_model import LinearRegression"
   ]
  },
  {
   "cell_type": "code",
   "execution_count": 26,
   "id": "6c02c963-1748-4822-aa26-419e4c8f08b3",
   "metadata": {},
   "outputs": [],
   "source": [
    "iterative = IterativeImputer(estimator=LinearRegression(),random_state=23)"
   ]
  },
  {
   "cell_type": "code",
   "execution_count": 27,
   "id": "9da918cd-9de5-4eb2-bbaf-b59acf276c04",
   "metadata": {},
   "outputs": [
    {
     "data": {
      "text/plain": [
       "array([[ 1., 10.],\n",
       "       [ 2., 20.],\n",
       "       [ 3., 30.],\n",
       "       [ 4., 40.],\n",
       "       [ 5., 50.],\n",
       "       [ 6., 60.],\n",
       "       [ 7., 70.],\n",
       "       [ 8., 80.]])"
      ]
     },
     "execution_count": 27,
     "metadata": {},
     "output_type": "execute_result"
    }
   ],
   "source": [
    "iterative.fit_transform(df)"
   ]
  },
  {
   "cell_type": "code",
   "execution_count": null,
   "id": "868fa129-c8d0-49c7-90ef-b169bd5ee5b8",
   "metadata": {},
   "outputs": [],
   "source": []
  }
 ],
 "metadata": {
  "kernelspec": {
   "display_name": "Python 3 (ipykernel)",
   "language": "python",
   "name": "python3"
  },
  "language_info": {
   "codemirror_mode": {
    "name": "ipython",
    "version": 3
   },
   "file_extension": ".py",
   "mimetype": "text/x-python",
   "name": "python",
   "nbconvert_exporter": "python",
   "pygments_lexer": "ipython3",
   "version": "3.11.5"
  }
 },
 "nbformat": 4,
 "nbformat_minor": 5
}
